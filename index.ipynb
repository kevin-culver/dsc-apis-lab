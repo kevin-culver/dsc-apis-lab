{
 "cells": [
  {
   "cell_type": "markdown",
   "metadata": {},
   "source": [
    "# APIs - Cumulative Lab\n",
    "\n",
    "\n",
    "## Introduction \n",
    "\n",
    "We've seen how the Yelp API works and how to create basic visualizations using Folium. It's time to put those skills to work in order to create a working map! Taking things a step further, you'll also independently explore how to perform pagination in order to retrieve a full results set from the Yelp API.\n",
    "\n",
    "## Objectives\n",
    "\n",
    "You will be able to: \n",
    "\n",
    "* Practice using functions to organize your code\n",
    "* Use pagination to retrieve all results from an API query\n",
    "* Practice parsing data returned from an API query\n",
    "* Practice interpreting visualizations of a dataset\n",
    "* Create maps using Folium"
   ]
  },
  {
   "cell_type": "markdown",
   "metadata": {},
   "source": [
    "## Your Task: Query Yelp for All Businesses in a Category and Analyze the Results\n",
    "\n",
    "![restaurant counter with pizza](images/restaurant_counter.jpg)\n",
    "\n",
    "Photo by <a href=\"https://unsplash.com/@jordanmadrid?utm_source=unsplash&utm_medium=referral&utm_content=creditCopyText\">Jordan Madrid</a> on <a href=\"/s/photos/pizza-restaurant?utm_source=unsplash&utm_medium=referral&utm_content=creditCopyText\">Unsplash</a>"
   ]
  },
  {
   "cell_type": "markdown",
   "metadata": {},
   "source": [
    "### Overview\n",
    "\n",
    "You've now worked with some API calls, but we have yet to see how to retrieve a more complete dataset in a programmatic manner. In this lab, you will write a query of businesses on Yelp, then use *pagination* to retrieve all possible results for that query. Then you will create a summary of your findings, including a Folium map of the geographic locations of those businesses.\n",
    "\n",
    "### Technical Details\n",
    "\n",
    "Returning to the Yelp API, the [documentation](https://www.yelp.com/developers/documentation/v3/business_search) also provides us details regarding the **API limits**. These often include details about the number of requests a user is allowed to make within a specified time limit and the maximum number of results to be returned. In this case, we are told that any request has a **maximum of 50 results per request** and defaults to 20. Furthermore, any search will be limited to a **total of 1000 results**. To retrieve all 1000 of these results, we would have to page through the results piece by piece, retrieving 50 at a time. Processes such as these are often referred to as pagination.\n",
    "\n",
    "Also, be mindful of the **API** ***rate*** **limits**. You can only make **5000 requests per day** and are also can make requests too fast. Start prototyping small before running a loop that could be faulty. You can also use `time.sleep(n)` to add delays. For more details see https://www.yelp.com/developers/documentation/v3/rate_limiting.\n",
    "\n",
    "In this lab, you will define a search and then paginate over the results to retrieve all of the results. You'll then parse these responses as a list of dictionaries (for further exploration) and create a map using Folium to visualize the results geographically.\n",
    "\n",
    "### Requirements\n",
    "\n",
    "#### 1. Make the Initial Request\n",
    "\n",
    "Start by filling in your API key to make the initial request to the business search API. Investigate the structure of the response you get back and start figuring out how you will extract the relevant information.\n",
    "\n",
    "#### 2. Add Pagination\n",
    "\n",
    "Using loops and functions, collect the maximum number of results for your query from the API.\n",
    "\n",
    "#### 3. Perform Exploratory Analysis\n",
    "\n",
    "Interpret visualizations related to the price range, average rating, and number of reviews for all query results.\n",
    "\n",
    "#### 4. Create a Folium Map\n",
    "\n",
    "Using latitude and longitude data, plot the query results on an interactive map."
   ]
  },
  {
   "cell_type": "markdown",
   "metadata": {},
   "source": [
    "## 1. Make the Initial Request\n",
    "\n",
    "### Querying\n",
    "\n",
    "Start by making an initial request to the Yelp API. Your search must include at least 2 parameters: **term** and **location**. For example, you might search for pizza restaurants in NYC. The term and location is up to you but make the request below.\n",
    "\n",
    "Use the `requests` library ([documentation here](https://requests.readthedocs.io/en/master/user/quickstart/#make-a-request)).\n",
    "\n",
    "You'll also need an API key from Yelp. If you haven't done this already, go to the Yelp [Manage App page](https://www.yelp.com/developers/v3/manage_app) and create a new app (after making an account if you haven't already)."
   ]
  },
  {
   "cell_type": "code",
   "execution_count": 7,
   "metadata": {},
   "outputs": [],
   "source": [
    "import json\n",
    "\n",
    "def get_key(source):\n",
    "    with open(source) as f:\n",
    "        return json.load(f)\n",
    "\n",
    "#keys = get_key(\"/Users/add source if needing to run again\n",
    "#api_key = keys['api_key']"
   ]
  },
  {
   "cell_type": "code",
   "execution_count": 8,
   "metadata": {},
   "outputs": [
    {
     "data": {
      "text/plain": [
       "200"
      ]
     },
     "execution_count": 8,
     "metadata": {},
     "output_type": "execute_result"
    }
   ],
   "source": [
    "# Import the requests library\n",
    "import requests\n",
    "\n",
    "# These can be whatever you want! But the solution uses \"pizza\"\n",
    "# and \"New York NY\" if you want to compare your work directly\n",
    "term = \"pizza\"\n",
    "location = \"New York NY\"\n",
    "\n",
    "# Set up params for request\n",
    "url = \"https://api.yelp.com/v3/businesses/search\"\n",
    "headers = {\n",
    "    \"Authorization\": \"Bearer {}\".format(api_key)\n",
    "}\n",
    "url_params = {\n",
    "    \"term\": term.replace(\" \", \"+\"),\n",
    "    \"location\": location.replace(\" \", \"+\")\n",
    "}\n",
    "\n",
    "# Make the request using requests.get, passing in\n",
    "# url, headers=headers, and params=url_params\n",
    "response = requests.get(url, headers=headers, params=url_params)\n",
    "\n",
    "# Confirm we got a 200 response\n",
    "response.status_code"
   ]
  },
  {
   "cell_type": "code",
   "execution_count": 9,
   "metadata": {},
   "outputs": [
    {
     "data": {
      "text/plain": [
       "dict_keys(['businesses', 'total', 'region'])"
      ]
     },
     "execution_count": 9,
     "metadata": {},
     "output_type": "execute_result"
    }
   ],
   "source": [
    "# Run this cell without changes\n",
    "\n",
    "# Get the response body in JSON format\n",
    "response_json = response.json()\n",
    "# View the keys\n",
    "response_json.keys()"
   ]
  },
  {
   "cell_type": "markdown",
   "metadata": {},
   "source": [
    "### Extracting Data\n",
    "\n",
    "Now, retrieve the value associated with the `'businesses'` key, and inspect its contents."
   ]
  },
  {
   "cell_type": "code",
   "execution_count": 10,
   "metadata": {},
   "outputs": [
    {
     "data": {
      "text/plain": [
       "[{'id': 'zj8Lq1T8KIC5zwFief15jg',\n",
       "  'alias': 'prince-street-pizza-new-york-2',\n",
       "  'name': 'Prince Street Pizza',\n",
       "  'image_url': 'https://s3-media3.fl.yelpcdn.com/bphoto/ZAukOyv530w4KjOHC5YY1w/o.jpg',\n",
       "  'is_closed': False,\n",
       "  'url': 'https://www.yelp.com/biz/prince-street-pizza-new-york-2?adjust_creative=3QHFSaQ3qv30Qn6OmxIwpA&utm_campaign=yelp_api_v3&utm_medium=api_v3_business_search&utm_source=3QHFSaQ3qv30Qn6OmxIwpA',\n",
       "  'review_count': 4011,\n",
       "  'categories': [{'alias': 'pizza', 'title': 'Pizza'},\n",
       "   {'alias': 'italian', 'title': 'Italian'}],\n",
       "  'rating': 4.5,\n",
       "  'coordinates': {'latitude': 40.72308755605564,\n",
       "   'longitude': -73.99453001177575},\n",
       "  'transactions': ['pickup', 'delivery'],\n",
       "  'price': '$',\n",
       "  'location': {'address1': '27 Prince St',\n",
       "   'address2': None,\n",
       "   'address3': '',\n",
       "   'city': 'New York',\n",
       "   'zip_code': '10012',\n",
       "   'country': 'US',\n",
       "   'state': 'NY',\n",
       "   'display_address': ['27 Prince St', 'New York, NY 10012']},\n",
       "  'phone': '+12129664100',\n",
       "  'display_phone': '(212) 966-4100',\n",
       "  'distance': 1961.8771417367063},\n",
       " {'id': 'ysqgdbSrezXgVwER2kQWKA',\n",
       "  'alias': 'julianas-brooklyn-3',\n",
       "  'name': \"Juliana's\",\n",
       "  'image_url': 'https://s3-media2.fl.yelpcdn.com/bphoto/clscwgOF9_Ecq-Rwsq7jyQ/o.jpg',\n",
       "  'is_closed': False,\n",
       "  'url': 'https://www.yelp.com/biz/julianas-brooklyn-3?adjust_creative=3QHFSaQ3qv30Qn6OmxIwpA&utm_campaign=yelp_api_v3&utm_medium=api_v3_business_search&utm_source=3QHFSaQ3qv30Qn6OmxIwpA',\n",
       "  'review_count': 2353,\n",
       "  'categories': [{'alias': 'pizza', 'title': 'Pizza'}],\n",
       "  'rating': 4.5,\n",
       "  'coordinates': {'latitude': 40.70274718768062,\n",
       "   'longitude': -73.99343490196397},\n",
       "  'transactions': ['delivery'],\n",
       "  'price': '$$',\n",
       "  'location': {'address1': '19 Old Fulton St',\n",
       "   'address2': '',\n",
       "   'address3': '',\n",
       "   'city': 'Brooklyn',\n",
       "   'zip_code': '11201',\n",
       "   'country': 'US',\n",
       "   'state': 'NY',\n",
       "   'display_address': ['19 Old Fulton St', 'Brooklyn, NY 11201']},\n",
       "  'phone': '+17185966700',\n",
       "  'display_phone': '(718) 596-6700',\n",
       "  'distance': 308.56984360837544}]"
      ]
     },
     "execution_count": 10,
     "metadata": {},
     "output_type": "execute_result"
    }
   ],
   "source": [
    "# Replace None with appropriate code\n",
    "\n",
    "# Retrieve the value from response_json\n",
    "businesses = response_json['businesses']\n",
    "\n",
    "# View the first 2 records\n",
    "businesses[:2]\n"
   ]
  },
  {
   "cell_type": "markdown",
   "metadata": {},
   "source": [
    "### Preparing Data\n",
    "\n",
    "Write a function `prepare_data` that takes in a list of dictionaries like `businesses` and returns a copy that has been prepared for analysis:\n",
    "\n",
    "1. The `coordinates` key-value pair has been converted into two separate key-value pairs, `latitude` and `longitude`\n",
    "2. All other key-value pairs except for `name`, `review_count`, `rating`, and `price` have been dropped\n",
    "3. All dictionaries missing one of the relevant keys or containing null values have been dropped\n",
    "\n",
    "In other words, the final keys for each dictionary should be `name`, `review_count`, `rating`, `price`, `latitude`, and `longitude`.\n",
    "\n",
    "Complete the function in the cell below:"
   ]
  },
  {
   "cell_type": "code",
   "execution_count": 13,
   "metadata": {},
   "outputs": [
    {
     "data": {
      "text/plain": [
       "[{'name': 'Prince Street Pizza',\n",
       "  'review_count': 4011,\n",
       "  'rating': 4.5,\n",
       "  'price': '$',\n",
       "  'latitude': 40.72308755605564,\n",
       "  'longitude': -73.99453001177575},\n",
       " {'name': \"Juliana's\",\n",
       "  'review_count': 2353,\n",
       "  'rating': 4.5,\n",
       "  'price': '$$',\n",
       "  'latitude': 40.70274718768062,\n",
       "  'longitude': -73.99343490196397},\n",
       " {'name': 'Rubirosa',\n",
       "  'review_count': 2467,\n",
       "  'rating': 4.5,\n",
       "  'price': '$$',\n",
       "  'latitude': 40.722766,\n",
       "  'longitude': -73.996233},\n",
       " {'name': \"Lombardi's Pizza\",\n",
       "  'review_count': 6197,\n",
       "  'rating': 4.0,\n",
       "  'price': '$$',\n",
       "  'latitude': 40.7215934960083,\n",
       "  'longitude': -73.9955956044561},\n",
       " {'name': 'Lucali',\n",
       "  'review_count': 1722,\n",
       "  'rating': 4.0,\n",
       "  'price': '$$',\n",
       "  'latitude': 40.6818,\n",
       "  'longitude': -74.00024},\n",
       " {'name': \"Roberta's\",\n",
       "  'review_count': 3014,\n",
       "  'rating': 4.0,\n",
       "  'price': '$$',\n",
       "  'latitude': 40.70493,\n",
       "  'longitude': -73.93399},\n",
       " {'name': \"Joe's Pizza\",\n",
       "  'review_count': 2688,\n",
       "  'rating': 4.0,\n",
       "  'price': '$',\n",
       "  'latitude': 40.73060076,\n",
       "  'longitude': -74.00215997},\n",
       " {'name': \"Grimaldi's Pizzeria\",\n",
       "  'review_count': 4693,\n",
       "  'rating': 3.5,\n",
       "  'price': '$$',\n",
       "  'latitude': 40.702583,\n",
       "  'longitude': -73.9932413},\n",
       " {'name': \"Joe's Pizza\",\n",
       "  'review_count': 950,\n",
       "  'rating': 4.0,\n",
       "  'price': '$',\n",
       "  'latitude': 40.73331,\n",
       "  'longitude': -73.98763},\n",
       " {'name': 'Di Fara Pizza',\n",
       "  'review_count': 3660,\n",
       "  'rating': 4.0,\n",
       "  'price': '$$',\n",
       "  'latitude': 40.625093,\n",
       "  'longitude': -73.961531},\n",
       " {'name': \"L'industrie Pizzeria\",\n",
       "  'review_count': 606,\n",
       "  'rating': 4.5,\n",
       "  'price': '$',\n",
       "  'latitude': 40.71162,\n",
       "  'longitude': -73.95783},\n",
       " {'name': \"John's of Bleecker Street\",\n",
       "  'review_count': 2167,\n",
       "  'rating': 4.0,\n",
       "  'price': '$$',\n",
       "  'latitude': 40.73158,\n",
       "  'longitude': -74.00332},\n",
       " {'name': \"Scarr's Pizza\",\n",
       "  'review_count': 510,\n",
       "  'rating': 4.0,\n",
       "  'price': '$',\n",
       "  'latitude': 40.71534,\n",
       "  'longitude': -73.9914},\n",
       " {'name': \"Luigi's Pizza\",\n",
       "  'review_count': 364,\n",
       "  'rating': 4.5,\n",
       "  'price': '$',\n",
       "  'latitude': 40.66163,\n",
       "  'longitude': -73.99334},\n",
       " {'name': \"Lombardo's of Bay Ridge\",\n",
       "  'review_count': 156,\n",
       "  'rating': 5.0,\n",
       "  'price': '$$',\n",
       "  'latitude': 40.634741,\n",
       "  'longitude': -74.0284259},\n",
       " {'name': 'Bleecker Street Pizza',\n",
       "  'review_count': 2474,\n",
       "  'rating': 4.0,\n",
       "  'price': '$',\n",
       "  'latitude': 40.7320627016512,\n",
       "  'longitude': -74.0036552270137},\n",
       " {'name': \"Paulie Gee's\",\n",
       "  'review_count': 1289,\n",
       "  'rating': 4.5,\n",
       "  'price': '$$',\n",
       "  'latitude': 40.729546,\n",
       "  'longitude': -73.958568},\n",
       " {'name': \"Lil Frankie's\",\n",
       "  'review_count': 1238,\n",
       "  'rating': 4.0,\n",
       "  'price': '$$',\n",
       "  'latitude': 40.723625,\n",
       "  'longitude': -73.988555},\n",
       " {'name': \"Joe's Pizza\",\n",
       "  'review_count': 367,\n",
       "  'rating': 4.0,\n",
       "  'price': '$',\n",
       "  'latitude': 40.71691,\n",
       "  'longitude': -73.958987},\n",
       " {'name': 'East Village Pizza',\n",
       "  'review_count': 385,\n",
       "  'rating': 4.0,\n",
       "  'price': '$',\n",
       "  'latitude': 40.728199,\n",
       "  'longitude': -73.985182}]"
      ]
     },
     "execution_count": 13,
     "metadata": {},
     "output_type": "execute_result"
    }
   ],
   "source": [
    "# Replace None with appropriate code\n",
    "\n",
    "def prepare_data_refined(data_list):\n",
    "    \"\"\"\n",
    "    This function takes in a list of dictionaries and prepares it\n",
    "    for analysis\n",
    "    \"\"\"\n",
    "    \n",
    "    # Make a new list to hold results\n",
    "    results = []\n",
    "    \n",
    "    for business_data in data_list:\n",
    "    \n",
    "        # Make a new dictionary to hold prepared data for this business\n",
    "        prepared_data = {}\n",
    "        \n",
    "        # Extract name, review_count, rating, and price key-value pairs\n",
    "        # from business_data and add to prepared_data\n",
    "        # If a key is not present in business_data, add it to prepared_data\n",
    "        # with an associated value of None\n",
    "        for key in ('name', 'review_count', 'rating', 'price'):\n",
    "            prepared_data[key] = business_data.get(key, None)\n",
    "        # Parse and add latitude and longitude columns\n",
    "        coordinates = business_data['coordinates']\n",
    "        prepared_data['latitude'] = coordinates['latitude']\n",
    "        prepared_data['longitude'] = coordinates['longitude']\n",
    "        \n",
    "        # Add to list if all values are present\n",
    "        if all(prepared_data.values()):\n",
    "            results.append(prepared_data)\n",
    "    \n",
    "    return results\n",
    "    \n",
    "# Test out function\n",
    "prepared_businesses = prepare_data_refined(businesses)\n",
    "prepared_businesses"
   ]
  },
  {
   "cell_type": "markdown",
   "metadata": {},
   "source": [
    "Check that your function created the correct keys:"
   ]
  },
  {
   "cell_type": "code",
   "execution_count": 14,
   "metadata": {},
   "outputs": [],
   "source": [
    "# Run this cell without changes\n",
    "\n",
    "assert sorted(list(prepared_businesses[0].keys())) == ['latitude', 'longitude', 'name', 'price', 'rating', 'review_count']"
   ]
  },
  {
   "cell_type": "markdown",
   "metadata": {},
   "source": [
    "The following code will differ depending on your query, but we expect there to be 20 businesses in the original list, and potentially fewer in the prepared list (if any of them were missing data):"
   ]
  },
  {
   "cell_type": "code",
   "execution_count": 15,
   "metadata": {},
   "outputs": [
    {
     "name": "stdout",
     "output_type": "stream",
     "text": [
      "Original: 20\n",
      "Prepared: 20\n"
     ]
    }
   ],
   "source": [
    "# Run this cell without changes\n",
    "print(\"Original:\", len(businesses))\n",
    "print(\"Prepared:\", len(prepared_businesses))"
   ]
  },
  {
   "cell_type": "markdown",
   "metadata": {},
   "source": [
    "Great! We will reuse this function once we have retrieved the full dataset."
   ]
  },
  {
   "cell_type": "markdown",
   "metadata": {},
   "source": [
    "## 2. Add Pagination\n",
    "\n",
    "Now that you are able to extract information from one page of the response, let's figure out how to request as many pages as possible.\n",
    "\n",
    "### Determining the Total\n",
    "\n",
    "Depending on the number of total results for your query, you will either retrieve all of the results, or just the first 1000 (if there are more than 1000 total).\n",
    "\n",
    "We can find the total number of results using the `\"total\"` key:"
   ]
  },
  {
   "cell_type": "code",
   "execution_count": 16,
   "metadata": {},
   "outputs": [
    {
     "data": {
      "text/plain": [
       "240"
      ]
     },
     "execution_count": 16,
     "metadata": {},
     "output_type": "execute_result"
    }
   ],
   "source": [
    "# Run this cell without changes\n",
    "response_json[\"total\"]"
   ]
  },
  {
   "cell_type": "markdown",
   "metadata": {},
   "source": [
    "(This is specific to the implementation of the Yelp API. Some APIs will just tell you that there are more pages, or will tell you the number of pages total, rather than the total number of results. If you're not sure, always check the documentation.)\n",
    "\n",
    "In the cell below, assign the variable `total` to either the value shown above (if it is less than 1000), or 1000."
   ]
  },
  {
   "cell_type": "code",
   "execution_count": 17,
   "metadata": {},
   "outputs": [],
   "source": [
    "# Replace None wi/th appropriate code\n",
    "total = 240"
   ]
  },
  {
   "cell_type": "markdown",
   "metadata": {},
   "source": [
    "### Calculating the Offsets\n",
    "\n",
    "The documentation states in the parameters section:\n",
    "\n",
    "> **Name**: `limit`, **Type:** int, **Description:** Optional. Number of business results to return. By default, it will return 20. Maximum is 50.\n",
    "\n",
    "> **Name**: `offset`, **Type:** int, **Description:** Optional. Offset the list of returned business results by this amount.\n",
    "\n",
    "So, to get the most results with the fewest API calls we want to set a limit of 50 every time. If, say, we wanted to get 210 total results, that would mean:\n",
    "\n",
    "1. Offset of `0` (first 50 records)\n",
    "2. Offset of `50` (second 50 records)\n",
    "3. Offset of `100` (third 50 records)\n",
    "4. Offset of `150` (fourth 50 records)\n",
    "5. Offset of `200` (final 10 records)\n",
    "\n",
    "In the cell below, create a function `get_offsets` that takes in a total and returns a list of offsets for that total. You can assume that there is a limit of 50 every time.\n",
    "\n",
    "*Hint: you can use `range` ([documentation here](https://docs.python.org/3.3/library/stdtypes.html?highlight=range#range)) to do this in one line of code. Just make the returned result is a list.*"
   ]
  },
  {
   "cell_type": "code",
   "execution_count": 18,
   "metadata": {},
   "outputs": [],
   "source": [
    "# Replace None with appropriate code\n",
    "def get_offsets(total):\n",
    "    \"\"\"\n",
    "    Get a list of offsets needed to get all pages\n",
    "    of data up until the total\n",
    "    \"\"\"\n",
    "    return list(range(0, total, 50))"
   ]
  },
  {
   "cell_type": "markdown",
   "metadata": {},
   "source": [
    "Check that your function works below:"
   ]
  },
  {
   "cell_type": "code",
   "execution_count": 19,
   "metadata": {},
   "outputs": [],
   "source": [
    "# Run this cell without changes\n",
    "\n",
    "assert get_offsets(200) == [0, 50, 100, 150]\n",
    "assert get_offsets(210) == [0, 50, 100, 150, 200]"
   ]
  },
  {
   "cell_type": "markdown",
   "metadata": {},
   "source": [
    "### Putting It All Together\n",
    "\n",
    "Recall that the following variable has already been declared for you:"
   ]
  },
  {
   "cell_type": "code",
   "execution_count": 20,
   "metadata": {},
   "outputs": [
    {
     "data": {
      "text/plain": [
       "{'term': 'pizza', 'location': 'New+York+NY'}"
      ]
     },
     "execution_count": 20,
     "metadata": {},
     "output_type": "execute_result"
    }
   ],
   "source": [
    "# Run this cell without changes\n",
    "url_params"
   ]
  },
  {
   "cell_type": "markdown",
   "metadata": {},
   "source": [
    "We'll go ahead and also specify that the limit should be 50 every time:"
   ]
  },
  {
   "cell_type": "code",
   "execution_count": 21,
   "metadata": {},
   "outputs": [
    {
     "data": {
      "text/plain": [
       "{'term': 'pizza', 'location': 'New+York+NY', 'limit': 50}"
      ]
     },
     "execution_count": 21,
     "metadata": {},
     "output_type": "execute_result"
    }
   ],
   "source": [
    "# Run this cell without changes\n",
    "url_params[\"limit\"] = 50\n",
    "\n",
    "url_params"
   ]
  },
  {
   "cell_type": "markdown",
   "metadata": {},
   "source": [
    "In order to modify the offset, you'll need to add it to `url_params` with the key `\"offset\"` and whatever value is needed.\n",
    "\n",
    "In the cell below, write code that:\n",
    "\n",
    "* Creates an empty list for the full prepared dataset\n",
    "* Loops over all of the offsets from `get_offsets` and makes an API call each time with the specified offset\n",
    "* Calls `prepare_data` to get a cleaned version of the result of each API call\n",
    "* Extends the full prepared dataset list with each query's prepared dataset"
   ]
  },
  {
   "cell_type": "code",
   "execution_count": 22,
   "metadata": {},
   "outputs": [
    {
     "data": {
      "text/plain": [
       "[0, 50, 100, 150, 200]"
      ]
     },
     "execution_count": 22,
     "metadata": {},
     "output_type": "execute_result"
    }
   ],
   "source": [
    "get_offsets(total)"
   ]
  },
  {
   "cell_type": "code",
   "execution_count": 24,
   "metadata": {},
   "outputs": [
    {
     "name": "stdout",
     "output_type": "stream",
     "text": [
      "'businesses'\n"
     ]
    },
    {
     "data": {
      "text/plain": [
       "157"
      ]
     },
     "execution_count": 24,
     "metadata": {},
     "output_type": "execute_result"
    }
   ],
   "source": [
    "full_dataset = []\n",
    "\n",
    "for offset in get_offsets(total):\n",
    "    # Add or update the \"offset\" key-value pair in url_params\n",
    "    url_params[\"offset\"] = offset\n",
    "    \n",
    "    # Make the query and get the response\n",
    "    response = requests.get(url, headers=headers, params=url_params)\n",
    "    \n",
    "    # Get the response body in JSON format\n",
    "    response_json = response.json()\n",
    "    \n",
    "    try: \n",
    "        #print(response_json['businesses'])\n",
    "        business_list = response_json['businesses']\n",
    "        # Get the list of businesses from the response_json\n",
    "\n",
    "\n",
    "        # Call the prepare_data function to get a list of processed data\n",
    "        prepared_businesses = prepare_data_refined(business_list)\n",
    "\n",
    "        # Extend full_dataset with this list (don't append, or you'll get\n",
    "        # a list of lists instead of a flat list)\n",
    "        full_dataset.extend(prepared_businesses)\n",
    "    except Exception as e:\n",
    "        print(e)\n",
    "\n",
    "# Check the length of the full dataset. It will be up to `total`,\n",
    "# potentially less if there were missing values\n",
    "len(full_dataset)"
   ]
  },
  {
   "cell_type": "markdown",
   "metadata": {},
   "source": [
    "This code may take up to a few minutes to run.\n",
    "\n",
    "If you get an error trying to get the response body in JSON format, try adding `time.sleep(1)` right after the `requests.get` line, so your code will sleep for 1 second between each API call."
   ]
  },
  {
   "cell_type": "markdown",
   "metadata": {},
   "source": [
    "## 3. Perform Exploratory Analysis\n",
    "\n",
    "Take the businesses from the previous question and do an initial exploratory analysis. We have provided some plots for you to interpret:"
   ]
  },
  {
   "cell_type": "code",
   "execution_count": 28,
   "metadata": {},
   "outputs": [
    {
     "data": {
      "image/png": "[encoded data removed]",
      "text/plain": [
       "<Figure size 1152x360 with 3 Axes>"
      ]
     },
     "metadata": {
      "needs_background": "light"
     },
     "output_type": "display_data"
    }
   ],
   "source": [
    "# Run this cell without changes\n",
    "from collections import Counter\n",
    "import matplotlib.pyplot as plt\n",
    "%matplotlib inline\n",
    "\n",
    "fig, (ax1, ax2, ax3) = plt.subplots(ncols=3, figsize=(16, 5))\n",
    "\n",
    "# Plot distribution of number of reviews\n",
    "all_review_counts = [x[\"review_count\"] for x in full_dataset]\n",
    "ax1.hist(all_review_counts)\n",
    "ax1.set_title(\"Review Count Distribution\")\n",
    "ax1.set_xlabel(\"Number of Reviews\")\n",
    "ax1.set_ylabel(\"Number of Businesses\")\n",
    "\n",
    "# Plot rating distribution\n",
    "all_ratings = [x[\"rating\"] for x in full_dataset]\n",
    "rating_counter = Counter(all_ratings)\n",
    "rating_keys = sorted(rating_counter.keys())\n",
    "ax2.bar(rating_keys, [rating_counter[key] for key in rating_keys])\n",
    "ax2.set_title(\"Rating Distribution\")\n",
    "ax2.set_xlabel(\"Rating\")\n",
    "ax2.set_ylabel(\"Number of Businesses\")\n",
    "\n",
    "# Plot price distribution\n",
    "all_prices = [x[\"price\"].replace(\"$\", r\"\\$\") for x in full_dataset]\n",
    "price_counter = Counter(all_prices)\n",
    "price_keys = sorted(price_counter.keys())\n",
    "ax3.bar(price_keys, [price_counter[key] for key in price_keys])\n",
    "ax3.set_title(\"Price Distribution\")\n",
    "ax3.set_xlabel(\"Price Category\")\n",
    "ax3.set_ylabel(\"Number of Businesses\");"
   ]
  },
  {
   "cell_type": "markdown",
   "metadata": {},
   "source": [
    "Describe the distributions displayed above and interpret them in the context of your query. (Your answer may differ from the solution branch depending on your query.)"
   ]
  },
  {
   "cell_type": "code",
   "execution_count": null,
   "metadata": {},
   "outputs": [],
   "source": [
    "# Replace None with appropriate text\n",
    "\"\"\"\n",
    "For review count, the majority of business have less than 1000 reviews. This creates\n",
    "a positive skew with very, very few businesses having more than 3000 reviews.\n",
    "\n",
    "For ratings, the majority of businesses have above 4.0 rating, fewer have 4.5 rating\n",
    "and almost zero have a 5.0 rating. \n",
    "\n",
    "The majority of businesses fall in the $$ rating, followed by $ rating, with very few\n",
    "$$$ businesses. \n",
    "\"\"\""
   ]
  },
  {
   "cell_type": "markdown",
   "metadata": {},
   "source": [
    "In the cell below, we also plot the rating distributions by price. In this setup, a price of one dollar sign is \"lower price\" and everything else is \"higher price\"."
   ]
  },
  {
   "cell_type": "code",
   "execution_count": 29,
   "metadata": {},
   "outputs": [
    {
     "data": {
      "image/png": "[encoded data removed]",
      "text/plain": [
       "<Figure size 432x288 with 1 Axes>"
      ]
     },
     "metadata": {
      "needs_background": "light"
     },
     "output_type": "display_data"
    }
   ],
   "source": [
    "# Run this cell without changes\n",
    "\n",
    "higher_price = []\n",
    "lower_price = []\n",
    "for row in full_dataset:\n",
    "    if row[\"price\"] == \"$\":\n",
    "        lower_price.append(row[\"rating\"])\n",
    "    else:\n",
    "        higher_price.append(row[\"rating\"])\n",
    "        \n",
    "fig, ax = plt.subplots()\n",
    "\n",
    "ax.hist([higher_price, lower_price], label=[\"higher price\", \"lower price\"], density=True)\n",
    "\n",
    "ax.legend();"
   ]
  },
  {
   "cell_type": "markdown",
   "metadata": {},
   "source": [
    "Is a higher price associated with a higher rating? (No need for any additional math/statistics, just interpret what you see in the plot.)"
   ]
  },
  {
   "cell_type": "code",
   "execution_count": null,
   "metadata": {},
   "outputs": [],
   "source": [
    "# Replace None with appropriate text\n",
    "\"\"\"\n",
    "Not necessarily. It is difficult to tell with the current dataset since more high\n",
    "price restaurants received 4.0 and more lower price restaurants received a score of 4.5.\n",
    "However, in lower scores 3.5 and 3.00 ther are more lower price restaurants with\n",
    "a low rating. \n",
    "\"\"\""
   ]
  },
  {
   "cell_type": "markdown",
   "metadata": {},
   "source": [
    "Finally, let's look at ratings vs. review counts:"
   ]
  },
  {
   "cell_type": "code",
   "execution_count": 30,
   "metadata": {},
   "outputs": [
    {
     "data": {
      "image/png": "[encoded data removed]",
      "text/plain": [
       "<Figure size 1152x360 with 1 Axes>"
      ]
     },
     "metadata": {
      "needs_background": "light"
     },
     "output_type": "display_data"
    }
   ],
   "source": [
    "# Run this cell without changes\n",
    "fig, ax = plt.subplots(figsize=(16,5))\n",
    "\n",
    "ax.scatter(all_review_counts, all_ratings, alpha=0.2)\n",
    "ax.set_xlabel(\"Number of Reviews\")\n",
    "ax.set_ylabel(\"Rating\")\n",
    "# \"zoom in\" to a subset of review counts\n",
    "ax.set_xlim(left=0, right=1000);"
   ]
  },
  {
   "cell_type": "markdown",
   "metadata": {},
   "source": [
    "Is a higher number of reviews associated with a higher rating?"
   ]
  },
  {
   "cell_type": "code",
   "execution_count": null,
   "metadata": {},
   "outputs": [],
   "source": [
    "# Replace None with appropriate text\n",
    "\"\"\"\n",
    "Not necessarily. The data here is relatively hard to read and analyze. However,\n",
    "the insights that can be gained are:\n",
    "1.) 4.00 rated restaurants tend to have more reviews\n",
    "2.) There are much fewer reviews for restaurants below 3.5\n",
    "3.) The only 5.0 rated restaurant has less than 200 reviews\n",
    "4.) More data would be needed, but from teh graph one possible interpretation is that\n",
    "with more reviews, a restuarant moves towards the mean/median of 4.0.\n",
    "\"\"\""
   ]
  },
  {
   "cell_type": "markdown",
   "metadata": {},
   "source": [
    "## 4. Create a Folium Map\n",
    "\n",
    "Make a map using Folium of the businesses you retrieved. Be sure to also add popups to the markers giving some basic information such as name, rating and price.\n",
    "\n",
    "You can center the map around the latitude and longitude of the first item in `full_dataset`."
   ]
  },
  {
   "cell_type": "code",
   "execution_count": 31,
   "metadata": {},
   "outputs": [
    {
     "data": {
      "text/html": [
       "<div style=\"width:100%;\"><div style=\"position:relative;width:100%;height:0;padding-bottom:60%;\"><span style=\"color:#565656\">Make this Notebook Trusted to load map: File -> Trust Notebook</span><iframe src=\"about:blank\" style=\"position:absolute;width:100%;height:100%;left:0;top:0;border:none !important;\" data-html=PCFET0NUWVBFIGh0bWw+CjxoZWFkPiAgICAKICAgIDxtZXRhIGh0dHAtZXF1aXY9ImNvbnRlbnQtdHlwZSIgY29udGVudD0idGV4dC9odG1sOyBjaGFyc2V0PVVURi04IiAvPgogICAgCiAgICAgICAgPHNjcmlwdD4KICAgICAgICAgICAgTF9OT19UT1VDSCA9IGZhbHNlOwogICAgICAgICAgICBMX0RJU0FCTEVfM0QgPSBmYWxzZTsKICAgICAgICA8L3NjcmlwdD4KICAgIAogICAgPHNjcmlwdCBzcmM9Imh0dHBzOi8vY2RuLmpzZGVsaXZyLm5ldC9ucG0vbGVhZmxldEAxLjYuMC9kaXN0L2xlYWZsZXQuanMiPjwvc2NyaXB0PgogICAgPHNjcmlwdCBzcmM9Imh0dHBzOi8vY29kZS5qcXVlcnkuY29tL2pxdWVyeS0xLjEyLjQubWluLmpzIj48L3NjcmlwdD4KICAgIDxzY3JpcHQgc3JjPSJodHRwczovL21heGNkbi5ib290c3RyYXBjZG4uY29tL2Jvb3RzdHJhcC8zLjIuMC9qcy9ib290c3RyYXAubWluLmpzIj48L3NjcmlwdD4KICAgIDxzY3JpcHQgc3JjPSJodHRwczovL2NkbmpzLmNsb3VkZmxhcmUuY29tL2FqYXgvbGlicy9MZWFmbGV0LmF3ZXNvbWUtbWFya2Vycy8yLjAuMi9sZWFmbGV0LmF3ZXNvbWUtbWFya2Vycy5qcyI+PC9zY3JpcHQ+CiAgICA8bGluayByZWw9InN0eWxlc2hlZXQiIGhyZWY9Imh0dHBzOi8vY2RuLmpzZGVsaXZyLm5ldC9ucG0vbGVhZmxldEAxLjYuMC9kaXN0L2xlYWZsZXQuY3NzIi8+CiAgICA8bGluayByZWw9InN0eWxlc2hlZXQiIGhyZWY9Imh0dHBzOi8vbWF4Y2RuLmJvb3RzdHJhcGNkbi5jb20vYm9vdHN0cmFwLzMuMi4wL2Nzcy9ib290c3RyYXAubWluLmNzcyIvPgogICAgPGxpbmsgcmVsPSJzdHlsZXNoZWV0IiBocmVmPSJodHRwczovL21heGNkbi5ib290c3RyYXBjZG4uY29tL2Jvb3RzdHJhcC8zLjIuMC9jc3MvYm9vdHN0cmFwLXRoZW1lLm1pbi5jc3MiLz4KICAgIDxsaW5rIHJlbD0ic3R5bGVzaGVldCIgaHJlZj0iaHR0cHM6Ly9tYXhjZG4uYm9vdHN0cmFwY2RuLmNvbS9mb250LWF3ZXNvbWUvNC42LjMvY3NzL2ZvbnQtYXdlc29tZS5taW4uY3NzIi8+CiAgICA8bGluayByZWw9InN0eWxlc2hlZXQiIGhyZWY9Imh0dHBzOi8vY2RuanMuY2xvdWRmbGFyZS5jb20vYWpheC9saWJzL0xlYWZsZXQuYXdlc29tZS1tYXJrZXJzLzIuMC4yL2xlYWZsZXQuYXdlc29tZS1tYXJrZXJzLmNzcyIvPgogICAgPGxpbmsgcmVsPSJzdHlsZXNoZWV0IiBocmVmPSJodHRwczovL3Jhd2Nkbi5naXRoYWNrLmNvbS9weXRob24tdmlzdWFsaXphdGlvbi9mb2xpdW0vbWFzdGVyL2ZvbGl1bS90ZW1wbGF0ZXMvbGVhZmxldC5hd2Vzb21lLnJvdGF0ZS5jc3MiLz4KICAgIDxzdHlsZT5odG1sLCBib2R5IHt3aWR0aDogMTAwJTtoZWlnaHQ6IDEwMCU7bWFyZ2luOiAwO3BhZGRpbmc6IDA7fTwvc3R5bGU+CiAgICA8c3R5bGU+I21hcCB7cG9zaXRpb246YWJzb2x1dGU7dG9wOjA7Ym90dG9tOjA7cmlnaHQ6MDtsZWZ0OjA7fTwvc3R5bGU+CiAgICAKICAgICAgICAgICAgPG1ldGEgbmFtZT0idmlld3BvcnQiIGNvbnRlbnQ9IndpZHRoPWRldmljZS13aWR0aCwKICAgICAgICAgICAgICAgIGluaXRpYWwtc2NhbGU9MS4wLCBtYXhpbXVtLXNjYWxlPTEuMCwgdXNlci1zY2FsYWJsZT1ubyIgLz4KICAgICAgICAgICAgPHN0eWxlPgogICAgICAgICAgICAgICAgI21hcF8xNTNlNmEzMWQ5NDg0OGU0YmNhMTQ2NTA5MjMwZTljYiB7CiAgICAgICAgICAgICAgICAgICAgcG9zaXRpb246IHJlbGF0aXZlOwogICAgICAgICAgICAgICAgICAgIHdpZHRoOiAxMDAuMCU7CiAgICAgICAgICAgICAgICAgICAgaGVpZ2h0OiAxMDAuMCU7CiAgICAgICAgICAgICAgICAgICAgbGVmdDogMC4wJTsKICAgICAgICAgICAgICAgICAgICB0b3A6IDAuMCU7CiAgICAgICAgICAgICAgICB9CiAgICAgICAgICAgIDwvc3R5bGU+CiAgICAgICAgCjwvaGVhZD4KPGJvZHk+ICAgIAogICAgCiAgICAgICAgICAgIDxkaXYgY2xhc3M9ImZvbGl1bS1tYXAiIGlkPSJtYXBfMTUzZTZhMzFkOTQ4NDhlNGJjYTE0NjUwOTIzMGU5Y2IiID48L2Rpdj4KICAgICAgICAKPC9ib2R5Pgo8c2NyaXB0PiAgICAKICAgIAogICAgICAgICAgICB2YXIgbWFwXzE1M2U2YTMxZDk0ODQ4ZTRiY2ExNDY1MDkyMzBlOWNiID0gTC5tYXAoCiAgICAgICAgICAgICAgICAibWFwXzE1M2U2YTMxZDk0ODQ4ZTRiY2ExNDY1MDkyMzBlOWNiIiwKICAgICAgICAgICAgICAgIHsKICAgICAgICAgICAgICAgICAgICBjZW50ZXI6IFs0MC43MjMwODc1NTYwNTU2NCwgLTczLjk5NDUzMDAxMTc3NTc1XSwKICAgICAgICAgICAgICAgICAgICBjcnM6IEwuQ1JTLkVQU0czODU3LAogICAgICAgICAgICAgICAgICAgIHpvb206IDEyLAogICAgICAgICAgICAgICAgICAgIHpvb21Db250cm9sOiB0cnVlLAogICAgICAgICAgICAgICAgICAgIHByZWZlckNhbnZhczogZmFsc2UsCiAgICAgICAgICAgICAgICB9CiAgICAgICAgICAgICk7CgogICAgICAgICAgICAKCiAgICAgICAgCiAgICAKICAgICAgICAgICAgdmFyIHRpbGVfbGF5ZXJfYjI4ODg4MWU5Y2IyNDgwY2JiY2Q2MzBkYTc1ZmRlZWMgPSBMLnRpbGVMYXllcigKICAgICAgICAgICAgICAgICJodHRwczovL3tzfS50aWxlLm9wZW5zdHJlZXRtYXAub3JnL3t6fS97eH0ve3l9LnBuZyIsCiAgICAgICAgICAgICAgICB7ImF0dHJpYnV0aW9uIjogIkRhdGEgYnkgXHUwMDI2Y29weTsgXHUwMDNjYSBocmVmPVwiaHR0cDovL29wZW5zdHJlZXRtYXAub3JnXCJcdTAwM2VPcGVuU3RyZWV0TWFwXHUwMDNjL2FcdTAwM2UsIHVuZGVyIFx1MDAzY2EgaHJlZj1cImh0dHA6Ly93d3cub3BlbnN0cmVldG1hcC5vcmcvY29weXJpZ2h0XCJcdTAwM2VPRGJMXHUwMDNjL2FcdTAwM2UuIiwgImRldGVjdFJldGluYSI6IGZhbHNlLCAibWF4TmF0aXZlWm9vbSI6IDE4LCAibWF4Wm9vbSI6IDE4LCAibWluWm9vbSI6IDAsICJub1dyYXAiOiBmYWxzZSwgIm9wYWNpdHkiOiAxLCAic3ViZG9tYWlucyI6ICJhYmMiLCAidG1zIjogZmFsc2V9CiAgICAgICAgICAgICkuYWRkVG8obWFwXzE1M2U2YTMxZDk0ODQ4ZTRiY2ExNDY1MDkyMzBlOWNiKTsKICAgICAgICAKICAgIAogICAgICAgICAgICB2YXIgbWFya2VyXzM4NmI1M2VjMmVkZTQ0ZDk5NzcyZWZhMDc5OGEzYWQzID0gTC5tYXJrZXIoCiAgICAgICAgICAgICAgICBbNDAuNzIzMDg3NTU2MDU1NjQsIC03My45OTQ1MzAwMTE3NzU3NV0sCiAgICAgICAgICAgICAgICB7fQogICAgICAgICAgICApLmFkZFRvKG1hcF8xNTNlNmEzMWQ5NDg0OGU0YmNhMTQ2NTA5MjMwZTljYik7CiAgICAgICAgCiAgICAKICAgICAgICB2YXIgcG9wdXBfNTFkODViNzNhMTkyNDAyYWFhMjllZDk4MGE3Zjk2OWEgPSBMLnBvcHVwKHsibWF4V2lkdGgiOiAiMTAwJSJ9KTsKCiAgICAgICAgCiAgICAgICAgICAgIHZhciBodG1sX2IxMzMwM2ZhYzkxODRlYjM4YzQ3ZjgzZmIzMzgzZWFiID0gJChgPGRpdiBpZD0iaHRtbF9iMTMzMDNmYWM5MTg0ZWIzOGM0N2Y4M2ZiMzM4M2VhYiIgc3R5bGU9IndpZHRoOiAxMDAuMCU7IGhlaWdodDogMTAwLjAlOyI+UHJpbmNlIFN0cmVldCBQaXp6YSBQcmljZTogJCBSYXRpbmc6NC41PC9kaXY+YClbMF07CiAgICAgICAgICAgIHBvcHVwXzUxZDg1YjczYTE5MjQwMmFhYTI5ZWQ5ODBhN2Y5NjlhLnNldENvbnRlbnQoaHRtbF9iMTMzMDNmYWM5MTg0ZWIzOGM0N2Y4M2ZiMzM4M2VhYik7CiAgICAgICAgCgogICAgICAgIG1hcmtlcl8zODZiNTNlYzJlZGU0NGQ5OTc3MmVmYTA3OThhM2FkMy5iaW5kUG9wdXAocG9wdXBfNTFkODViNzNhMTkyNDAyYWFhMjllZDk4MGE3Zjk2OWEpCiAgICAgICAgOwoKICAgICAgICAKICAgIAogICAgCiAgICAgICAgICAgIHZhciBtYXJrZXJfMDRlY2QzZjExY2ExNGUzZGE1MDY3NGYyMTEwNTZkZTQgPSBMLm1hcmtlcigKICAgICAgICAgICAgICAgIFs0MC43MDI3NDcxODc2ODA2MiwgLTczLjk5MzQzNDkwMTk2Mzk3XSwKICAgICAgICAgICAgICAgIHt9CiAgICAgICAgICAgICkuYWRkVG8obWFwXzE1M2U2YTMxZDk0ODQ4ZTRiY2ExNDY1MDkyMzBlOWNiKTsKICAgICAgICAKICAgIAogICAgICAgIHZhciBwb3B1cF84M2M3NjExZjVjN2Q0ZTNlYWI4OTBkNDg2OTBlMzI1MSA9IEwucG9wdXAoeyJtYXhXaWR0aCI6ICIxMDAlIn0pOwoKICAgICAgICAKICAgICAgICAgICAgdmFyIGh0bWxfYTVjNGQ5MTg4YTRlNDdlNjk2MmUwZDc4ZTA3Mzk3NDMgPSAkKGA8ZGl2IGlkPSJodG1sX2E1YzRkOTE4OGE0ZTQ3ZTY5NjJlMGQ3OGUwNzM5NzQzIiBzdHlsZT0id2lkdGg6IDEwMC4wJTsgaGVpZ2h0OiAxMDAuMCU7Ij5KdWxpYW5hJ3MgUHJpY2U6ICQkIFJhdGluZzo0LjU8L2Rpdj5gKVswXTsKICAgICAgICAgICAgcG9wdXBfODNjNzYxMWY1YzdkNGUzZWFiODkwZDQ4NjkwZTMyNTEuc2V0Q29udGVudChodG1sX2E1YzRkOTE4OGE0ZTQ3ZTY5NjJlMGQ3OGUwNzM5NzQzKTsKICAgICAgICAKCiAgICAgICAgbWFya2VyXzA0ZWNkM2YxMWNhMTRlM2RhNTA2NzRmMjExMDU2ZGU0LmJpbmRQb3B1cChwb3B1cF84M2M3NjExZjVjN2Q0ZTNlYWI4OTBkNDg2OTBlMzI1MSkKICAgICAgICA7CgogICAgICAgIAogICAgCiAgICAKICAgICAgICAgICAgdmFyIG1hcmtlcl9hM2YwYWZjNWNjNjk0MmFhYmY1MTI2ZTBhMDVjY2Y2ZCA9IEwubWFya2VyKAogICAgICAgICAgICAgICAgWzQwLjcyMjc2NiwgLTczLjk5NjIzM10sCiAgICAgICAgICAgICAgICB7fQogICAgICAgICAgICApLmFkZFRvKG1hcF8xNTNlNmEzMWQ5NDg0OGU0YmNhMTQ2NTA5MjMwZTljYik7CiAgICAgICAgCiAgICAKICAgICAgICB2YXIgcG9wdXBfODhiOTY0NzBjNGExNGMyYjk3MDczOWJmNWUxMjg2ODQgPSBMLnBvcHVwKHsibWF4V2lkdGgiOiAiMTAwJSJ9KTsKCiAgICAgICAgCiAgICAgICAgICAgIHZhciBodG1sX2M0ODFlODc0N2E1NDQxYzk4YWRkYjYxOTI5ODc2OTk0ID0gJChgPGRpdiBpZD0iaHRtbF9jNDgxZTg3NDdhNTQ0MWM5OGFkZGI2MTkyOTg3Njk5NCIgc3R5bGU9IndpZHRoOiAxMDAuMCU7IGhlaWdodDogMTAwLjAlOyI+UnViaXJvc2EgUHJpY2U6ICQkIFJhdGluZzo0LjU8L2Rpdj5gKVswXTsKICAgICAgICAgICAgcG9wdXBfODhiOTY0NzBjNGExNGMyYjk3MDczOWJmNWUxMjg2ODQuc2V0Q29udGVudChodG1sX2M0ODFlODc0N2E1NDQxYzk4YWRkYjYxOTI5ODc2OTk0KTsKICAgICAgICAKCiAgICAgICAgbWFya2VyX2EzZjBhZmM1Y2M2OTQyYWFiZjUxMjZlMGEwNWNjZjZkLmJpbmRQb3B1cChwb3B1cF84OGI5NjQ3MGM0YTE0YzJiOTcwNzM5YmY1ZTEyODY4NCkKICAgICAgICA7CgogICAgICAgIAogICAgCiAgICAKICAgICAgICAgICAgdmFyIG1hcmtlcl9jNjAyMDE4YzI0YWE0ODhkOTcyNWYwN2YwOGM1NWU5MyA9IEwubWFya2VyKAogICAgICAgICAgICAgICAgWzQwLjcyMTU5MzQ5NjAwODMsIC03My45OTU1OTU2MDQ0NTYxXSwKICAgICAgICAgICAgICAgIHt9CiAgICAgICAgICAgICkuYWRkVG8obWFwXzE1M2U2YTMxZDk0ODQ4ZTRiY2ExNDY1MDkyMzBlOWNiKTsKICAgICAgICAKICAgIAogICAgICAgIHZhciBwb3B1cF9kMGUxZWZjZGNkNjI0ZWVkOThmODE5OGRkMmRhODU2YiA9IEwucG9wdXAoeyJtYXhXaWR0aCI6ICIxMDAlIn0pOwoKICAgICAgICAKICAgICAgICAgICAgdmFyIGh0bWxfNDIwYmI3ODAyYjBlNDdhMzgwYTUzYjJkNGM3N2M1ZTEgPSAkKGA8ZGl2IGlkPSJodG1sXzQyMGJiNzgwMmIwZTQ3YTM4MGE1M2IyZDRjNzdjNWUxIiBzdHlsZT0id2lkdGg6IDEwMC4wJTsgaGVpZ2h0OiAxMDAuMCU7Ij5Mb21iYXJkaSdzIFBpenphIFByaWNlOiAkJCBSYXRpbmc6NC4wPC9kaXY+YClbMF07CiAgICAgICAgICAgIHBvcHVwX2QwZTFlZmNkY2Q2MjRlZWQ5OGY4MTk4ZGQyZGE4NTZiLnNldENvbnRlbnQoaHRtbF80MjBiYjc4MDJiMGU0N2EzODBhNTNiMmQ0Yzc3YzVlMSk7CiAgICAgICAgCgogICAgICAgIG1hcmtlcl9jNjAyMDE4YzI0YWE0ODhkOTcyNWYwN2YwOGM1NWU5My5iaW5kUG9wdXAocG9wdXBfZDBlMWVmY2RjZDYyNGVlZDk4ZjgxOThkZDJkYTg1NmIpCiAgICAgICAgOwoKICAgICAgICAKICAgIAogICAgCiAgICAgICAgICAgIHZhciBtYXJrZXJfNjI3YTlmYTdhOWE5NDVmNGE0MjgwZTQxNjA4ZTVhMjQgPSBMLm1hcmtlcigKICAgICAgICAgICAgICAgIFs0MC42ODE4LCAtNzQuMDAwMjRdLAogICAgICAgICAgICAgICAge30KICAgICAgICAgICAgKS5hZGRUbyhtYXBfMTUzZTZhMzFkOTQ4NDhlNGJjYTE0NjUwOTIzMGU5Y2IpOwogICAgICAgIAogICAgCiAgICAgICAgdmFyIHBvcHVwXzJmNDUyYWQwMzgzZDQxMTI4N2FmMGVkMzQzYWVhMGY4ID0gTC5wb3B1cCh7Im1heFdpZHRoIjogIjEwMCUifSk7CgogICAgICAgIAogICAgICAgICAgICB2YXIgaHRtbF9lMjQ4NmNkMWZkOTc0Nzg2YjBkMDFlYmI1YTcwZmQ1MiA9ICQoYDxkaXYgaWQ9Imh0bWxfZTI0ODZjZDFmZDk3NDc4NmIwZDAxZWJiNWE3MGZkNTIiIHN0eWxlPSJ3aWR0aDogMTAwLjAlOyBoZWlnaHQ6IDEwMC4wJTsiPkx1Y2FsaSBQcmljZTogJCQgUmF0aW5nOjQuMDwvZGl2PmApWzBdOwogICAgICAgICAgICBwb3B1cF8yZjQ1MmFkMDM4M2Q0MTEyODdhZjBlZDM0M2FlYTBmOC5zZXRDb250ZW50KGh0bWxfZTI0ODZjZDFmZDk3NDc4NmIwZDAxZWJiNWE3MGZkNTIpOwogICAgICAgIAoKICAgICAgICBtYXJrZXJfNjI3YTlmYTdhOWE5NDVmNGE0MjgwZTQxNjA4ZTVhMjQuYmluZFBvcHVwKHBvcHVwXzJmNDUyYWQwMzgzZDQxMTI4N2FmMGVkMzQzYWVhMGY4KQogICAgICAgIDsKCiAgICAgICAgCiAgICAKICAgIAogICAgICAgICAgICB2YXIgbWFya2VyX2QwOGQ5Nzg5YWNiYzQzZjI5ODhmOWZlODY0YTNmNWNhID0gTC5tYXJrZXIoCiAgICAgICAgICAgICAgICBbNDAuNzA0OTMsIC03My45MzM5OV0sCiAgICAgICAgICAgICAgICB7fQogICAgICAgICAgICApLmFkZFRvKG1hcF8xNTNlNmEzMWQ5NDg0OGU0YmNhMTQ2NTA5MjMwZTljYik7CiAgICAgICAgCiAgICAKICAgICAgICB2YXIgcG9wdXBfZDUyZDc0MTBhZTFiNDY2M2IyOTQ0NWUxYjE4YTRkM2YgPSBMLnBvcHVwKHsibWF4V2lkdGgiOiAiMTAwJSJ9KTsKCiAgICAgICAgCiAgICAgICAgICAgIHZhciBodG1sX2IxMTY3MzhmMjgyMzQ2OWY4MmI4YjlkNWVmZjg0YTk3ID0gJChgPGRpdiBpZD0iaHRtbF9iMTE2NzM4ZjI4MjM0NjlmODJiOGI5ZDVlZmY4NGE5NyIgc3R5bGU9IndpZHRoOiAxMDAuMCU7IGhlaWdodDogMTAwLjAlOyI+Um9iZXJ0YSdzIFByaWNlOiAkJCBSYXRpbmc6NC4wPC9kaXY+YClbMF07CiAgICAgICAgICAgIHBvcHVwX2Q1MmQ3NDEwYWUxYjQ2NjNiMjk0NDVlMWIxOGE0ZDNmLnNldENvbnRlbnQoaHRtbF9iMTE2NzM4ZjI4MjM0NjlmODJiOGI5ZDVlZmY4NGE5Nyk7CiAgICAgICAgCgogICAgICAgIG1hcmtlcl9kMDhkOTc4OWFjYmM0M2YyOTg4ZjlmZTg2NGEzZjVjYS5iaW5kUG9wdXAocG9wdXBfZDUyZDc0MTBhZTFiNDY2M2IyOTQ0NWUxYjE4YTRkM2YpCiAgICAgICAgOwoKICAgICAgICAKICAgIAogICAgCiAgICAgICAgICAgIHZhciBtYXJrZXJfZjZjY2ZmM2FlODk1NDk5ZTlhOWJmYWIzMDNjNWI3ZGIgPSBMLm1hcmtlcigKICAgICAgICAgICAgICAgIFs0MC43MzA2MDA3NiwgLTc0LjAwMjE1OTk3XSwKICAgICAgICAgICAgICAgIHt9CiAgICAgICAgICAgICkuYWRkVG8obWFwXzE1M2U2YTMxZDk0ODQ4ZTRiY2ExNDY1MDkyMzBlOWNiKTsKICAgICAgICAKICAgIAogICAgICAgIHZhciBwb3B1cF9kYjVjMjY1MjQwZDY0Yzk3OTJjMmViOGRiOTE4ZmIyMSA9IEwucG9wdXAoeyJtYXhXaWR0aCI6ICIxMDAlIn0pOwoKICAgICAgICAKICAgICAgICAgICAgdmFyIGh0bWxfYzNjMWJmOTk2ZDc5NDc0NWI2Njc5NzUwOTUxNDAxNDEgPSAkKGA8ZGl2IGlkPSJodG1sX2MzYzFiZjk5NmQ3OTQ3NDViNjY3OTc1MDk1MTQwMTQxIiBzdHlsZT0id2lkdGg6IDEwMC4wJTsgaGVpZ2h0OiAxMDAuMCU7Ij5Kb2UncyBQaXp6YSBQcmljZTogJCBSYXRpbmc6NC4wPC9kaXY+YClbMF07CiAgICAgICAgICAgIHBvcHVwX2RiNWMyNjUyNDBkNjRjOTc5MmMyZWI4ZGI5MThmYjIxLnNldENvbnRlbnQoaHRtbF9jM2MxYmY5OTZkNzk0NzQ1YjY2Nzk3NTA5NTE0MDE0MSk7CiAgICAgICAgCgogICAgICAgIG1hcmtlcl9mNmNjZmYzYWU4OTU0OTllOWE5YmZhYjMwM2M1YjdkYi5iaW5kUG9wdXAocG9wdXBfZGI1YzI2NTI0MGQ2NGM5NzkyYzJlYjhkYjkxOGZiMjEpCiAgICAgICAgOwoKICAgICAgICAKICAgIAogICAgCiAgICAgICAgICAgIHZhciBtYXJrZXJfNWNlYTliZWM2MDZkNGI3ZmIxYzkzYjc1YmVlMDBkMGQgPSBMLm1hcmtlcigKICAgICAgICAgICAgICAgIFs0MC43MDI1ODMsIC03My45OTMyNDEzXSwKICAgICAgICAgICAgICAgIHt9CiAgICAgICAgICAgICkuYWRkVG8obWFwXzE1M2U2YTMxZDk0ODQ4ZTRiY2ExNDY1MDkyMzBlOWNiKTsKICAgICAgICAKICAgIAogICAgICAgIHZhciBwb3B1cF9lY2YxOTg4NzBhODM0NGJjODAxOWRiZGQyNmRjMzkzMiA9IEwucG9wdXAoeyJtYXhXaWR0aCI6ICIxMDAlIn0pOwoKICAgICAgICAKICAgICAgICAgICAgdmFyIGh0bWxfMTM3ZjlkYWFhZjhhNDU0YWI2Y2MzYWJlOTFiMDEwNTUgPSAkKGA8ZGl2IGlkPSJodG1sXzEzN2Y5ZGFhYWY4YTQ1NGFiNmNjM2FiZTkxYjAxMDU1IiBzdHlsZT0id2lkdGg6IDEwMC4wJTsgaGVpZ2h0OiAxMDAuMCU7Ij5HcmltYWxkaSdzIFBpenplcmlhIFByaWNlOiAkJCBSYXRpbmc6My41PC9kaXY+YClbMF07CiAgICAgICAgICAgIHBvcHVwX2VjZjE5ODg3MGE4MzQ0YmM4MDE5ZGJkZDI2ZGMzOTMyLnNldENvbnRlbnQoaHRtbF8xMzdmOWRhYWFmOGE0NTRhYjZjYzNhYmU5MWIwMTA1NSk7CiAgICAgICAgCgogICAgICAgIG1hcmtlcl81Y2VhOWJlYzYwNmQ0YjdmYjFjOTNiNzViZWUwMGQwZC5iaW5kUG9wdXAocG9wdXBfZWNmMTk4ODcwYTgzNDRiYzgwMTlkYmRkMjZkYzM5MzIpCiAgICAgICAgOwoKICAgICAgICAKICAgIAogICAgCiAgICAgICAgICAgIHZhciBtYXJrZXJfMDU2MzY4NWY3YTExNGFmMDhiMmM1MmIzMDVkYzJmOTIgPSBMLm1hcmtlcigKICAgICAgICAgICAgICAgIFs0MC43MzMzMSwgLTczLjk4NzYzXSwKICAgICAgICAgICAgICAgIHt9CiAgICAgICAgICAgICkuYWRkVG8obWFwXzE1M2U2YTMxZDk0ODQ4ZTRiY2ExNDY1MDkyMzBlOWNiKTsKICAgICAgICAKICAgIAogICAgICAgIHZhciBwb3B1cF9lMTA1MWRiNTBlMjU0NmQ4YjAxMDcyZDRhMTYwNjdhMyA9IEwucG9wdXAoeyJtYXhXaWR0aCI6ICIxMDAlIn0pOwoKICAgICAgICAKICAgICAgICAgICAgdmFyIGh0bWxfNTk5NzczZjIyMDY3NDZmOWE1OTNlYmE1OGU1NGUwMTQgPSAkKGA8ZGl2IGlkPSJodG1sXzU5OTc3M2YyMjA2NzQ2ZjlhNTkzZWJhNThlNTRlMDE0IiBzdHlsZT0id2lkdGg6IDEwMC4wJTsgaGVpZ2h0OiAxMDAuMCU7Ij5Kb2UncyBQaXp6YSBQcmljZTogJCBSYXRpbmc6NC4wPC9kaXY+YClbMF07CiAgICAgICAgICAgIHBvcHVwX2UxMDUxZGI1MGUyNTQ2ZDhiMDEwNzJkNGExNjA2N2EzLnNldENvbnRlbnQoaHRtbF81OTk3NzNmMjIwNjc0NmY5YTU5M2ViYTU4ZTU0ZTAxNCk7CiAgICAgICAgCgogICAgICAgIG1hcmtlcl8wNTYzNjg1ZjdhMTE0YWYwOGIyYzUyYjMwNWRjMmY5Mi5iaW5kUG9wdXAocG9wdXBfZTEwNTFkYjUwZTI1NDZkOGIwMTA3MmQ0YTE2MDY3YTMpCiAgICAgICAgOwoKICAgICAgICAKICAgIAogICAgCiAgICAgICAgICAgIHZhciBtYXJrZXJfZmEyODU4MDY3ZTVkNGVlNTlmZGEzNGNmMjhjOTNmMTEgPSBMLm1hcmtlcigKICAgICAgICAgICAgICAgIFs0MC42MjUwOTMsIC03My45NjE1MzFdLAogICAgICAgICAgICAgICAge30KICAgICAgICAgICAgKS5hZGRUbyhtYXBfMTUzZTZhMzFkOTQ4NDhlNGJjYTE0NjUwOTIzMGU5Y2IpOwogICAgICAgIAogICAgCiAgICAgICAgdmFyIHBvcHVwX2Y2ZGEwMTVjOTAyNDRlMDFiNDVhYmJjM2NmODA5ZTNjID0gTC5wb3B1cCh7Im1heFdpZHRoIjogIjEwMCUifSk7CgogICAgICAgIAogICAgICAgICAgICB2YXIgaHRtbF9hZGQwNjhkNGM0ZDE0MDhmOWQ2ZGQzY2JmOGVjNmVhOSA9ICQoYDxkaXYgaWQ9Imh0bWxfYWRkMDY4ZDRjNGQxNDA4ZjlkNmRkM2NiZjhlYzZlYTkiIHN0eWxlPSJ3aWR0aDogMTAwLjAlOyBoZWlnaHQ6IDEwMC4wJTsiPkRpIEZhcmEgUGl6emEgUHJpY2U6ICQkIFJhdGluZzo0LjA8L2Rpdj5gKVswXTsKICAgICAgICAgICAgcG9wdXBfZjZkYTAxNWM5MDI0NGUwMWI0NWFiYmMzY2Y4MDllM2Muc2V0Q29udGVudChodG1sX2FkZDA2OGQ0YzRkMTQwOGY5ZDZkZDNjYmY4ZWM2ZWE5KTsKICAgICAgICAKCiAgICAgICAgbWFya2VyX2ZhMjg1ODA2N2U1ZDRlZTU5ZmRhMzRjZjI4YzkzZjExLmJpbmRQb3B1cChwb3B1cF9mNmRhMDE1YzkwMjQ0ZTAxYjQ1YWJiYzNjZjgwOWUzYykKICAgICAgICA7CgogICAgICAgIAogICAgCiAgICAKICAgICAgICAgICAgdmFyIG1hcmtlcl9mNGFkZGFhZDM1YTk0NzNmYTY1NDhhNDM2NDY4MjAxMiA9IEwubWFya2VyKAogICAgICAgICAgICAgICAgWzQwLjcxMTYyLCAtNzMuOTU3ODNdLAogICAgICAgICAgICAgICAge30KICAgICAgICAgICAgKS5hZGRUbyhtYXBfMTUzZTZhMzFkOTQ4NDhlNGJjYTE0NjUwOTIzMGU5Y2IpOwogICAgICAgIAogICAgCiAgICAgICAgdmFyIHBvcHVwX2IxODUwZDMzYjM5NDQ4NGNiZmMxYmRmZTU3ZDQ4Y2YzID0gTC5wb3B1cCh7Im1heFdpZHRoIjogIjEwMCUifSk7CgogICAgICAgIAogICAgICAgICAgICB2YXIgaHRtbF85NzY3YmZiNzA2Y2I0MmRjOWQ3MjA2M2ZiNTI4ZmQzMiA9ICQoYDxkaXYgaWQ9Imh0bWxfOTc2N2JmYjcwNmNiNDJkYzlkNzIwNjNmYjUyOGZkMzIiIHN0eWxlPSJ3aWR0aDogMTAwLjAlOyBoZWlnaHQ6IDEwMC4wJTsiPkwnaW5kdXN0cmllIFBpenplcmlhIFByaWNlOiAkIFJhdGluZzo0LjU8L2Rpdj5gKVswXTsKICAgICAgICAgICAgcG9wdXBfYjE4NTBkMzNiMzk0NDg0Y2JmYzFiZGZlNTdkNDhjZjMuc2V0Q29udGVudChodG1sXzk3NjdiZmI3MDZjYjQyZGM5ZDcyMDYzZmI1MjhmZDMyKTsKICAgICAgICAKCiAgICAgICAgbWFya2VyX2Y0YWRkYWFkMzVhOTQ3M2ZhNjU0OGE0MzY0NjgyMDEyLmJpbmRQb3B1cChwb3B1cF9iMTg1MGQzM2IzOTQ0ODRjYmZjMWJkZmU1N2Q0OGNmMykKICAgICAgICA7CgogICAgICAgIAogICAgCiAgICAKICAgICAgICAgICAgdmFyIG1hcmtlcl9lZDEyZGJlNWZkNGU0YWI4OTg0MWU5ZTRlYTI5NDYzZSA9IEwubWFya2VyKAogICAgICAgICAgICAgICAgWzQwLjczMTU4LCAtNzQuMDAzMzJdLAogICAgICAgICAgICAgICAge30KICAgICAgICAgICAgKS5hZGRUbyhtYXBfMTUzZTZhMzFkOTQ4NDhlNGJjYTE0NjUwOTIzMGU5Y2IpOwogICAgICAgIAogICAgCiAgICAgICAgdmFyIHBvcHVwXzZjMjc1ODEwNDczMjRjZTZhNzFiY2VkYjM0NjE2YzliID0gTC5wb3B1cCh7Im1heFdpZHRoIjogIjEwMCUifSk7CgogICAgICAgIAogICAgICAgICAgICB2YXIgaHRtbF8zNzM1OTY2MzcwM2I0YTMxYjI5MzFiMmM2NjQ5ZjA0MyA9ICQoYDxkaXYgaWQ9Imh0bWxfMzczNTk2NjM3MDNiNGEzMWIyOTMxYjJjNjY0OWYwNDMiIHN0eWxlPSJ3aWR0aDogMTAwLjAlOyBoZWlnaHQ6IDEwMC4wJTsiPkpvaG4ncyBvZiBCbGVlY2tlciBTdHJlZXQgUHJpY2U6ICQkIFJhdGluZzo0LjA8L2Rpdj5gKVswXTsKICAgICAgICAgICAgcG9wdXBfNmMyNzU4MTA0NzMyNGNlNmE3MWJjZWRiMzQ2MTZjOWIuc2V0Q29udGVudChodG1sXzM3MzU5NjYzNzAzYjRhMzFiMjkzMWIyYzY2NDlmMDQzKTsKICAgICAgICAKCiAgICAgICAgbWFya2VyX2VkMTJkYmU1ZmQ0ZTRhYjg5ODQxZTllNGVhMjk0NjNlLmJpbmRQb3B1cChwb3B1cF82YzI3NTgxMDQ3MzI0Y2U2YTcxYmNlZGIzNDYxNmM5YikKICAgICAgICA7CgogICAgICAgIAogICAgCiAgICAKICAgICAgICAgICAgdmFyIG1hcmtlcl9iYzNmZjVjNDdlZjM0Y2Q0YWE1ZDUyNWYwNzAwNjA2NiA9IEwubWFya2VyKAogICAgICAgICAgICAgICAgWzQwLjcxNTM0LCAtNzMuOTkxNF0sCiAgICAgICAgICAgICAgICB7fQogICAgICAgICAgICApLmFkZFRvKG1hcF8xNTNlNmEzMWQ5NDg0OGU0YmNhMTQ2NTA5MjMwZTljYik7CiAgICAgICAgCiAgICAKICAgICAgICB2YXIgcG9wdXBfNTEyNGZiNWRiYmVhNGFhNDk2ZjRiMjg0MDdjMGNiMjAgPSBMLnBvcHVwKHsibWF4V2lkdGgiOiAiMTAwJSJ9KTsKCiAgICAgICAgCiAgICAgICAgICAgIHZhciBodG1sXzNiNWQ1ODRhZDU0ODQ4MWE4MGQ1ZDE5ZjIzMmQ2MjAzID0gJChgPGRpdiBpZD0iaHRtbF8zYjVkNTg0YWQ1NDg0ODFhODBkNWQxOWYyMzJkNjIwMyIgc3R5bGU9IndpZHRoOiAxMDAuMCU7IGhlaWdodDogMTAwLjAlOyI+U2NhcnIncyBQaXp6YSBQcmljZTogJCBSYXRpbmc6NC4wPC9kaXY+YClbMF07CiAgICAgICAgICAgIHBvcHVwXzUxMjRmYjVkYmJlYTRhYTQ5NmY0YjI4NDA3YzBjYjIwLnNldENvbnRlbnQoaHRtbF8zYjVkNTg0YWQ1NDg0ODFhODBkNWQxOWYyMzJkNjIwMyk7CiAgICAgICAgCgogICAgICAgIG1hcmtlcl9iYzNmZjVjNDdlZjM0Y2Q0YWE1ZDUyNWYwNzAwNjA2Ni5iaW5kUG9wdXAocG9wdXBfNTEyNGZiNWRiYmVhNGFhNDk2ZjRiMjg0MDdjMGNiMjApCiAgICAgICAgOwoKICAgICAgICAKICAgIAogICAgCiAgICAgICAgICAgIHZhciBtYXJrZXJfMmFkZmYxMzI5OTkxNGExYTlhODhkNGVhNjczYjliYzIgPSBMLm1hcmtlcigKICAgICAgICAgICAgICAgIFs0MC42NjE2MywgLTczLjk5MzM0XSwKICAgICAgICAgICAgICAgIHt9CiAgICAgICAgICAgICkuYWRkVG8obWFwXzE1M2U2YTMxZDk0ODQ4ZTRiY2ExNDY1MDkyMzBlOWNiKTsKICAgICAgICAKICAgIAogICAgICAgIHZhciBwb3B1cF8yY2IyZjljYTAwZWM0ODM1YjdlMzg4Yjg0MmM2MTA4YiA9IEwucG9wdXAoeyJtYXhXaWR0aCI6ICIxMDAlIn0pOwoKICAgICAgICAKICAgICAgICAgICAgdmFyIGh0bWxfMWVmZmFhNjFkNjE2NDc3NmJlODljMGE3MDM4ZTFjNmYgPSAkKGA8ZGl2IGlkPSJodG1sXzFlZmZhYTYxZDYxNjQ3NzZiZTg5YzBhNzAzOGUxYzZmIiBzdHlsZT0id2lkdGg6IDEwMC4wJTsgaGVpZ2h0OiAxMDAuMCU7Ij5MdWlnaSdzIFBpenphIFByaWNlOiAkIFJhdGluZzo0LjU8L2Rpdj5gKVswXTsKICAgICAgICAgICAgcG9wdXBfMmNiMmY5Y2EwMGVjNDgzNWI3ZTM4OGI4NDJjNjEwOGIuc2V0Q29udGVudChodG1sXzFlZmZhYTYxZDYxNjQ3NzZiZTg5YzBhNzAzOGUxYzZmKTsKICAgICAgICAKCiAgICAgICAgbWFya2VyXzJhZGZmMTMyOTk5MTRhMWE5YTg4ZDRlYTY3M2I5YmMyLmJpbmRQb3B1cChwb3B1cF8yY2IyZjljYTAwZWM0ODM1YjdlMzg4Yjg0MmM2MTA4YikKICAgICAgICA7CgogICAgICAgIAogICAgCiAgICAKICAgICAgICAgICAgdmFyIG1hcmtlcl9kMjM2NmU5YmQ5M2M0ZWRmYmE0OGE4YmFmMjBhNzA5NSA9IEwubWFya2VyKAogICAgICAgICAgICAgICAgWzQwLjYzNDc0MSwgLTc0LjAyODQyNTldLAogICAgICAgICAgICAgICAge30KICAgICAgICAgICAgKS5hZGRUbyhtYXBfMTUzZTZhMzFkOTQ4NDhlNGJjYTE0NjUwOTIzMGU5Y2IpOwogICAgICAgIAogICAgCiAgICAgICAgdmFyIHBvcHVwX2U5MGNkYzE5NmQ2ODRkOWM4OGQ0ODhhMzAzZmI0NGQyID0gTC5wb3B1cCh7Im1heFdpZHRoIjogIjEwMCUifSk7CgogICAgICAgIAogICAgICAgICAgICB2YXIgaHRtbF9mMjc1M2FkZmY0OGU0ZGY0OWJiMzgxMDMyOGI4OGEzZCA9ICQoYDxkaXYgaWQ9Imh0bWxfZjI3NTNhZGZmNDhlNGRmNDliYjM4MTAzMjhiODhhM2QiIHN0eWxlPSJ3aWR0aDogMTAwLjAlOyBoZWlnaHQ6IDEwMC4wJTsiPkxvbWJhcmRvJ3Mgb2YgQmF5IFJpZGdlIFByaWNlOiAkJCBSYXRpbmc6NS4wPC9kaXY+YClbMF07CiAgICAgICAgICAgIHBvcHVwX2U5MGNkYzE5NmQ2ODRkOWM4OGQ0ODhhMzAzZmI0NGQyLnNldENvbnRlbnQoaHRtbF9mMjc1M2FkZmY0OGU0ZGY0OWJiMzgxMDMyOGI4OGEzZCk7CiAgICAgICAgCgogICAgICAgIG1hcmtlcl9kMjM2NmU5YmQ5M2M0ZWRmYmE0OGE4YmFmMjBhNzA5NS5iaW5kUG9wdXAocG9wdXBfZTkwY2RjMTk2ZDY4NGQ5Yzg4ZDQ4OGEzMDNmYjQ0ZDIpCiAgICAgICAgOwoKICAgICAgICAKICAgIAogICAgCiAgICAgICAgICAgIHZhciBtYXJrZXJfMWU4ZjA1OWI5NjNjNDI4ZWE3ZjVhN2JjM2I0ZjE1M2MgPSBMLm1hcmtlcigKICAgICAgICAgICAgICAgIFs0MC43MzIwNjI3MDE2NTEyLCAtNzQuMDAzNjU1MjI3MDEzN10sCiAgICAgICAgICAgICAgICB7fQogICAgICAgICAgICApLmFkZFRvKG1hcF8xNTNlNmEzMWQ5NDg0OGU0YmNhMTQ2NTA5MjMwZTljYik7CiAgICAgICAgCiAgICAKICAgICAgICB2YXIgcG9wdXBfYWY3YTcxMWI3YTY0NDVlY2I3OTQ2YTRjMzRjMmMzNjQgPSBMLnBvcHVwKHsibWF4V2lkdGgiOiAiMTAwJSJ9KTsKCiAgICAgICAgCiAgICAgICAgICAgIHZhciBodG1sX2MxYzgyYTRjYzE2YTRjY2E4OTJlNjBmNTU3ZjY3NThiID0gJChgPGRpdiBpZD0iaHRtbF9jMWM4MmE0Y2MxNmE0Y2NhODkyZTYwZjU1N2Y2NzU4YiIgc3R5bGU9IndpZHRoOiAxMDAuMCU7IGhlaWdodDogMTAwLjAlOyI+QmxlZWNrZXIgU3RyZWV0IFBpenphIFByaWNlOiAkIFJhdGluZzo0LjA8L2Rpdj5gKVswXTsKICAgICAgICAgICAgcG9wdXBfYWY3YTcxMWI3YTY0NDVlY2I3OTQ2YTRjMzRjMmMzNjQuc2V0Q29udGVudChodG1sX2MxYzgyYTRjYzE2YTRjY2E4OTJlNjBmNTU3ZjY3NThiKTsKICAgICAgICAKCiAgICAgICAgbWFya2VyXzFlOGYwNTliOTYzYzQyOGVhN2Y1YTdiYzNiNGYxNTNjLmJpbmRQb3B1cChwb3B1cF9hZjdhNzExYjdhNjQ0NWVjYjc5NDZhNGMzNGMyYzM2NCkKICAgICAgICA7CgogICAgICAgIAogICAgCiAgICAKICAgICAgICAgICAgdmFyIG1hcmtlcl84ZGRjZWFlMjJiOGU0MzYxODdhYmI2YzU0YjBmNDMzOSA9IEwubWFya2VyKAogICAgICAgICAgICAgICAgWzQwLjcyOTU0NiwgLTczLjk1ODU2OF0sCiAgICAgICAgICAgICAgICB7fQogICAgICAgICAgICApLmFkZFRvKG1hcF8xNTNlNmEzMWQ5NDg0OGU0YmNhMTQ2NTA5MjMwZTljYik7CiAgICAgICAgCiAgICAKICAgICAgICB2YXIgcG9wdXBfZDRmMzMyNTY3ZWJiNGZhMDk5MjAzZWQzMTM0NGM2MGIgPSBMLnBvcHVwKHsibWF4V2lkdGgiOiAiMTAwJSJ9KTsKCiAgICAgICAgCiAgICAgICAgICAgIHZhciBodG1sX2EwMDVlMDY5OTczNzRiYzA5NWJmM2U2MTMwMDZkMTdiID0gJChgPGRpdiBpZD0iaHRtbF9hMDA1ZTA2OTk3Mzc0YmMwOTViZjNlNjEzMDA2ZDE3YiIgc3R5bGU9IndpZHRoOiAxMDAuMCU7IGhlaWdodDogMTAwLjAlOyI+UGF1bGllIEdlZSdzIFByaWNlOiAkJCBSYXRpbmc6NC41PC9kaXY+YClbMF07CiAgICAgICAgICAgIHBvcHVwX2Q0ZjMzMjU2N2ViYjRmYTA5OTIwM2VkMzEzNDRjNjBiLnNldENvbnRlbnQoaHRtbF9hMDA1ZTA2OTk3Mzc0YmMwOTViZjNlNjEzMDA2ZDE3Yik7CiAgICAgICAgCgogICAgICAgIG1hcmtlcl84ZGRjZWFlMjJiOGU0MzYxODdhYmI2YzU0YjBmNDMzOS5iaW5kUG9wdXAocG9wdXBfZDRmMzMyNTY3ZWJiNGZhMDk5MjAzZWQzMTM0NGM2MGIpCiAgICAgICAgOwoKICAgICAgICAKICAgIAogICAgCiAgICAgICAgICAgIHZhciBtYXJrZXJfYzVjOTFlM2RmOTJlNGZmNWIxMmQzMGQ2NmI4ZDI4NWUgPSBMLm1hcmtlcigKICAgICAgICAgICAgICAgIFs0MC43MjM2MjUsIC03My45ODg1NTVdLAogICAgICAgICAgICAgICAge30KICAgICAgICAgICAgKS5hZGRUbyhtYXBfMTUzZTZhMzFkOTQ4NDhlNGJjYTE0NjUwOTIzMGU5Y2IpOwogICAgICAgIAogICAgCiAgICAgICAgdmFyIHBvcHVwX2U0MTI0MWViYWEyZjQ2OTlhNDNjODdhNGZiNTg1NWZiID0gTC5wb3B1cCh7Im1heFdpZHRoIjogIjEwMCUifSk7CgogICAgICAgIAogICAgICAgICAgICB2YXIgaHRtbF81MGRlYjBkM2E0ZWI0MzM3YjA1MmM1NGI5NmNmZDBlZCA9ICQoYDxkaXYgaWQ9Imh0bWxfNTBkZWIwZDNhNGViNDMzN2IwNTJjNTRiOTZjZmQwZWQiIHN0eWxlPSJ3aWR0aDogMTAwLjAlOyBoZWlnaHQ6IDEwMC4wJTsiPkxpbCBGcmFua2llJ3MgUHJpY2U6ICQkIFJhdGluZzo0LjA8L2Rpdj5gKVswXTsKICAgICAgICAgICAgcG9wdXBfZTQxMjQxZWJhYTJmNDY5OWE0M2M4N2E0ZmI1ODU1ZmIuc2V0Q29udGVudChodG1sXzUwZGViMGQzYTRlYjQzMzdiMDUyYzU0Yjk2Y2ZkMGVkKTsKICAgICAgICAKCiAgICAgICAgbWFya2VyX2M1YzkxZTNkZjkyZTRmZjViMTJkMzBkNjZiOGQyODVlLmJpbmRQb3B1cChwb3B1cF9lNDEyNDFlYmFhMmY0Njk5YTQzYzg3YTRmYjU4NTVmYikKICAgICAgICA7CgogICAgICAgIAogICAgCiAgICAKICAgICAgICAgICAgdmFyIG1hcmtlcl82NDJmZmNjYzAzMzU0NTBkYmE3OTNhOWRmZGZmYjk5ZCA9IEwubWFya2VyKAogICAgICAgICAgICAgICAgWzQwLjcxNjkxLCAtNzMuOTU4OTg3XSwKICAgICAgICAgICAgICAgIHt9CiAgICAgICAgICAgICkuYWRkVG8obWFwXzE1M2U2YTMxZDk0ODQ4ZTRiY2ExNDY1MDkyMzBlOWNiKTsKICAgICAgICAKICAgIAogICAgICAgIHZhciBwb3B1cF80ZDJiMzg3ODVmNGI0NjU1OWZmNWI4YWViZTE4MTQzOCA9IEwucG9wdXAoeyJtYXhXaWR0aCI6ICIxMDAlIn0pOwoKICAgICAgICAKICAgICAgICAgICAgdmFyIGh0bWxfYmVjMGE1MjYxYjJhNDFkMjk3NmQ5YWIxYjNmYTAxM2QgPSAkKGA8ZGl2IGlkPSJodG1sX2JlYzBhNTI2MWIyYTQxZDI5NzZkOWFiMWIzZmEwMTNkIiBzdHlsZT0id2lkdGg6IDEwMC4wJTsgaGVpZ2h0OiAxMDAuMCU7Ij5Kb2UncyBQaXp6YSBQcmljZTogJCBSYXRpbmc6NC4wPC9kaXY+YClbMF07CiAgICAgICAgICAgIHBvcHVwXzRkMmIzODc4NWY0YjQ2NTU5ZmY1YjhhZWJlMTgxNDM4LnNldENvbnRlbnQoaHRtbF9iZWMwYTUyNjFiMmE0MWQyOTc2ZDlhYjFiM2ZhMDEzZCk7CiAgICAgICAgCgogICAgICAgIG1hcmtlcl82NDJmZmNjYzAzMzU0NTBkYmE3OTNhOWRmZGZmYjk5ZC5iaW5kUG9wdXAocG9wdXBfNGQyYjM4Nzg1ZjRiNDY1NTlmZjViOGFlYmUxODE0MzgpCiAgICAgICAgOwoKICAgICAgICAKICAgIAogICAgCiAgICAgICAgICAgIHZhciBtYXJrZXJfYzFkMTcyZGUzMmEzNDY3NDkwNGQxN2E4ZjI3NWQ1ZmEgPSBMLm1hcmtlcigKICAgICAgICAgICAgICAgIFs0MC43MjgxOTksIC03My45ODUxODJdLAogICAgICAgICAgICAgICAge30KICAgICAgICAgICAgKS5hZGRUbyhtYXBfMTUzZTZhMzFkOTQ4NDhlNGJjYTE0NjUwOTIzMGU5Y2IpOwogICAgICAgIAogICAgCiAgICAgICAgdmFyIHBvcHVwXzcwMmEyYjlmZGUyYTQwNDI4NzliYzMzMTk2NGQzN2FlID0gTC5wb3B1cCh7Im1heFdpZHRoIjogIjEwMCUifSk7CgogICAgICAgIAogICAgICAgICAgICB2YXIgaHRtbF9jYTg5Y2YyOTcwOTI0MjkwYmJjYWMzZDZhOTBjMjVlMSA9ICQoYDxkaXYgaWQ9Imh0bWxfY2E4OWNmMjk3MDkyNDI5MGJiY2FjM2Q2YTkwYzI1ZTEiIHN0eWxlPSJ3aWR0aDogMTAwLjAlOyBoZWlnaHQ6IDEwMC4wJTsiPkVhc3QgVmlsbGFnZSBQaXp6YSBQcmljZTogJCBSYXRpbmc6NC4wPC9kaXY+YClbMF07CiAgICAgICAgICAgIHBvcHVwXzcwMmEyYjlmZGUyYTQwNDI4NzliYzMzMTk2NGQzN2FlLnNldENvbnRlbnQoaHRtbF9jYTg5Y2YyOTcwOTI0MjkwYmJjYWMzZDZhOTBjMjVlMSk7CiAgICAgICAgCgogICAgICAgIG1hcmtlcl9jMWQxNzJkZTMyYTM0Njc0OTA0ZDE3YThmMjc1ZDVmYS5iaW5kUG9wdXAocG9wdXBfNzAyYTJiOWZkZTJhNDA0Mjg3OWJjMzMxOTY0ZDM3YWUpCiAgICAgICAgOwoKICAgICAgICAKICAgIAogICAgCiAgICAgICAgICAgIHZhciBtYXJrZXJfMjlhYTFkNTdkMjljNDQ2NWFhZWM2YmY3NzY2NTM0ZjMgPSBMLm1hcmtlcigKICAgICAgICAgICAgICAgIFs0MC43MzkyNTk3NTg0NjEyLCAtNzQuMDA4ODEzMDY5MjE4N10sCiAgICAgICAgICAgICAgICB7fQogICAgICAgICAgICApLmFkZFRvKG1hcF8xNTNlNmEzMWQ5NDg0OGU0YmNhMTQ2NTA5MjMwZTljYik7CiAgICAgICAgCiAgICAKICAgICAgICB2YXIgcG9wdXBfOGEzN2RiNjM3MTFhNGYxNjliZTk1MzYyNWE4ZWIyMWEgPSBMLnBvcHVwKHsibWF4V2lkdGgiOiAiMTAwJSJ9KTsKCiAgICAgICAgCiAgICAgICAgICAgIHZhciBodG1sXzlkYjkyNmEyOWUwNDQwNDk4ZTc5ZGZlYTIyY2YwNjE1ID0gJChgPGRpdiBpZD0iaHRtbF85ZGI5MjZhMjllMDQ0MDQ5OGU3OWRmZWEyMmNmMDYxNSIgc3R5bGU9IndpZHRoOiAxMDAuMCU7IGhlaWdodDogMTAwLjAlOyI+U0lNw5IgUElaWkEgUHJpY2U6ICQgUmF0aW5nOjQuNTwvZGl2PmApWzBdOwogICAgICAgICAgICBwb3B1cF84YTM3ZGI2MzcxMWE0ZjE2OWJlOTUzNjI1YThlYjIxYS5zZXRDb250ZW50KGh0bWxfOWRiOTI2YTI5ZTA0NDA0OThlNzlkZmVhMjJjZjA2MTUpOwogICAgICAgIAoKICAgICAgICBtYXJrZXJfMjlhYTFkNTdkMjljNDQ2NWFhZWM2YmY3NzY2NTM0ZjMuYmluZFBvcHVwKHBvcHVwXzhhMzdkYjYzNzExYTRmMTY5YmU5NTM2MjVhOGViMjFhKQogICAgICAgIDsKCiAgICAgICAgCiAgICAKICAgIAogICAgICAgICAgICB2YXIgbWFya2VyXzI1MDFmMTZlMjQ2YTRlOGJhMDY2MzMzNzYyMzYyYTYyID0gTC5tYXJrZXIoCiAgICAgICAgICAgICAgICBbNDAuNTk0NzE1LCAtNzMuOTgxMzE2XSwKICAgICAgICAgICAgICAgIHt9CiAgICAgICAgICAgICkuYWRkVG8obWFwXzE1M2U2YTMxZDk0ODQ4ZTRiY2ExNDY1MDkyMzBlOWNiKTsKICAgICAgICAKICAgIAogICAgICAgIHZhciBwb3B1cF9iOGVhYzY1ODhkOTU0NzEzYTgwZGI4ZTFiMWI0NDcyMCA9IEwucG9wdXAoeyJtYXhXaWR0aCI6ICIxMDAlIn0pOwoKICAgICAgICAKICAgICAgICAgICAgdmFyIGh0bWxfMGFkNGY5MThiZTI2NGEzZjgyMTlhMjVkYjM4M2FkMTUgPSAkKGA8ZGl2IGlkPSJodG1sXzBhZDRmOTE4YmUyNjRhM2Y4MjE5YTI1ZGIzODNhZDE1IiBzdHlsZT0id2lkdGg6IDEwMC4wJTsgaGVpZ2h0OiAxMDAuMCU7Ij5MICYgQiBTcHVtb25pIEdhcmRlbnMgUHJpY2U6ICQgUmF0aW5nOjQuMDwvZGl2PmApWzBdOwogICAgICAgICAgICBwb3B1cF9iOGVhYzY1ODhkOTU0NzEzYTgwZGI4ZTFiMWI0NDcyMC5zZXRDb250ZW50KGh0bWxfMGFkNGY5MThiZTI2NGEzZjgyMTlhMjVkYjM4M2FkMTUpOwogICAgICAgIAoKICAgICAgICBtYXJrZXJfMjUwMWYxNmUyNDZhNGU4YmEwNjYzMzM3NjIzNjJhNjIuYmluZFBvcHVwKHBvcHVwX2I4ZWFjNjU4OGQ5NTQ3MTNhODBkYjhlMWIxYjQ0NzIwKQogICAgICAgIDsKCiAgICAgICAgCiAgICAKICAgIAogICAgICAgICAgICB2YXIgbWFya2VyXzRkNzJjNzNkYzUzOTRiMzZiNzZiZjM1NmUxZjI4MzFhID0gTC5tYXJrZXIoCiAgICAgICAgICAgICAgICBbNDAuNjYwMzQzMDk3MzQ2MywgLTczLjk5MDc3NDE1NDY2MzFdLAogICAgICAgICAgICAgICAge30KICAgICAgICAgICAgKS5hZGRUbyhtYXBfMTUzZTZhMzFkOTQ4NDhlNGJjYTE0NjUwOTIzMGU5Y2IpOwogICAgICAgIAogICAgCiAgICAgICAgdmFyIHBvcHVwX2NkOTAxMDgyMmExYzQzMjk4MmUwYWI4ZDUzNmQ4Y2M3ID0gTC5wb3B1cCh7Im1heFdpZHRoIjogIjEwMCUifSk7CgogICAgICAgIAogICAgICAgICAgICB2YXIgaHRtbF9iYWQ5MmQ0MTdlNjA0MjUzODA5Y2E1ZTcwMWM1MGJkZiA9ICQoYDxkaXYgaWQ9Imh0bWxfYmFkOTJkNDE3ZTYwNDI1MzgwOWNhNWU3MDFjNTBiZGYiIHN0eWxlPSJ3aWR0aDogMTAwLjAlOyBoZWlnaHQ6IDEwMC4wJTsiPkdpdXNlcHBpbmEncyBQcmljZTogJCQgUmF0aW5nOjQuNTwvZGl2PmApWzBdOwogICAgICAgICAgICBwb3B1cF9jZDkwMTA4MjJhMWM0MzI5ODJlMGFiOGQ1MzZkOGNjNy5zZXRDb250ZW50KGh0bWxfYmFkOTJkNDE3ZTYwNDI1MzgwOWNhNWU3MDFjNTBiZGYpOwogICAgICAgIAoKICAgICAgICBtYXJrZXJfNGQ3MmM3M2RjNTM5NGIzNmI3NmJmMzU2ZTFmMjgzMWEuYmluZFBvcHVwKHBvcHVwX2NkOTAxMDgyMmExYzQzMjk4MmUwYWI4ZDUzNmQ4Y2M3KQogICAgICAgIDsKCiAgICAgICAgCiAgICAKICAgIAogICAgICAgICAgICB2YXIgbWFya2VyXzg3OTc3NmY0NWI3NzQxZjE5MWUzMGIyYjQ1NGZmNjIwID0gTC5tYXJrZXIoCiAgICAgICAgICAgICAgICBbNDAuNzUwMjA1OTkzNjUyMywgLTczLjk5NTMyMzE4MTE1MjNdLAogICAgICAgICAgICAgICAge30KICAgICAgICAgICAgKS5hZGRUbyhtYXBfMTUzZTZhMzFkOTQ4NDhlNGJjYTE0NjUwOTIzMGU5Y2IpOwogICAgICAgIAogICAgCiAgICAgICAgdmFyIHBvcHVwXzZkN2E3MTQ2OTFlOTQ0ZGE5NzAxZDI5YjJjNDYyMzgzID0gTC5wb3B1cCh7Im1heFdpZHRoIjogIjEwMCUifSk7CgogICAgICAgIAogICAgICAgICAgICB2YXIgaHRtbF81NzNhZWUwNGU0OWY0YmU0Yjk5N2MyNDU3ZDc3MzA1ZCA9ICQoYDxkaXYgaWQ9Imh0bWxfNTczYWVlMDRlNDlmNGJlNGI5OTdjMjQ1N2Q3NzMwNWQiIHN0eWxlPSJ3aWR0aDogMTAwLjAlOyBoZWlnaHQ6IDEwMC4wJTsiPk5ZIFBpenphIFN1cHJlbWEgUHJpY2U6ICQgUmF0aW5nOjQuMDwvZGl2PmApWzBdOwogICAgICAgICAgICBwb3B1cF82ZDdhNzE0NjkxZTk0NGRhOTcwMWQyOWIyYzQ2MjM4My5zZXRDb250ZW50KGh0bWxfNTczYWVlMDRlNDlmNGJlNGI5OTdjMjQ1N2Q3NzMwNWQpOwogICAgICAgIAoKICAgICAgICBtYXJrZXJfODc5Nzc2ZjQ1Yjc3NDFmMTkxZTMwYjJiNDU0ZmY2MjAuYmluZFBvcHVwKHBvcHVwXzZkN2E3MTQ2OTFlOTQ0ZGE5NzAxZDI5YjJjNDYyMzgzKQogICAgICAgIDsKCiAgICAgICAgCiAgICAKICAgIAogICAgICAgICAgICB2YXIgbWFya2VyX2FmNDhkZWY5YzdmZjQzYjRhYjJiZjEzMDA1NmEzOTlkID0gTC5tYXJrZXIoCiAgICAgICAgICAgICAgICBbNDAuNjg5NywgLTczLjk2NTM2OV0sCiAgICAgICAgICAgICAgICB7fQogICAgICAgICAgICApLmFkZFRvKG1hcF8xNTNlNmEzMWQ5NDg0OGU0YmNhMTQ2NTA5MjMwZTljYik7CiAgICAgICAgCiAgICAKICAgICAgICB2YXIgcG9wdXBfMmU3YmMzNTdmM2E3NGUxYWJlNjFmNzI5YTNlMDdmOTcgPSBMLnBvcHVwKHsibWF4V2lkdGgiOiAiMTAwJSJ9KTsKCiAgICAgICAgCiAgICAgICAgICAgIHZhciBodG1sX2U2Y2RjYjA5ZjU5ZDRiMjFhNjg4N2RkYjliMzM2NmU4ID0gJChgPGRpdiBpZD0iaHRtbF9lNmNkY2IwOWY1OWQ0YjIxYTY4ODdkZGI5YjMzNjZlOCIgc3R5bGU9IndpZHRoOiAxMDAuMCU7IGhlaWdodDogMTAwLjAlOyI+THVpZ2kncyBQaXp6ZXJpYSBQcmljZTogJCBSYXRpbmc6NC41PC9kaXY+YClbMF07CiAgICAgICAgICAgIHBvcHVwXzJlN2JjMzU3ZjNhNzRlMWFiZTYxZjcyOWEzZTA3Zjk3LnNldENvbnRlbnQoaHRtbF9lNmNkY2IwOWY1OWQ0YjIxYTY4ODdkZGI5YjMzNjZlOCk7CiAgICAgICAgCgogICAgICAgIG1hcmtlcl9hZjQ4ZGVmOWM3ZmY0M2I0YWIyYmYxMzAwNTZhMzk5ZC5iaW5kUG9wdXAocG9wdXBfMmU3YmMzNTdmM2E3NGUxYWJlNjFmNzI5YTNlMDdmOTcpCiAgICAgICAgOwoKICAgICAgICAKICAgIAogICAgCiAgICAgICAgICAgIHZhciBtYXJrZXJfMmUxOWRmZTU0YjI5NGVkODhkY2IwZTJjOTNhYzNiY2QgPSBMLm1hcmtlcigKICAgICAgICAgICAgICAgIFs0MC43NDQ1ODgyLCAtNzMuOTg0NzkzNl0sCiAgICAgICAgICAgICAgICB7fQogICAgICAgICAgICApLmFkZFRvKG1hcF8xNTNlNmEzMWQ5NDg0OGU0YmNhMTQ2NTA5MjMwZTljYik7CiAgICAgICAgCiAgICAKICAgICAgICB2YXIgcG9wdXBfZmMzMjJlOTJkMjM1NGEzNWI0MWMwNTAyYjhhMWY1NTEgPSBMLnBvcHVwKHsibWF4V2lkdGgiOiAiMTAwJSJ9KTsKCiAgICAgICAgCiAgICAgICAgICAgIHZhciBodG1sX2EwYzY2M2U4ZDMyNjQxMzg5MTNjNzg5NTJhYmNlYWM2ID0gJChgPGRpdiBpZD0iaHRtbF9hMGM2NjNlOGQzMjY0MTM4OTEzYzc4OTUyYWJjZWFjNiIgc3R5bGU9IndpZHRoOiAxMDAuMCU7IGhlaWdodDogMTAwLjAlOyI+TWFydGEgUHJpY2U6ICQkJCBSYXRpbmc6NC4wPC9kaXY+YClbMF07CiAgICAgICAgICAgIHBvcHVwX2ZjMzIyZTkyZDIzNTRhMzViNDFjMDUwMmI4YTFmNTUxLnNldENvbnRlbnQoaHRtbF9hMGM2NjNlOGQzMjY0MTM4OTEzYzc4OTUyYWJjZWFjNik7CiAgICAgICAgCgogICAgICAgIG1hcmtlcl8yZTE5ZGZlNTRiMjk0ZWQ4OGRjYjBlMmM5M2FjM2JjZC5iaW5kUG9wdXAocG9wdXBfZmMzMjJlOTJkMjM1NGEzNWI0MWMwNTAyYjhhMWY1NTEpCiAgICAgICAgOwoKICAgICAgICAKICAgIAogICAgCiAgICAgICAgICAgIHZhciBtYXJrZXJfZTBmZjRjMjIwMTFkNGExOGFmMjI3NzU2MDRjZTA2OGYgPSBMLm1hcmtlcigKICAgICAgICAgICAgICAgIFs0MC43MDI0NCwgLTczLjk4OTQzXSwKICAgICAgICAgICAgICAgIHt9CiAgICAgICAgICAgICkuYWRkVG8obWFwXzE1M2U2YTMxZDk0ODQ4ZTRiY2ExNDY1MDkyMzBlOWNiKTsKICAgICAgICAKICAgIAogICAgICAgIHZhciBwb3B1cF85YjFmZjI5ZDRhNjk0NzcwYTBiZjZkMjQ3ZGY4NWY4ZiA9IEwucG9wdXAoeyJtYXhXaWR0aCI6ICIxMDAlIn0pOwoKICAgICAgICAKICAgICAgICAgICAgdmFyIGh0bWxfYTg1NjU2ZjljYzcyNDFiYWIwMjVjNjdjZGEwYjk2OWMgPSAkKGA8ZGl2IGlkPSJodG1sX2E4NTY1NmY5Y2M3MjQxYmFiMDI1YzY3Y2RhMGI5NjljIiBzdHlsZT0id2lkdGg6IDEwMC4wJTsgaGVpZ2h0OiAxMDAuMCU7Ij5Gcm9udCBTdHJlZXQgUGl6emEgUHJpY2U6ICQgUmF0aW5nOjQuMDwvZGl2PmApWzBdOwogICAgICAgICAgICBwb3B1cF85YjFmZjI5ZDRhNjk0NzcwYTBiZjZkMjQ3ZGY4NWY4Zi5zZXRDb250ZW50KGh0bWxfYTg1NjU2ZjljYzcyNDFiYWIwMjVjNjdjZGEwYjk2OWMpOwogICAgICAgIAoKICAgICAgICBtYXJrZXJfZTBmZjRjMjIwMTFkNGExOGFmMjI3NzU2MDRjZTA2OGYuYmluZFBvcHVwKHBvcHVwXzliMWZmMjlkNGE2OTQ3NzBhMGJmNmQyNDdkZjg1ZjhmKQogICAgICAgIDsKCiAgICAgICAgCiAgICAKICAgIAogICAgICAgICAgICB2YXIgbWFya2VyXzMzMDM4ZjlkMWE1YTQxN2ViNjIzZGUzNmY5OTVhODQxID0gTC5tYXJrZXIoCiAgICAgICAgICAgICAgICBbNDAuNzEwMTI5NzcyOTA4MywgLTc0LjAwNzcyMDY4NjQ5NTNdLAogICAgICAgICAgICAgICAge30KICAgICAgICAgICAgKS5hZGRUbyhtYXBfMTUzZTZhMzFkOTQ4NDhlNGJjYTE0NjUwOTIzMGU5Y2IpOwogICAgICAgIAogICAgCiAgICAgICAgdmFyIHBvcHVwXzhjN2VlZjk5YzE5ZjQyNjU5NWMwM2JjMWFhNjI5YmE0ID0gTC5wb3B1cCh7Im1heFdpZHRoIjogIjEwMCUifSk7CgogICAgICAgIAogICAgICAgICAgICB2YXIgaHRtbF8wMWM2MmU0ZjhiMzg0Y2Y0OGNhNWNmZmZhYzU2OTU4ZCA9ICQoYDxkaXYgaWQ9Imh0bWxfMDFjNjJlNGY4YjM4NGNmNDhjYTVjZmZmYWM1Njk1OGQiIHN0eWxlPSJ3aWR0aDogMTAwLjAlOyBoZWlnaHQ6IDEwMC4wJTsiPkpvZSdzIFBpenphIFByaWNlOiAkIFJhdGluZzo0LjA8L2Rpdj5gKVswXTsKICAgICAgICAgICAgcG9wdXBfOGM3ZWVmOTljMTlmNDI2NTk1YzAzYmMxYWE2MjliYTQuc2V0Q29udGVudChodG1sXzAxYzYyZTRmOGIzODRjZjQ4Y2E1Y2ZmZmFjNTY5NThkKTsKICAgICAgICAKCiAgICAgICAgbWFya2VyXzMzMDM4ZjlkMWE1YTQxN2ViNjIzZGUzNmY5OTVhODQxLmJpbmRQb3B1cChwb3B1cF84YzdlZWY5OWMxOWY0MjY1OTVjMDNiYzFhYTYyOWJhNCkKICAgICAgICA7CgogICAgICAgIAogICAgCiAgICAKICAgICAgICAgICAgdmFyIG1hcmtlcl8zMTZkMjQ2NmI4MDk0YjViODI4ZjdkOGU0YWI0ZWIyOCA9IEwubWFya2VyKAogICAgICAgICAgICAgICAgWzQwLjc0MzU1MywgLTczLjk4MDAyNl0sCiAgICAgICAgICAgICAgICB7fQogICAgICAgICAgICApLmFkZFRvKG1hcF8xNTNlNmEzMWQ5NDg0OGU0YmNhMTQ2NTA5MjMwZTljYik7CiAgICAgICAgCiAgICAKICAgICAgICB2YXIgcG9wdXBfZGE5ZTY0NzEyNjRhNDJjZDkwYmE5YTBjMDM3OTJmN2IgPSBMLnBvcHVwKHsibWF4V2lkdGgiOiAiMTAwJSJ9KTsKCiAgICAgICAgCiAgICAgICAgICAgIHZhciBodG1sX2E4ZmY5OTdjOTU4ZDRkOGRiNWQ3NGMzYmNhM2YxNDM0ID0gJChgPGRpdiBpZD0iaHRtbF9hOGZmOTk3Yzk1OGQ0ZDhkYjVkNzRjM2JjYTNmMTQzNCIgc3R5bGU9IndpZHRoOiAxMDAuMCU7IGhlaWdodDogMTAwLjAlOyI+Tm9ybWEgUHJpY2U6ICQkIFJhdGluZzo0LjU8L2Rpdj5gKVswXTsKICAgICAgICAgICAgcG9wdXBfZGE5ZTY0NzEyNjRhNDJjZDkwYmE5YTBjMDM3OTJmN2Iuc2V0Q29udGVudChodG1sX2E4ZmY5OTdjOTU4ZDRkOGRiNWQ3NGMzYmNhM2YxNDM0KTsKICAgICAgICAKCiAgICAgICAgbWFya2VyXzMxNmQyNDY2YjgwOTRiNWI4MjhmN2Q4ZTRhYjRlYjI4LmJpbmRQb3B1cChwb3B1cF9kYTllNjQ3MTI2NGE0MmNkOTBiYTlhMGMwMzc5MmY3YikKICAgICAgICA7CgogICAgICAgIAogICAgCiAgICAKICAgICAgICAgICAgdmFyIG1hcmtlcl82NWNhMzU3Y2Q3OTA0N2FlOTVmOWQzZWZhZmI0OGI3MyA9IEwubWFya2VyKAogICAgICAgICAgICAgICAgWzQwLjcxNzc0OTA0ODUwNzUsIC03NC4wNDQxOTI0MzU1MTI1XSwKICAgICAgICAgICAgICAgIHt9CiAgICAgICAgICAgICkuYWRkVG8obWFwXzE1M2U2YTMxZDk0ODQ4ZTRiY2ExNDY1MDkyMzBlOWNiKTsKICAgICAgICAKICAgIAogICAgICAgIHZhciBwb3B1cF8zYTFhMjYzNjliN2M0OGU5OWM3ODc1YjhmODZjNDBhMiA9IEwucG9wdXAoeyJtYXhXaWR0aCI6ICIxMDAlIn0pOwoKICAgICAgICAKICAgICAgICAgICAgdmFyIGh0bWxfM2QyNTYwNDE4MjAxNDUwOGEwNDU4NWQ2YjQ1ZjliNjggPSAkKGA8ZGl2IGlkPSJodG1sXzNkMjU2MDQxODIwMTQ1MDhhMDQ1ODVkNmI0NWY5YjY4IiBzdHlsZT0id2lkdGg6IDEwMC4wJTsgaGVpZ2h0OiAxMDAuMCU7Ij5SYXp6YSBQaXp6YSBBcnRpZ2lhbmFsZSBQcmljZTogJCQgUmF0aW5nOjQuMDwvZGl2PmApWzBdOwogICAgICAgICAgICBwb3B1cF8zYTFhMjYzNjliN2M0OGU5OWM3ODc1YjhmODZjNDBhMi5zZXRDb250ZW50KGh0bWxfM2QyNTYwNDE4MjAxNDUwOGEwNDU4NWQ2YjQ1ZjliNjgpOwogICAgICAgIAoKICAgICAgICBtYXJrZXJfNjVjYTM1N2NkNzkwNDdhZTk1ZjlkM2VmYWZiNDhiNzMuYmluZFBvcHVwKHBvcHVwXzNhMWEyNjM2OWI3YzQ4ZTk5Yzc4NzViOGY4NmM0MGEyKQogICAgICAgIDsKCiAgICAgICAgCiAgICAKICAgIAogICAgICAgICAgICB2YXIgbWFya2VyX2Q4M2ZhYjZiODA3OTQ2M2VhZmYyNTZmZTU2MDY1ZDgzID0gTC5tYXJrZXIoCiAgICAgICAgICAgICAgICBbNDAuNzU0NywgLTczLjk4Njk2XSwKICAgICAgICAgICAgICAgIHt9CiAgICAgICAgICAgICkuYWRkVG8obWFwXzE1M2U2YTMxZDk0ODQ4ZTRiY2ExNDY1MDkyMzBlOWNiKTsKICAgICAgICAKICAgIAogICAgICAgIHZhciBwb3B1cF80ZjJlOWNhZjZmYzQ0ZGExYTJhNzgwYTQ4ZTFmMGYzZiA9IEwucG9wdXAoeyJtYXhXaWR0aCI6ICIxMDAlIn0pOwoKICAgICAgICAKICAgICAgICAgICAgdmFyIGh0bWxfMWQzYWZmMWZlNDAwNDk1YWE5OWQ3NjhiMzk2OWJhNmYgPSAkKGA8ZGl2IGlkPSJodG1sXzFkM2FmZjFmZTQwMDQ5NWFhOTlkNzY4YjM5NjliYTZmIiBzdHlsZT0id2lkdGg6IDEwMC4wJTsgaGVpZ2h0OiAxMDAuMCU7Ij5Kb2UncyBQaXp6YSBQcmljZTogJCBSYXRpbmc6NC4wPC9kaXY+YClbMF07CiAgICAgICAgICAgIHBvcHVwXzRmMmU5Y2FmNmZjNDRkYTFhMmE3ODBhNDhlMWYwZjNmLnNldENvbnRlbnQoaHRtbF8xZDNhZmYxZmU0MDA0OTVhYTk5ZDc2OGIzOTY5YmE2Zik7CiAgICAgICAgCgogICAgICAgIG1hcmtlcl9kODNmYWI2YjgwNzk0NjNlYWZmMjU2ZmU1NjA2NWQ4My5iaW5kUG9wdXAocG9wdXBfNGYyZTljYWY2ZmM0NGRhMWEyYTc4MGE0OGUxZjBmM2YpCiAgICAgICAgOwoKICAgICAgICAKICAgIAogICAgCiAgICAgICAgICAgIHZhciBtYXJrZXJfYzY4N2YwNDk5MDdkNGQ0NzhmZjg1Y2UwZTQyZTYzNmUgPSBMLm1hcmtlcigKICAgICAgICAgICAgICAgIFs0MC43MTk0MDg5NTQ3MjU5LCAtNzMuOTk3Mzc3Nzg3NzcyMl0sCiAgICAgICAgICAgICAgICB7fQogICAgICAgICAgICApLmFkZFRvKG1hcF8xNTNlNmEzMWQ5NDg0OGU0YmNhMTQ2NTA5MjMwZTljYik7CiAgICAgICAgCiAgICAKICAgICAgICB2YXIgcG9wdXBfNjkzMWNlNmEyOTY3NDVlZGJhOWM2Y2EzMmI4MjBlMTAgPSBMLnBvcHVwKHsibWF4V2lkdGgiOiAiMTAwJSJ9KTsKCiAgICAgICAgCiAgICAgICAgICAgIHZhciBodG1sX2RhOGU1YTI3MjQyYzQ0MGQ5Mzc5MmZlM2ZlOTRmMTEzID0gJChgPGRpdiBpZD0iaHRtbF9kYThlNWEyNzI0MmM0NDBkOTM3OTJmZTNmZTk0ZjExMyIgc3R5bGU9IndpZHRoOiAxMDAuMCU7IGhlaWdodDogMTAwLjAlOyI+R2Vsc28gJiBHcmFuZCBQcmljZTogJCQgUmF0aW5nOjQuNTwvZGl2PmApWzBdOwogICAgICAgICAgICBwb3B1cF82OTMxY2U2YTI5Njc0NWVkYmE5YzZjYTMyYjgyMGUxMC5zZXRDb250ZW50KGh0bWxfZGE4ZTVhMjcyNDJjNDQwZDkzNzkyZmUzZmU5NGYxMTMpOwogICAgICAgIAoKICAgICAgICBtYXJrZXJfYzY4N2YwNDk5MDdkNGQ0NzhmZjg1Y2UwZTQyZTYzNmUuYmluZFBvcHVwKHBvcHVwXzY5MzFjZTZhMjk2NzQ1ZWRiYTljNmNhMzJiODIwZTEwKQogICAgICAgIDsKCiAgICAgICAgCiAgICAKICAgIAogICAgICAgICAgICB2YXIgbWFya2VyX2M4ZTM2MWVkZTY2YjQ3NTE5MmFmODE2MDEyODgxZGY2ID0gTC5tYXJrZXIoCiAgICAgICAgICAgICAgICBbNDAuNzMzNzk4MDM2MTA0MzA0LCAtNzMuOTk5NzczOTI2NDk5MjddLAogICAgICAgICAgICAgICAge30KICAgICAgICAgICAgKS5hZGRUbyhtYXBfMTUzZTZhMzFkOTQ4NDhlNGJjYTE0NjUwOTIzMGU5Y2IpOwogICAgICAgIAogICAgCiAgICAgICAgdmFyIHBvcHVwXzc4MmY5YjM0MWUwZTRhZWVhOWE5YzM4ZTIyODRiYWMzID0gTC5wb3B1cCh7Im1heFdpZHRoIjogIjEwMCUifSk7CgogICAgICAgIAogICAgICAgICAgICB2YXIgaHRtbF8yZjE4YjY3ODJlZGQ0MWRlOTI0NDM5ZTNmMzdiZGM1ZiA9ICQoYDxkaXYgaWQ9Imh0bWxfMmYxOGI2NzgyZWRkNDFkZTkyNDQzOWUzZjM3YmRjNWYiIHN0eWxlPSJ3aWR0aDogMTAwLjAlOyBoZWlnaHQ6IDEwMC4wJTsiPk9saW8gZSBQacO6IFByaWNlOiAkJCBSYXRpbmc6NC41PC9kaXY+YClbMF07CiAgICAgICAgICAgIHBvcHVwXzc4MmY5YjM0MWUwZTRhZWVhOWE5YzM4ZTIyODRiYWMzLnNldENvbnRlbnQoaHRtbF8yZjE4YjY3ODJlZGQ0MWRlOTI0NDM5ZTNmMzdiZGM1Zik7CiAgICAgICAgCgogICAgICAgIG1hcmtlcl9jOGUzNjFlZGU2NmI0NzUxOTJhZjgxNjAxMjg4MWRmNi5iaW5kUG9wdXAocG9wdXBfNzgyZjliMzQxZTBlNGFlZWE5YTljMzhlMjI4NGJhYzMpCiAgICAgICAgOwoKICAgICAgICAKICAgIAogICAgCiAgICAgICAgICAgIHZhciBtYXJrZXJfMDAxNDAwYTc4Y2FlNDkwYzkzMjVkODI5MzE2ZTRkOWUgPSBMLm1hcmtlcigKICAgICAgICAgICAgICAgIFs0MC42ODE4Njk1LCAtNzMuOTc2MTgxXSwKICAgICAgICAgICAgICAgIHt9CiAgICAgICAgICAgICkuYWRkVG8obWFwXzE1M2U2YTMxZDk0ODQ4ZTRiY2ExNDY1MDkyMzBlOWNiKTsKICAgICAgICAKICAgIAogICAgICAgIHZhciBwb3B1cF9iNDMyZWFmN2I3ZDE0Nzc3YjhhNjAyZTM4OGNkNTJjOSA9IEwucG9wdXAoeyJtYXhXaWR0aCI6ICIxMDAlIn0pOwoKICAgICAgICAKICAgICAgICAgICAgdmFyIGh0bWxfNzMwYjJlMTgwMTgxNGI0Mjk0MGQ1MjY3ZDVlNjQwNjYgPSAkKGA8ZGl2IGlkPSJodG1sXzczMGIyZTE4MDE4MTRiNDI5NDBkNTI2N2Q1ZTY0MDY2IiBzdHlsZT0id2lkdGg6IDEwMC4wJTsgaGVpZ2h0OiAxMDAuMCU7Ij5QYXRzeSdzIFBpenplcmlhIFByaWNlOiAkJCBSYXRpbmc6NC41PC9kaXY+YClbMF07CiAgICAgICAgICAgIHBvcHVwX2I0MzJlYWY3YjdkMTQ3NzdiOGE2MDJlMzg4Y2Q1MmM5LnNldENvbnRlbnQoaHRtbF83MzBiMmUxODAxODE0YjQyOTQwZDUyNjdkNWU2NDA2Nik7CiAgICAgICAgCgogICAgICAgIG1hcmtlcl8wMDE0MDBhNzhjYWU0OTBjOTMyNWQ4MjkzMTZlNGQ5ZS5iaW5kUG9wdXAocG9wdXBfYjQzMmVhZjdiN2QxNDc3N2I4YTYwMmUzODhjZDUyYzkpCiAgICAgICAgOwoKICAgICAgICAKICAgIAogICAgCiAgICAgICAgICAgIHZhciBtYXJrZXJfMmQ0YmMyYzE3ZTVmNGU0NTgwMGQ2ODZmYzkyZmVkNjYgPSBMLm1hcmtlcigKICAgICAgICAgICAgICAgIFs0MC42OTUwMzA5LCAtNzMuOTk2MTI1Ml0sCiAgICAgICAgICAgICAgICB7fQogICAgICAgICAgICApLmFkZFRvKG1hcF8xNTNlNmEzMWQ5NDg0OGU0YmNhMTQ2NTA5MjMwZTljYik7CiAgICAgICAgCiAgICAKICAgICAgICB2YXIgcG9wdXBfZDM5YmY5MTYzNTRmNDM4Mzg4YzNkZWJjNjA0Mzg2OGEgPSBMLnBvcHVwKHsibWF4V2lkdGgiOiAiMTAwJSJ9KTsKCiAgICAgICAgCiAgICAgICAgICAgIHZhciBodG1sXzNiMTM5MzlmN2UxNTQ0YThiNzNkMzdkOGEwMzljYmQ5ID0gJChgPGRpdiBpZD0iaHRtbF8zYjEzOTM5ZjdlMTU0NGE4YjczZDM3ZDhhMDM5Y2JkOSIgc3R5bGU9IndpZHRoOiAxMDAuMCU7IGhlaWdodDogMTAwLjAlOyI+RGVsbGFyb2NjbydzIFByaWNlOiAkJCBSYXRpbmc6NC4wPC9kaXY+YClbMF07CiAgICAgICAgICAgIHBvcHVwX2QzOWJmOTE2MzU0ZjQzODM4OGMzZGViYzYwNDM4NjhhLnNldENvbnRlbnQoaHRtbF8zYjEzOTM5ZjdlMTU0NGE4YjczZDM3ZDhhMDM5Y2JkOSk7CiAgICAgICAgCgogICAgICAgIG1hcmtlcl8yZDRiYzJjMTdlNWY0ZTQ1ODAwZDY4NmZjOTJmZWQ2Ni5iaW5kUG9wdXAocG9wdXBfZDM5YmY5MTYzNTRmNDM4Mzg4YzNkZWJjNjA0Mzg2OGEpCiAgICAgICAgOwoKICAgICAgICAKICAgIAogICAgCiAgICAgICAgICAgIHZhciBtYXJrZXJfZjlmNWY5MjUyZmRjNDg2NGFhYWU4NTk2YWVjOWY0YzYgPSBMLm1hcmtlcigKICAgICAgICAgICAgICAgIFs0MC43MzgyOSwgLTc0LjAwNTRdLAogICAgICAgICAgICAgICAge30KICAgICAgICAgICAgKS5hZGRUbyhtYXBfMTUzZTZhMzFkOTQ4NDhlNGJjYTE0NjUwOTIzMGU5Y2IpOwogICAgICAgIAogICAgCiAgICAgICAgdmFyIHBvcHVwX2I4ZTFjNTcxN2FiMDRiYzc4ZjRhZDc2Zjk5OWNmODhmID0gTC5wb3B1cCh7Im1heFdpZHRoIjogIjEwMCUifSk7CgogICAgICAgIAogICAgICAgICAgICB2YXIgaHRtbF9iYjM5MTYzOWI3OWU0ZDM2YjU2NGE4OTU4MDYwNjk2MCA9ICQoYDxkaXYgaWQ9Imh0bWxfYmIzOTE2MzliNzllNGQzNmI1NjRhODk1ODA2MDY5NjAiIHN0eWxlPSJ3aWR0aDogMTAwLjAlOyBoZWlnaHQ6IDEwMC4wJTsiPkJydW5ldHRpIFBpenphIFByaWNlOiAkJCBSYXRpbmc6NC41PC9kaXY+YClbMF07CiAgICAgICAgICAgIHBvcHVwX2I4ZTFjNTcxN2FiMDRiYzc4ZjRhZDc2Zjk5OWNmODhmLnNldENvbnRlbnQoaHRtbF9iYjM5MTYzOWI3OWU0ZDM2YjU2NGE4OTU4MDYwNjk2MCk7CiAgICAgICAgCgogICAgICAgIG1hcmtlcl9mOWY1ZjkyNTJmZGM0ODY0YWFhZTg1OTZhZWM5ZjRjNi5iaW5kUG9wdXAocG9wdXBfYjhlMWM1NzE3YWIwNGJjNzhmNGFkNzZmOTk5Y2Y4OGYpCiAgICAgICAgOwoKICAgICAgICAKICAgIAogICAgCiAgICAgICAgICAgIHZhciBtYXJrZXJfYTg2NDk0NzYwOWU2NDI0ZDkxZTYzODg0M2I4OTIzYTcgPSBMLm1hcmtlcigKICAgICAgICAgICAgICAgIFs0MC42OTEyMTkzMjk4MzQsIC03My45OTczNDQ5NzA3MDMxXSwKICAgICAgICAgICAgICAgIHt9CiAgICAgICAgICAgICkuYWRkVG8obWFwXzE1M2U2YTMxZDk0ODQ4ZTRiY2ExNDY1MDkyMzBlOWNiKTsKICAgICAgICAKICAgIAogICAgICAgIHZhciBwb3B1cF8wM2VmYjg2NjVkOGQ0MGFhOGJiMTI0ODIwZjYzMGE0ZCA9IEwucG9wdXAoeyJtYXhXaWR0aCI6ICIxMDAlIn0pOwoKICAgICAgICAKICAgICAgICAgICAgdmFyIGh0bWxfYjhjNThjODgxOTRjNDUyZmExYTFkN2NmMDY1ZjE2MTYgPSAkKGA8ZGl2IGlkPSJodG1sX2I4YzU4Yzg4MTk0YzQ1MmZhMWExZDdjZjA2NWYxNjE2IiBzdHlsZT0id2lkdGg6IDEwMC4wJTsgaGVpZ2h0OiAxMDAuMCU7Ij5UYWJsZSA4NyAtIEJyb29rbHluIEhlaWdodHMgUHJpY2U6ICQkIFJhdGluZzo0LjA8L2Rpdj5gKVswXTsKICAgICAgICAgICAgcG9wdXBfMDNlZmI4NjY1ZDhkNDBhYThiYjEyNDgyMGY2MzBhNGQuc2V0Q29udGVudChodG1sX2I4YzU4Yzg4MTk0YzQ1MmZhMWExZDdjZjA2NWYxNjE2KTsKICAgICAgICAKCiAgICAgICAgbWFya2VyX2E4NjQ5NDc2MDllNjQyNGQ5MWU2Mzg4NDNiODkyM2E3LmJpbmRQb3B1cChwb3B1cF8wM2VmYjg2NjVkOGQ0MGFhOGJiMTI0ODIwZjYzMGE0ZCkKICAgICAgICA7CgogICAgICAgIAogICAgCiAgICAKICAgICAgICAgICAgdmFyIG1hcmtlcl9mYmI3MDQzZDFhNjM0YmVlYThkMjhiNWI4NWE2N2E5YiA9IEwubWFya2VyKAogICAgICAgICAgICAgICAgWzQwLjcyNzQ4LCAtNzMuOTgyNjhdLAogICAgICAgICAgICAgICAge30KICAgICAgICAgICAgKS5hZGRUbyhtYXBfMTUzZTZhMzFkOTQ4NDhlNGJjYTE0NjUwOTIzMGU5Y2IpOwogICAgICAgIAogICAgCiAgICAgICAgdmFyIHBvcHVwXzJlODcwYTNiMzg4NTRmOWQ4M2Q0MGY2NmYxMDE4MjQwID0gTC5wb3B1cCh7Im1heFdpZHRoIjogIjEwMCUifSk7CgogICAgICAgIAogICAgICAgICAgICB2YXIgaHRtbF9kNWRlMzVjODQ4Njc0MTFlYmIxNzM3MjhjNTA5ODg2MSA9ICQoYDxkaXYgaWQ9Imh0bWxfZDVkZTM1Yzg0ODY3NDExZWJiMTczNzI4YzUwOTg4NjEiIHN0eWxlPSJ3aWR0aDogMTAwLjAlOyBoZWlnaHQ6IDEwMC4wJTsiPlZpbGxhZ2UgU3F1YXJlIFBpenphIFByaWNlOiAkIFJhdGluZzo0LjU8L2Rpdj5gKVswXTsKICAgICAgICAgICAgcG9wdXBfMmU4NzBhM2IzODg1NGY5ZDgzZDQwZjY2ZjEwMTgyNDAuc2V0Q29udGVudChodG1sX2Q1ZGUzNWM4NDg2NzQxMWViYjE3MzcyOGM1MDk4ODYxKTsKICAgICAgICAKCiAgICAgICAgbWFya2VyX2ZiYjcwNDNkMWE2MzRiZWVhOGQyOGI1Yjg1YTY3YTliLmJpbmRQb3B1cChwb3B1cF8yZTg3MGEzYjM4ODU0ZjlkODNkNDBmNjZmMTAxODI0MCkKICAgICAgICA7CgogICAgICAgIAogICAgCiAgICAKICAgICAgICAgICAgdmFyIG1hcmtlcl83ZDNhOGYxZmFmZjc0OTBiYWE2OTY3YzEzNGY2ODRjYiA9IEwubWFya2VyKAogICAgICAgICAgICAgICAgWzQwLjczOTg0MTUsIC03My45NzkyODYyXSwKICAgICAgICAgICAgICAgIHt9CiAgICAgICAgICAgICkuYWRkVG8obWFwXzE1M2U2YTMxZDk0ODQ4ZTRiY2ExNDY1MDkyMzBlOWNiKTsKICAgICAgICAKICAgIAogICAgICAgIHZhciBwb3B1cF8xYmNhZDdmZWFjNzg0YjQzYTViM2NiMjgzNDQ1YTQwOSA9IEwucG9wdXAoeyJtYXhXaWR0aCI6ICIxMDAlIn0pOwoKICAgICAgICAKICAgICAgICAgICAgdmFyIGh0bWxfMTNhYjQwNmRmZTE1NGMzZjhjZmJlZjY3NDc0ODA1NjcgPSAkKGA8ZGl2IGlkPSJodG1sXzEzYWI0MDZkZmUxNTRjM2Y4Y2ZiZWY2NzQ3NDgwNTY3IiBzdHlsZT0id2lkdGg6IDEwMC4wJTsgaGVpZ2h0OiAxMDAuMCU7Ij5QYXRyaXppYSdzIFBpenphIGFuZCBQYXN0YSBQcmljZTogJCQgUmF0aW5nOjQuMDwvZGl2PmApWzBdOwogICAgICAgICAgICBwb3B1cF8xYmNhZDdmZWFjNzg0YjQzYTViM2NiMjgzNDQ1YTQwOS5zZXRDb250ZW50KGh0bWxfMTNhYjQwNmRmZTE1NGMzZjhjZmJlZjY3NDc0ODA1NjcpOwogICAgICAgIAoKICAgICAgICBtYXJrZXJfN2QzYThmMWZhZmY3NDkwYmFhNjk2N2MxMzRmNjg0Y2IuYmluZFBvcHVwKHBvcHVwXzFiY2FkN2ZlYWM3ODRiNDNhNWIzY2IyODM0NDVhNDA5KQogICAgICAgIDsKCiAgICAgICAgCiAgICAKICAgIAogICAgICAgICAgICB2YXIgbWFya2VyXzQ2OWEwMmNkZDM1ZjQxZTk4Mzk3ZTEwODBkMGUzMTljID0gTC5tYXJrZXIoCiAgICAgICAgICAgICAgICBbNDAuNjkxMjgzNDA3MDc0NiwgLTczLjk5MDYwMjkyMDEwNDJdLAogICAgICAgICAgICAgICAge30KICAgICAgICAgICAgKS5hZGRUbyhtYXBfMTUzZTZhMzFkOTQ4NDhlNGJjYTE0NjUwOTIzMGU5Y2IpOwogICAgICAgIAogICAgCiAgICAgICAgdmFyIHBvcHVwX2EyYjVlYzg4YmViNTQzMGU5NGEzZjdhNTA4ZjQ0NDliID0gTC5wb3B1cCh7Im1heFdpZHRoIjogIjEwMCUifSk7CgogICAgICAgIAogICAgICAgICAgICB2YXIgaHRtbF8wZTViNmM0ZmIyNGI0NzA1YWE4ZTc4NDE1OTE3ODRiYiA9ICQoYDxkaXYgaWQ9Imh0bWxfMGU1YjZjNGZiMjRiNDcwNWFhOGU3ODQxNTkxNzg0YmIiIHN0eWxlPSJ3aWR0aDogMTAwLjAlOyBoZWlnaHQ6IDEwMC4wJTsiPlBpei16ZXR0YSBQcmljZTogJCBSYXRpbmc6NC41PC9kaXY+YClbMF07CiAgICAgICAgICAgIHBvcHVwX2EyYjVlYzg4YmViNTQzMGU5NGEzZjdhNTA4ZjQ0NDliLnNldENvbnRlbnQoaHRtbF8wZTViNmM0ZmIyNGI0NzA1YWE4ZTc4NDE1OTE3ODRiYik7CiAgICAgICAgCgogICAgICAgIG1hcmtlcl80NjlhMDJjZGQzNWY0MWU5ODM5N2UxMDgwZDBlMzE5Yy5iaW5kUG9wdXAocG9wdXBfYTJiNWVjODhiZWI1NDMwZTk0YTNmN2E1MDhmNDQ0OWIpCiAgICAgICAgOwoKICAgICAgICAKICAgIAogICAgCiAgICAgICAgICAgIHZhciBtYXJrZXJfZjBjYWZjYTUxNGYzNDQyMjgwNGMyNzhmNTRiODUxMGIgPSBMLm1hcmtlcigKICAgICAgICAgICAgICAgIFs0MC43MDc0OTIsIC03NC4wMDI1NzFdLAogICAgICAgICAgICAgICAge30KICAgICAgICAgICAgKS5hZGRUbyhtYXBfMTUzZTZhMzFkOTQ4NDhlNGJjYTE0NjUwOTIzMGU5Y2IpOwogICAgICAgIAogICAgCiAgICAgICAgdmFyIHBvcHVwXzhlZjhkYzJmZGY0MjQzMTJhNDhlMzgwOGZiYWYyNDZkID0gTC5wb3B1cCh7Im1heFdpZHRoIjogIjEwMCUifSk7CgogICAgICAgIAogICAgICAgICAgICB2YXIgaHRtbF8yMWU4NzNkNzMxYzI0YjBiOGZiZjYyZGZiNThkYjc5NSA9ICQoYDxkaXYgaWQ9Imh0bWxfMjFlODczZDczMWMyNGIwYjhmYmY2MmRmYjU4ZGI3OTUiIHN0eWxlPSJ3aWR0aDogMTAwLjAlOyBoZWlnaHQ6IDEwMC4wJTsiPklMIEJyaWdhbnRlIFByaWNlOiAkJCBSYXRpbmc6NC4wPC9kaXY+YClbMF07CiAgICAgICAgICAgIHBvcHVwXzhlZjhkYzJmZGY0MjQzMTJhNDhlMzgwOGZiYWYyNDZkLnNldENvbnRlbnQoaHRtbF8yMWU4NzNkNzMxYzI0YjBiOGZiZjYyZGZiNThkYjc5NSk7CiAgICAgICAgCgogICAgICAgIG1hcmtlcl9mMGNhZmNhNTE0ZjM0NDIyODA0YzI3OGY1NGI4NTEwYi5iaW5kUG9wdXAocG9wdXBfOGVmOGRjMmZkZjQyNDMxMmE0OGUzODA4ZmJhZjI0NmQpCiAgICAgICAgOwoKICAgICAgICAKICAgIAogICAgCiAgICAgICAgICAgIHZhciBtYXJrZXJfYmFlNmMyYjJmNDlkNGYxYzlhYzUyZTNiYzQ0ODI4OWUgPSBMLm1hcmtlcigKICAgICAgICAgICAgICAgIFs0MC43MTc5NTMsIC03My45NjM3MDI3XSwKICAgICAgICAgICAgICAgIHt9CiAgICAgICAgICAgICkuYWRkVG8obWFwXzE1M2U2YTMxZDk0ODQ4ZTRiY2ExNDY1MDkyMzBlOWNiKTsKICAgICAgICAKICAgIAogICAgICAgIHZhciBwb3B1cF8xZmE2MGJkM2E5NGI0M2RjYmYxMTJmMzI1MGQ4YmUyMSA9IEwucG9wdXAoeyJtYXhXaWR0aCI6ICIxMDAlIn0pOwoKICAgICAgICAKICAgICAgICAgICAgdmFyIGh0bWxfZjgxNmZlYzMyM2RkNDNmNGFkODc1NDliY2I0NjkyMDYgPSAkKGA8ZGl2IGlkPSJodG1sX2Y4MTZmZWMzMjNkZDQzZjRhZDg3NTQ5YmNiNDY5MjA2IiBzdHlsZT0id2lkdGg6IDEwMC4wJTsgaGVpZ2h0OiAxMDAuMCU7Ij5MYSBOb25uYSBLcmlzcHkgS3J1c3QgUGl6emEgUHJpY2U6ICQkIFJhdGluZzo0LjA8L2Rpdj5gKVswXTsKICAgICAgICAgICAgcG9wdXBfMWZhNjBiZDNhOTRiNDNkY2JmMTEyZjMyNTBkOGJlMjEuc2V0Q29udGVudChodG1sX2Y4MTZmZWMzMjNkZDQzZjRhZDg3NTQ5YmNiNDY5MjA2KTsKICAgICAgICAKCiAgICAgICAgbWFya2VyX2JhZTZjMmIyZjQ5ZDRmMWM5YWM1MmUzYmM0NDgyODllLmJpbmRQb3B1cChwb3B1cF8xZmE2MGJkM2E5NGI0M2RjYmYxMTJmMzI1MGQ4YmUyMSkKICAgICAgICA7CgogICAgICAgIAogICAgCiAgICAKICAgICAgICAgICAgdmFyIG1hcmtlcl85YjIyZDEzMGNhZTI0YjFjODUwYzhiMGFhY2JmNjYwYyA9IEwubWFya2VyKAogICAgICAgICAgICAgICAgWzQwLjU3ODkxMzIyNTY2Njk2NiwgLTczLjk4MzgzMzkyODgzNTU1XSwKICAgICAgICAgICAgICAgIHt9CiAgICAgICAgICAgICkuYWRkVG8obWFwXzE1M2U2YTMxZDk0ODQ4ZTRiY2ExNDY1MDkyMzBlOWNiKTsKICAgICAgICAKICAgIAogICAgICAgIHZhciBwb3B1cF8wNTI0ZGExNjhiNTQ0ZDE4YmI5OTNkMGFiMmRmODljMSA9IEwucG9wdXAoeyJtYXhXaWR0aCI6ICIxMDAlIn0pOwoKICAgICAgICAKICAgICAgICAgICAgdmFyIGh0bWxfZTU1Y2JiMTA2OTYyNGYwMGIzOGQ3NjA1MjZjYzljNmEgPSAkKGA8ZGl2IGlkPSJodG1sX2U1NWNiYjEwNjk2MjRmMDBiMzhkNzYwNTI2Y2M5YzZhIiBzdHlsZT0id2lkdGg6IDEwMC4wJTsgaGVpZ2h0OiAxMDAuMCU7Ij5Ub3Rvbm5vJ3MgUHJpY2U6ICQkIFJhdGluZzo0LjA8L2Rpdj5gKVswXTsKICAgICAgICAgICAgcG9wdXBfMDUyNGRhMTY4YjU0NGQxOGJiOTkzZDBhYjJkZjg5YzEuc2V0Q29udGVudChodG1sX2U1NWNiYjEwNjk2MjRmMDBiMzhkNzYwNTI2Y2M5YzZhKTsKICAgICAgICAKCiAgICAgICAgbWFya2VyXzliMjJkMTMwY2FlMjRiMWM4NTBjOGIwYWFjYmY2NjBjLmJpbmRQb3B1cChwb3B1cF8wNTI0ZGExNjhiNTQ0ZDE4YmI5OTNkMGFiMmRmODljMSkKICAgICAgICA7CgogICAgICAgIAogICAgCiAgICAKICAgICAgICAgICAgdmFyIG1hcmtlcl9jYWQzYmNjYWRiYzM0Mjk0YWU2MWFhODUwMjkyOGY4ZiA9IEwubWFya2VyKAogICAgICAgICAgICAgICAgWzQwLjczMzk4LCAtNzMuOTg5NjFdLAogICAgICAgICAgICAgICAge30KICAgICAgICAgICAgKS5hZGRUbyhtYXBfMTUzZTZhMzFkOTQ4NDhlNGJjYTE0NjUwOTIzMGU5Y2IpOwogICAgICAgIAogICAgCiAgICAgICAgdmFyIHBvcHVwX2YwMDlhOTQ5ZjI2OTQ1NjQ4NGQ5YTQ4N2EzYjMwMzBkID0gTC5wb3B1cCh7Im1heFdpZHRoIjogIjEwMCUifSk7CgogICAgICAgIAogICAgICAgICAgICB2YXIgaHRtbF81MDNhZjRiYzUwMWI0ZGEzYWI4OTUxZWJhMTUyY2ZlZCA9ICQoYDxkaXYgaWQ9Imh0bWxfNTAzYWY0YmM1MDFiNGRhM2FiODk1MWViYTE1MmNmZWQiIHN0eWxlPSJ3aWR0aDogMTAwLjAlOyBoZWlnaHQ6IDEwMC4wJTsiPlVucmVndWxhciBQaXp6YSBQcmljZTogJCQgUmF0aW5nOjQuNTwvZGl2PmApWzBdOwogICAgICAgICAgICBwb3B1cF9mMDA5YTk0OWYyNjk0NTY0ODRkOWE0ODdhM2IzMDMwZC5zZXRDb250ZW50KGh0bWxfNTAzYWY0YmM1MDFiNGRhM2FiODk1MWViYTE1MmNmZWQpOwogICAgICAgIAoKICAgICAgICBtYXJrZXJfY2FkM2JjY2FkYmMzNDI5NGFlNjFhYTg1MDI5MjhmOGYuYmluZFBvcHVwKHBvcHVwX2YwMDlhOTQ5ZjI2OTQ1NjQ4NGQ5YTQ4N2EzYjMwMzBkKQogICAgICAgIDsKCiAgICAgICAgCiAgICAKICAgIAogICAgICAgICAgICB2YXIgbWFya2VyXzkxNjM4YjBiZDI2MTRjOTM4MmQwMzY4OTBjYzQ2MGExID0gTC5tYXJrZXIoCiAgICAgICAgICAgICAgICBbNDAuNzMyMTEyNDU1NzcwNCwgLTczLjk4MzkwNTY4Mjg4ODJdLAogICAgICAgICAgICAgICAge30KICAgICAgICAgICAgKS5hZGRUbyhtYXBfMTUzZTZhMzFkOTQ4NDhlNGJjYTE0NjUwOTIzMGU5Y2IpOwogICAgICAgIAogICAgCiAgICAgICAgdmFyIHBvcHVwXzc1MzUyODhlNmRmZjRjNWQ5OGEzZDRkNGViODk1YmE1ID0gTC5wb3B1cCh7Im1heFdpZHRoIjogIjEwMCUifSk7CgogICAgICAgIAogICAgICAgICAgICB2YXIgaHRtbF85NzRmMDk3YWY5NWE0NWY1OGYwOTE1MjkxODY1OGE5NCA9ICQoYDxkaXYgaWQ9Imh0bWxfOTc0ZjA5N2FmOTVhNDVmNThmMDkxNTI5MTg2NThhOTQiIHN0eWxlPSJ3aWR0aDogMTAwLjAlOyBoZWlnaHQ6IDEwMC4wJTsiPkFydGljaG9rZSBCYXNpbGxlJ3MgUGl6emEgUHJpY2U6ICQgUmF0aW5nOjQuMDwvZGl2PmApWzBdOwogICAgICAgICAgICBwb3B1cF83NTM1Mjg4ZTZkZmY0YzVkOThhM2Q0ZDRlYjg5NWJhNS5zZXRDb250ZW50KGh0bWxfOTc0ZjA5N2FmOTVhNDVmNThmMDkxNTI5MTg2NThhOTQpOwogICAgICAgIAoKICAgICAgICBtYXJrZXJfOTE2MzhiMGJkMjYxNGM5MzgyZDAzNjg5MGNjNDYwYTEuYmluZFBvcHVwKHBvcHVwXzc1MzUyODhlNmRmZjRjNWQ5OGEzZDRkNGViODk1YmE1KQogICAgICAgIDsKCiAgICAgICAgCiAgICAKICAgIAogICAgICAgICAgICB2YXIgbWFya2VyXzM1ODA0N2YzYzRjYzRlZGFhNjJlY2ZiNGFjODcyNWIzID0gTC5tYXJrZXIoCiAgICAgICAgICAgICAgICBbNDAuNzIwODg4MywgLTczLjk5NjI0MDRdLAogICAgICAgICAgICAgICAge30KICAgICAgICAgICAgKS5hZGRUbyhtYXBfMTUzZTZhMzFkOTQ4NDhlNGJjYTE0NjUwOTIzMGU5Y2IpOwogICAgICAgIAogICAgCiAgICAgICAgdmFyIHBvcHVwXzAwZjhkZjAwYWRhYjRlOWViMTMzZGYyMjllMjI2NjlmID0gTC5wb3B1cCh7Im1heFdpZHRoIjogIjEwMCUifSk7CgogICAgICAgIAogICAgICAgICAgICB2YXIgaHRtbF9kZTcxZTQyMjczZDQ0NWFiYjVmMjYwMTE2MDBiZmViMyA9ICQoYDxkaXYgaWQ9Imh0bWxfZGU3MWU0MjI3M2Q0NDVhYmI1ZjI2MDExNjAwYmZlYjMiIHN0eWxlPSJ3aWR0aDogMTAwLjAlOyBoZWlnaHQ6IDEwMC4wJTsiPk5vbGl0YSBQaXp6YSBQcmljZTogJCBSYXRpbmc6NC41PC9kaXY+YClbMF07CiAgICAgICAgICAgIHBvcHVwXzAwZjhkZjAwYWRhYjRlOWViMTMzZGYyMjllMjI2NjlmLnNldENvbnRlbnQoaHRtbF9kZTcxZTQyMjczZDQ0NWFiYjVmMjYwMTE2MDBiZmViMyk7CiAgICAgICAgCgogICAgICAgIG1hcmtlcl8zNTgwNDdmM2M0Y2M0ZWRhYTYyZWNmYjRhYzg3MjViMy5iaW5kUG9wdXAocG9wdXBfMDBmOGRmMDBhZGFiNGU5ZWIxMzNkZjIyOWUyMjY2OWYpCiAgICAgICAgOwoKICAgICAgICAKICAgIAogICAgCiAgICAgICAgICAgIHZhciBtYXJrZXJfODc1NTA2YzNhMmM4NDNiZmJhYzg1ODc3NzcyYjRiZTUgPSBMLm1hcmtlcigKICAgICAgICAgICAgICAgIFs0MC43MjgzNiwgLTczLjk1NzJdLAogICAgICAgICAgICAgICAge30KICAgICAgICAgICAgKS5hZGRUbyhtYXBfMTUzZTZhMzFkOTQ4NDhlNGJjYTE0NjUwOTIzMGU5Y2IpOwogICAgICAgIAogICAgCiAgICAgICAgdmFyIHBvcHVwXzkwYWZkNGE4OGVjMzQ0MzA4ZTI0N2RjOWE0MDc1ZmU0ID0gTC5wb3B1cCh7Im1heFdpZHRoIjogIjEwMCUifSk7CgogICAgICAgIAogICAgICAgICAgICB2YXIgaHRtbF9mZmIwNWIzOGY0ZWY0ZjFiYjAwNjdhM2E0NWM4OWM5ZCA9ICQoYDxkaXYgaWQ9Imh0bWxfZmZiMDViMzhmNGVmNGYxYmIwMDY3YTNhNDVjODljOWQiIHN0eWxlPSJ3aWR0aDogMTAwLjAlOyBoZWlnaHQ6IDEwMC4wJTsiPlBhdWxpZSBHZWUncyBTbGljZSBTaG9wIFByaWNlOiAkIFJhdGluZzo0LjA8L2Rpdj5gKVswXTsKICAgICAgICAgICAgcG9wdXBfOTBhZmQ0YTg4ZWMzNDQzMDhlMjQ3ZGM5YTQwNzVmZTQuc2V0Q29udGVudChodG1sX2ZmYjA1YjM4ZjRlZjRmMWJiMDA2N2EzYTQ1Yzg5YzlkKTsKICAgICAgICAKCiAgICAgICAgbWFya2VyXzg3NTUwNmMzYTJjODQzYmZiYWM4NTg3Nzc3MmI0YmU1LmJpbmRQb3B1cChwb3B1cF85MGFmZDRhODhlYzM0NDMwOGUyNDdkYzlhNDA3NWZlNCkKICAgICAgICA7CgogICAgICAgIAogICAgCiAgICAKICAgICAgICAgICAgdmFyIG1hcmtlcl8xYWVmZDAyMjcwMzY0M2Q2OTM2NGNkMmViZGQyN2E1NyA9IEwubWFya2VyKAogICAgICAgICAgICAgICAgWzQwLjcyODEzLCAtNzQuMDAxODhdLAogICAgICAgICAgICAgICAge30KICAgICAgICAgICAgKS5hZGRUbyhtYXBfMTUzZTZhMzFkOTQ4NDhlNGJjYTE0NjUwOTIzMGU5Y2IpOwogICAgICAgIAogICAgCiAgICAgICAgdmFyIHBvcHVwX2E4MzRiZWQ4MGEyMzRjMDE4NmU4NTIyYWMzZmJhZTdmID0gTC5wb3B1cCh7Im1heFdpZHRoIjogIjEwMCUifSk7CgogICAgICAgIAogICAgICAgICAgICB2YXIgaHRtbF8wYjI5YWNhOTRlNzM0MmNkODBmNjM0NjZkYjFmNGQ5YyA9ICQoYDxkaXYgaWQ9Imh0bWxfMGIyOWFjYTk0ZTczNDJjZDgwZjYzNDY2ZGIxZjRkOWMiIHN0eWxlPSJ3aWR0aDogMTAwLjAlOyBoZWlnaHQ6IDEwMC4wJTsiPlNvbmcgRSBOYXB1bGUgUHJpY2U6ICQkIFJhdGluZzo0LjU8L2Rpdj5gKVswXTsKICAgICAgICAgICAgcG9wdXBfYTgzNGJlZDgwYTIzNGMwMTg2ZTg1MjJhYzNmYmFlN2Yuc2V0Q29udGVudChodG1sXzBiMjlhY2E5NGU3MzQyY2Q4MGY2MzQ2NmRiMWY0ZDljKTsKICAgICAgICAKCiAgICAgICAgbWFya2VyXzFhZWZkMDIyNzAzNjQzZDY5MzY0Y2QyZWJkZDI3YTU3LmJpbmRQb3B1cChwb3B1cF9hODM0YmVkODBhMjM0YzAxODZlODUyMmFjM2ZiYWU3ZikKICAgICAgICA7CgogICAgICAgIAogICAgCiAgICAKICAgICAgICAgICAgdmFyIG1hcmtlcl9hNGI2YzliYWU4Y2Y0OGFiOWNiZjc2OTBmMTg3ZmJmMiA9IEwubWFya2VyKAogICAgICAgICAgICAgICAgWzQwLjcxMzM4LCAtNzMuOTUxMzZdLAogICAgICAgICAgICAgICAge30KICAgICAgICAgICAgKS5hZGRUbyhtYXBfMTUzZTZhMzFkOTQ4NDhlNGJjYTE0NjUwOTIzMGU5Y2IpOwogICAgICAgIAogICAgCiAgICAgICAgdmFyIHBvcHVwX2VjMzJkMDUzMmIzZDQ4NzVhYTg1ZjlmNTU0MjIyZTk5ID0gTC5wb3B1cCh7Im1heFdpZHRoIjogIjEwMCUifSk7CgogICAgICAgIAogICAgICAgICAgICB2YXIgaHRtbF9jMGUxOTI4MTA0ZWE0OTdlODRiYWRmNGUzYzQyNjg5ZCA9ICQoYDxkaXYgaWQ9Imh0bWxfYzBlMTkyODEwNGVhNDk3ZTg0YmFkZjRlM2M0MjY4OWQiIHN0eWxlPSJ3aWR0aDogMTAwLjAlOyBoZWlnaHQ6IDEwMC4wJTsiPk1vbnRlc2Fjcm8gUGluc2VyaWEgQnJvb2tseW4gUHJpY2U6ICQkIFJhdGluZzo0LjU8L2Rpdj5gKVswXTsKICAgICAgICAgICAgcG9wdXBfZWMzMmQwNTMyYjNkNDg3NWFhODVmOWY1NTQyMjJlOTkuc2V0Q29udGVudChodG1sX2MwZTE5MjgxMDRlYTQ5N2U4NGJhZGY0ZTNjNDI2ODlkKTsKICAgICAgICAKCiAgICAgICAgbWFya2VyX2E0YjZjOWJhZThjZjQ4YWI5Y2JmNzY5MGYxODdmYmYyLmJpbmRQb3B1cChwb3B1cF9lYzMyZDA1MzJiM2Q0ODc1YWE4NWY5ZjU1NDIyMmU5OSkKICAgICAgICA7CgogICAgICAgIAogICAgCiAgICAKICAgICAgICAgICAgdmFyIG1hcmtlcl84NTRiYTAxYzFiM2Q0NmVmYTA4NjRiNzRiY2M5NDgyZiA9IEwubWFya2VyKAogICAgICAgICAgICAgICAgWzQwLjcyOTMzMDA2ODQ2OSwgLTc0LjAwMzg0MDAwNzM1NzldLAogICAgICAgICAgICAgICAge30KICAgICAgICAgICAgKS5hZGRUbyhtYXBfMTUzZTZhMzFkOTQ4NDhlNGJjYTE0NjUwOTIzMGU5Y2IpOwogICAgICAgIAogICAgCiAgICAgICAgdmFyIHBvcHVwXzdiNGQwMjAwMDQzODRlZDk4YjUwM2E5MzQ3NTE2YmVmID0gTC5wb3B1cCh7Im1heFdpZHRoIjogIjEwMCUifSk7CgogICAgICAgIAogICAgICAgICAgICB2YXIgaHRtbF9iNWI5ZDk4MGFkNjQ0OTIzYmU2YTE0OTYzN2JhZmYyOSA9ICQoYDxkaXYgaWQ9Imh0bWxfYjViOWQ5ODBhZDY0NDkyM2JlNmExNDk2MzdiYWZmMjkiIHN0eWxlPSJ3aWR0aDogMTAwLjAlOyBoZWlnaHQ6IDEwMC4wJTsiPkVtaWx5IC0gV2VzdCBWaWxsYWdlIFByaWNlOiAkJCBSYXRpbmc6NC4wPC9kaXY+YClbMF07CiAgICAgICAgICAgIHBvcHVwXzdiNGQwMjAwMDQzODRlZDk4YjUwM2E5MzQ3NTE2YmVmLnNldENvbnRlbnQoaHRtbF9iNWI5ZDk4MGFkNjQ0OTIzYmU2YTE0OTYzN2JhZmYyOSk7CiAgICAgICAgCgogICAgICAgIG1hcmtlcl84NTRiYTAxYzFiM2Q0NmVmYTA4NjRiNzRiY2M5NDgyZi5iaW5kUG9wdXAocG9wdXBfN2I0ZDAyMDAwNDM4NGVkOThiNTAzYTkzNDc1MTZiZWYpCiAgICAgICAgOwoKICAgICAgICAKICAgIAogICAgCiAgICAgICAgICAgIHZhciBtYXJrZXJfNTc2OWViNzllZDk2NDIxOTgyNDZlZDEzNGE4N2U4ZTEgPSBMLm1hcmtlcigKICAgICAgICAgICAgICAgIFs0MC43MzAzMywgLTczLjk4NDAzXSwKICAgICAgICAgICAgICAgIHt9CiAgICAgICAgICAgICkuYWRkVG8obWFwXzE1M2U2YTMxZDk0ODQ4ZTRiY2ExNDY1MDkyMzBlOWNiKTsKICAgICAgICAKICAgIAogICAgICAgIHZhciBwb3B1cF8yYmI3NTJkNjYzYTg0NTUyYjY2ZTAxNTViMzE3OWZmZSA9IEwucG9wdXAoeyJtYXhXaWR0aCI6ICIxMDAlIn0pOwoKICAgICAgICAKICAgICAgICAgICAgdmFyIGh0bWxfODhiZmM3YTA1NDZlNDJmMThlNjg2YzlkOGViNDY4YjkgPSAkKGA8ZGl2IGlkPSJodG1sXzg4YmZjN2EwNTQ2ZTQyZjE4ZTY4NmM5ZDhlYjQ2OGI5IiBzdHlsZT0id2lkdGg6IDEwMC4wJTsgaGVpZ2h0OiAxMDAuMCU7Ij5TYXVjZSBQaXp6ZXJpYSBQcmljZTogJCBSYXRpbmc6NC41PC9kaXY+YClbMF07CiAgICAgICAgICAgIHBvcHVwXzJiYjc1MmQ2NjNhODQ1NTJiNjZlMDE1NWIzMTc5ZmZlLnNldENvbnRlbnQoaHRtbF84OGJmYzdhMDU0NmU0MmYxOGU2ODZjOWQ4ZWI0NjhiOSk7CiAgICAgICAgCgogICAgICAgIG1hcmtlcl81NzY5ZWI3OWVkOTY0MjE5ODI0NmVkMTM0YTg3ZThlMS5iaW5kUG9wdXAocG9wdXBfMmJiNzUyZDY2M2E4NDU1MmI2NmUwMTU1YjMxNzlmZmUpCiAgICAgICAgOwoKICAgICAgICAKICAgIAogICAgCiAgICAgICAgICAgIHZhciBtYXJrZXJfZmNkZGVlMGRmNDA0NDExMTk3MjkyZDc2NzhmOTRlOWMgPSBMLm1hcmtlcigKICAgICAgICAgICAgICAgIFs0MC42OTc0NDI3LCAtNzMuOTY3NTE5N10sCiAgICAgICAgICAgICAgICB7fQogICAgICAgICAgICApLmFkZFRvKG1hcF8xNTNlNmEzMWQ5NDg0OGU0YmNhMTQ2NTA5MjMwZTljYik7CiAgICAgICAgCiAgICAKICAgICAgICB2YXIgcG9wdXBfNzBmZDFkZGMzOGRmNGI5NjkwMzg2NjQ5NTkwZDRlMmYgPSBMLnBvcHVwKHsibWF4V2lkdGgiOiAiMTAwJSJ9KTsKCiAgICAgICAgCiAgICAgICAgICAgIHZhciBodG1sX2Y5MGI5ZGU2Nzg3NzQ2MDViNTFlN2Y5MjcwYmNkN2YzID0gJChgPGRpdiBpZD0iaHRtbF9mOTBiOWRlNjc4Nzc0NjA1YjUxZTdmOTI3MGJjZDdmMyIgc3R5bGU9IndpZHRoOiAxMDAuMCU7IGhlaWdodDogMTAwLjAlOyI+SWwgUG9ydG8gUmlzdG9yYW50ZSBQcmljZTogJCQgUmF0aW5nOjQuMDwvZGl2PmApWzBdOwogICAgICAgICAgICBwb3B1cF83MGZkMWRkYzM4ZGY0Yjk2OTAzODY2NDk1OTBkNGUyZi5zZXRDb250ZW50KGh0bWxfZjkwYjlkZTY3ODc3NDYwNWI1MWU3ZjkyNzBiY2Q3ZjMpOwogICAgICAgIAoKICAgICAgICBtYXJrZXJfZmNkZGVlMGRmNDA0NDExMTk3MjkyZDc2NzhmOTRlOWMuYmluZFBvcHVwKHBvcHVwXzcwZmQxZGRjMzhkZjRiOTY5MDM4NjY0OTU5MGQ0ZTJmKQogICAgICAgIDsKCiAgICAgICAgCiAgICAKICAgIAogICAgICAgICAgICB2YXIgbWFya2VyXzZmMDI3MjRmMGJmZTRkYjJiYWZmZWEwNDI5YmJkMDNmID0gTC5tYXJrZXIoCiAgICAgICAgICAgICAgICBbNDAuNzEyMTY4LCAtNzMuOTU1NzA3XSwKICAgICAgICAgICAgICAgIHt9CiAgICAgICAgICAgICkuYWRkVG8obWFwXzE1M2U2YTMxZDk0ODQ4ZTRiY2ExNDY1MDkyMzBlOWNiKTsKICAgICAgICAKICAgIAogICAgICAgIHZhciBwb3B1cF83ZTllYTgwMGFlYjA0NTY3YjVkYzA4YTMwYjU2MDRjZCA9IEwucG9wdXAoeyJtYXhXaWR0aCI6ICIxMDAlIn0pOwoKICAgICAgICAKICAgICAgICAgICAgdmFyIGh0bWxfYTg5MmNiMTRkM2ZmNDZlZDk0MTZmOTZiMGMwNzBhZTcgPSAkKGA8ZGl2IGlkPSJodG1sX2E4OTJjYjE0ZDNmZjQ2ZWQ5NDE2Zjk2YjBjMDcwYWU3IiBzdHlsZT0id2lkdGg6IDEwMC4wJTsgaGVpZ2h0OiAxMDAuMCU7Ij5FbW15IFNxdWFyZWQgLSBCcm9va2x5biBQcmljZTogJCQgUmF0aW5nOjQuMDwvZGl2PmApWzBdOwogICAgICAgICAgICBwb3B1cF83ZTllYTgwMGFlYjA0NTY3YjVkYzA4YTMwYjU2MDRjZC5zZXRDb250ZW50KGh0bWxfYTg5MmNiMTRkM2ZmNDZlZDk0MTZmOTZiMGMwNzBhZTcpOwogICAgICAgIAoKICAgICAgICBtYXJrZXJfNmYwMjcyNGYwYmZlNGRiMmJhZmZlYTA0MjliYmQwM2YuYmluZFBvcHVwKHBvcHVwXzdlOWVhODAwYWViMDQ1NjdiNWRjMDhhMzBiNTYwNGNkKQogICAgICAgIDsKCiAgICAgICAgCiAgICAKICAgIAogICAgICAgICAgICB2YXIgbWFya2VyXzVjNTBiNTI5Yjg4OTQwOTE4MDU4YmNkYzk1OWY5ZGY1ID0gTC5tYXJrZXIoCiAgICAgICAgICAgICAgICBbNDAuNzIyMTIxLCAtNzMuOTU2Njc4XSwKICAgICAgICAgICAgICAgIHt9CiAgICAgICAgICAgICkuYWRkVG8obWFwXzE1M2U2YTMxZDk0ODQ4ZTRiY2ExNDY1MDkyMzBlOWNiKTsKICAgICAgICAKICAgIAogICAgICAgIHZhciBwb3B1cF9jMjhlNDc3ODllY2Q0N2Q0ODZiYmRiZWViZWFkNzE4NCA9IEwucG9wdXAoeyJtYXhXaWR0aCI6ICIxMDAlIn0pOwoKICAgICAgICAKICAgICAgICAgICAgdmFyIGh0bWxfZDFlZTVhZjk4MzkxNGI1MmFlZjg1MTMwMTZkMjRhMTAgPSAkKGA8ZGl2IGlkPSJodG1sX2QxZWU1YWY5ODM5MTRiNTJhZWY4NTEzMDE2ZDI0YTEwIiBzdHlsZT0id2lkdGg6IDEwMC4wJTsgaGVpZ2h0OiAxMDAuMCU7Ij5MZXVjYSBQcmljZTogJCQkIFJhdGluZzo0LjA8L2Rpdj5gKVswXTsKICAgICAgICAgICAgcG9wdXBfYzI4ZTQ3Nzg5ZWNkNDdkNDg2YmJkYmVlYmVhZDcxODQuc2V0Q29udGVudChodG1sX2QxZWU1YWY5ODM5MTRiNTJhZWY4NTEzMDE2ZDI0YTEwKTsKICAgICAgICAKCiAgICAgICAgbWFya2VyXzVjNTBiNTI5Yjg4OTQwOTE4MDU4YmNkYzk1OWY5ZGY1LmJpbmRQb3B1cChwb3B1cF9jMjhlNDc3ODllY2Q0N2Q0ODZiYmRiZWViZWFkNzE4NCkKICAgICAgICA7CgogICAgICAgIAogICAgCiAgICAKICAgICAgICAgICAgdmFyIG1hcmtlcl83OGI3Y2U2NzdiNmQ0NDAzODkyMTYxOTk3YjczMGE5YyA9IEwubWFya2VyKAogICAgICAgICAgICAgICAgWzQwLjY4ODI4NSwgLTczLjk4OTAwNl0sCiAgICAgICAgICAgICAgICB7fQogICAgICAgICAgICApLmFkZFRvKG1hcF8xNTNlNmEzMWQ5NDg0OGU0YmNhMTQ2NTA5MjMwZTljYik7CiAgICAgICAgCiAgICAKICAgICAgICB2YXIgcG9wdXBfYTVkMmY3YmY4MmE5NDg1OThkYjUxMGNkYzMzMGQwNDUgPSBMLnBvcHVwKHsibWF4V2lkdGgiOiAiMTAwJSJ9KTsKCiAgICAgICAgCiAgICAgICAgICAgIHZhciBodG1sX2VmYzFkMGEyY2FhYjRiMGFhNWVkNDk1OTM4Y2M1YjE4ID0gJChgPGRpdiBpZD0iaHRtbF9lZmMxZDBhMmNhYWI0YjBhYTVlZDQ5NTkzOGNjNWIxOCIgc3R5bGU9IndpZHRoOiAxMDAuMCU7IGhlaWdodDogMTAwLjAlOyI+U290dG9jYXNhIFBpenplcmlhIFByaWNlOiAkJCBSYXRpbmc6NC41PC9kaXY+YClbMF07CiAgICAgICAgICAgIHBvcHVwX2E1ZDJmN2JmODJhOTQ4NTk4ZGI1MTBjZGMzMzBkMDQ1LnNldENvbnRlbnQoaHRtbF9lZmMxZDBhMmNhYWI0YjBhYTVlZDQ5NTkzOGNjNWIxOCk7CiAgICAgICAgCgogICAgICAgIG1hcmtlcl83OGI3Y2U2NzdiNmQ0NDAzODkyMTYxOTk3YjczMGE5Yy5iaW5kUG9wdXAocG9wdXBfYTVkMmY3YmY4MmE5NDg1OThkYjUxMGNkYzMzMGQwNDUpCiAgICAgICAgOwoKICAgICAgICAKICAgIAogICAgCiAgICAgICAgICAgIHZhciBtYXJrZXJfYTlmYzdmODY5OTY4NGNiMTg2NmYwNGM2YTU2ZWE0Y2UgPSBMLm1hcmtlcigKICAgICAgICAgICAgICAgIFs0MC43MDQzMzYyLCAtNzQuMDEwMTczM10sCiAgICAgICAgICAgICAgICB7fQogICAgICAgICAgICApLmFkZFRvKG1hcF8xNTNlNmEzMWQ5NDg0OGU0YmNhMTQ2NTA5MjMwZTljYik7CiAgICAgICAgCiAgICAKICAgICAgICB2YXIgcG9wdXBfM2ZjZjY4NGY5NGUwNGY0ODkzNzFiNzRlODVkNjdmYTcgPSBMLnBvcHVwKHsibWF4V2lkdGgiOiAiMTAwJSJ9KTsKCiAgICAgICAgCiAgICAgICAgICAgIHZhciBodG1sXzQzNDBjYzQxYzM3NDQzOTliYTRmNmU1YzMwZjMxMzNlID0gJChgPGRpdiBpZD0iaHRtbF80MzQwY2M0MWMzNzQ0Mzk5YmE0ZjZlNWMzMGYzMTMzZSIgc3R5bGU9IndpZHRoOiAxMDAuMCU7IGhlaWdodDogMTAwLjAlOyI+QWRyaWVubmUncyBQaXp6YWJhciBQcmljZTogJCQgUmF0aW5nOjQuMDwvZGl2PmApWzBdOwogICAgICAgICAgICBwb3B1cF8zZmNmNjg0Zjk0ZTA0ZjQ4OTM3MWI3NGU4NWQ2N2ZhNy5zZXRDb250ZW50KGh0bWxfNDM0MGNjNDFjMzc0NDM5OWJhNGY2ZTVjMzBmMzEzM2UpOwogICAgICAgIAoKICAgICAgICBtYXJrZXJfYTlmYzdmODY5OTY4NGNiMTg2NmYwNGM2YTU2ZWE0Y2UuYmluZFBvcHVwKHBvcHVwXzNmY2Y2ODRmOTRlMDRmNDg5MzcxYjc0ZTg1ZDY3ZmE3KQogICAgICAgIDsKCiAgICAgICAgCiAgICAKICAgIAogICAgICAgICAgICB2YXIgbWFya2VyXzAzMzkxOGRkYmYwNTQzNWJiZDI0OGQ1YWQ1YTFmMTcxID0gTC5tYXJrZXIoCiAgICAgICAgICAgICAgICBbNDAuNzgyNiwgLTczLjk1MzUxXSwKICAgICAgICAgICAgICAgIHt9CiAgICAgICAgICAgICkuYWRkVG8obWFwXzE1M2U2YTMxZDk0ODQ4ZTRiY2ExNDY1MDkyMzBlOWNiKTsKICAgICAgICAKICAgIAogICAgICAgIHZhciBwb3B1cF9jOTJhMmMzN2U2M2I0MWMyYTY5MGY4YWExMDM3ZDY1YSA9IEwucG9wdXAoeyJtYXhXaWR0aCI6ICIxMDAlIn0pOwoKICAgICAgICAKICAgICAgICAgICAgdmFyIGh0bWxfNTc2MTU2OTc4ZGQzNDY4MGJhZDM3NzgxNDMwMmFkMTMgPSAkKGA8ZGl2IGlkPSJodG1sXzU3NjE1Njk3OGRkMzQ2ODBiYWQzNzc4MTQzMDJhZDEzIiBzdHlsZT0id2lkdGg6IDEwMC4wJTsgaGVpZ2h0OiAxMDAuMCU7Ij5NYXJpbmFyYSBQaXp6YSBQcmljZTogJCBSYXRpbmc6NC4wPC9kaXY+YClbMF07CiAgICAgICAgICAgIHBvcHVwX2M5MmEyYzM3ZTYzYjQxYzJhNjkwZjhhYTEwMzdkNjVhLnNldENvbnRlbnQoaHRtbF81NzYxNTY5NzhkZDM0NjgwYmFkMzc3ODE0MzAyYWQxMyk7CiAgICAgICAgCgogICAgICAgIG1hcmtlcl8wMzM5MThkZGJmMDU0MzViYmQyNDhkNWFkNWExZjE3MS5iaW5kUG9wdXAocG9wdXBfYzkyYTJjMzdlNjNiNDFjMmE2OTBmOGFhMTAzN2Q2NWEpCiAgICAgICAgOwoKICAgICAgICAKICAgIAogICAgCiAgICAgICAgICAgIHZhciBtYXJrZXJfODE0MjczMDIwNGIxNDc4ZmI1OTAxNTVkMTA1MzQwN2UgPSBMLm1hcmtlcigKICAgICAgICAgICAgICAgIFs0MC43MTgyMiwgLTczLjk5MTIzXSwKICAgICAgICAgICAgICAgIHt9CiAgICAgICAgICAgICkuYWRkVG8obWFwXzE1M2U2YTMxZDk0ODQ4ZTRiY2ExNDY1MDkyMzBlOWNiKTsKICAgICAgICAKICAgIAogICAgICAgIHZhciBwb3B1cF9iMmI4OWI3ZjQxMmE0Zjc0YWVlMTRjNzViYzU0YjFhYSA9IEwucG9wdXAoeyJtYXhXaWR0aCI6ICIxMDAlIn0pOwoKICAgICAgICAKICAgICAgICAgICAgdmFyIGh0bWxfYjY3NDZjNmRiYTVkNDUzYWJlMWEzMDgwMjI2YTM2NzggPSAkKGA8ZGl2IGlkPSJodG1sX2I2NzQ2YzZkYmE1ZDQ1M2FiZTFhMzA4MDIyNmEzNjc4IiBzdHlsZT0id2lkdGg6IDEwMC4wJTsgaGVpZ2h0OiAxMDAuMCU7Ij5XaWxsaWFtc2J1cmcgUGl6emEgUHJpY2U6ICQgUmF0aW5nOjQuMDwvZGl2PmApWzBdOwogICAgICAgICAgICBwb3B1cF9iMmI4OWI3ZjQxMmE0Zjc0YWVlMTRjNzViYzU0YjFhYS5zZXRDb250ZW50KGh0bWxfYjY3NDZjNmRiYTVkNDUzYWJlMWEzMDgwMjI2YTM2NzgpOwogICAgICAgIAoKICAgICAgICBtYXJrZXJfODE0MjczMDIwNGIxNDc4ZmI1OTAxNTVkMTA1MzQwN2UuYmluZFBvcHVwKHBvcHVwX2IyYjg5YjdmNDEyYTRmNzRhZWUxNGM3NWJjNTRiMWFhKQogICAgICAgIDsKCiAgICAgICAgCiAgICAKICAgIAogICAgICAgICAgICB2YXIgbWFya2VyX2VmMThlYWUwYzlhYzQwZjZhZjRiNWY1OTg5NDQ2MTc4ID0gTC5tYXJrZXIoCiAgICAgICAgICAgICAgICBbNDAuNzI1NjEyLCAtNzQuMDA3OTE2XSwKICAgICAgICAgICAgICAgIHt9CiAgICAgICAgICAgICkuYWRkVG8obWFwXzE1M2U2YTMxZDk0ODQ4ZTRiY2ExNDY1MDkyMzBlOWNiKTsKICAgICAgICAKICAgIAogICAgICAgIHZhciBwb3B1cF8xOWYwODU1MWUyMmI0NDMwODJkZWFjNzVlYmMyMjhlMSA9IEwucG9wdXAoeyJtYXhXaWR0aCI6ICIxMDAlIn0pOwoKICAgICAgICAKICAgICAgICAgICAgdmFyIGh0bWxfZGU5ODExNmY4MDJiNDc3NWE3MjlhZmZjYzY3NzVjMDIgPSAkKGA8ZGl2IGlkPSJodG1sX2RlOTgxMTZmODAyYjQ3NzVhNzI5YWZmY2M2Nzc1YzAyIiBzdHlsZT0id2lkdGg6IDEwMC4wJTsgaGVpZ2h0OiAxMDAuMCU7Ij5BZG9ybyBMZWkgUHJpY2U6ICQkIFJhdGluZzo0LjU8L2Rpdj5gKVswXTsKICAgICAgICAgICAgcG9wdXBfMTlmMDg1NTFlMjJiNDQzMDgyZGVhYzc1ZWJjMjI4ZTEuc2V0Q29udGVudChodG1sX2RlOTgxMTZmODAyYjQ3NzVhNzI5YWZmY2M2Nzc1YzAyKTsKICAgICAgICAKCiAgICAgICAgbWFya2VyX2VmMThlYWUwYzlhYzQwZjZhZjRiNWY1OTg5NDQ2MTc4LmJpbmRQb3B1cChwb3B1cF8xOWYwODU1MWUyMmI0NDMwODJkZWFjNzVlYmMyMjhlMSkKICAgICAgICA7CgogICAgICAgIAogICAgCiAgICAKICAgICAgICAgICAgdmFyIG1hcmtlcl83YjU5NDQ4MmI2MTk0Nzk1ODYwOTZhNDBjNzIwMjk1MCA9IEwubWFya2VyKAogICAgICAgICAgICAgICAgWzQwLjc2MDg1MTIsIC03My45Njk0ODA5XSwKICAgICAgICAgICAgICAgIHt9CiAgICAgICAgICAgICkuYWRkVG8obWFwXzE1M2U2YTMxZDk0ODQ4ZTRiY2ExNDY1MDkyMzBlOWNiKTsKICAgICAgICAKICAgIAogICAgICAgIHZhciBwb3B1cF8zODVkNGEyMjAzZWQ0YjhhYjgxNDhjMzE3OGVhYTA4OSA9IEwucG9wdXAoeyJtYXhXaWR0aCI6ICIxMDAlIn0pOwoKICAgICAgICAKICAgICAgICAgICAgdmFyIGh0bWxfMDkwMmZjYWUwZDlhNDA2OGIxNTdhODhhMzlmZTgwOGIgPSAkKGA8ZGl2IGlkPSJodG1sXzA5MDJmY2FlMGQ5YTQwNjhiMTU3YTg4YTM5ZmU4MDhiIiBzdHlsZT0id2lkdGg6IDEwMC4wJTsgaGVpZ2h0OiAxMDAuMCU7Ij5NeSBQaWUgUGl6emVyaWEgUm9tYW5hIFByaWNlOiAkIFJhdGluZzo0LjU8L2Rpdj5gKVswXTsKICAgICAgICAgICAgcG9wdXBfMzg1ZDRhMjIwM2VkNGI4YWI4MTQ4YzMxNzhlYWEwODkuc2V0Q29udGVudChodG1sXzA5MDJmY2FlMGQ5YTQwNjhiMTU3YTg4YTM5ZmU4MDhiKTsKICAgICAgICAKCiAgICAgICAgbWFya2VyXzdiNTk0NDgyYjYxOTQ3OTU4NjA5NmE0MGM3MjAyOTUwLmJpbmRQb3B1cChwb3B1cF8zODVkNGEyMjAzZWQ0YjhhYjgxNDhjMzE3OGVhYTA4OSkKICAgICAgICA7CgogICAgICAgIAogICAgCiAgICAKICAgICAgICAgICAgdmFyIG1hcmtlcl8yYjE3NzdmMTg1N2I0YjdlOWY1MTNkNjI0ODllM2QyMCA9IEwubWFya2VyKAogICAgICAgICAgICAgICAgWzQwLjYzMDIyNjY3MTg4OTYsIC03NC4xNDAyNzU0OTMzNDQ4XSwKICAgICAgICAgICAgICAgIHt9CiAgICAgICAgICAgICkuYWRkVG8obWFwXzE1M2U2YTMxZDk0ODQ4ZTRiY2ExNDY1MDkyMzBlOWNiKTsKICAgICAgICAKICAgIAogICAgICAgIHZhciBwb3B1cF80NWMwNDlkM2M5OGU0NWRkYWY4NzA0YmM4N2MxNzAzZCA9IEwucG9wdXAoeyJtYXhXaWR0aCI6ICIxMDAlIn0pOwoKICAgICAgICAKICAgICAgICAgICAgdmFyIGh0bWxfYTgyYzJhZmNkODJjNGQxMThiN2JjYzdhNGVjNzFiZjUgPSAkKGA8ZGl2IGlkPSJodG1sX2E4MmMyYWZjZDgyYzRkMTE4YjdiY2M3YTRlYzcxYmY1IiBzdHlsZT0id2lkdGg6IDEwMC4wJTsgaGVpZ2h0OiAxMDAuMCU7Ij5EZW5pbm9zIFBpenplcmlhICYgVGF2ZXJuIFByaWNlOiAkJCBSYXRpbmc6NC4wPC9kaXY+YClbMF07CiAgICAgICAgICAgIHBvcHVwXzQ1YzA0OWQzYzk4ZTQ1ZGRhZjg3MDRiYzg3YzE3MDNkLnNldENvbnRlbnQoaHRtbF9hODJjMmFmY2Q4MmM0ZDExOGI3YmNjN2E0ZWM3MWJmNSk7CiAgICAgICAgCgogICAgICAgIG1hcmtlcl8yYjE3NzdmMTg1N2I0YjdlOWY1MTNkNjI0ODllM2QyMC5iaW5kUG9wdXAocG9wdXBfNDVjMDQ5ZDNjOThlNDVkZGFmODcwNGJjODdjMTcwM2QpCiAgICAgICAgOwoKICAgICAgICAKICAgIAogICAgCiAgICAgICAgICAgIHZhciBtYXJrZXJfYjgxMGI4YWI0YThmNDFiMjlhMWFjMTZkYzcxMGE0NDQgPSBMLm1hcmtlcigKICAgICAgICAgICAgICAgIFs0MC42ODc1MTU0NzkyMjM2LCAtNzMuOTU5ODc0NDY5NjExXSwKICAgICAgICAgICAgICAgIHt9CiAgICAgICAgICAgICkuYWRkVG8obWFwXzE1M2U2YTMxZDk0ODQ4ZTRiY2ExNDY1MDkyMzBlOWNiKTsKICAgICAgICAKICAgIAogICAgICAgIHZhciBwb3B1cF82YTFiNDhhZjNmN2I0NTRiOGU3MzMyZTUzN2QwMGQzMyA9IEwucG9wdXAoeyJtYXhXaWR0aCI6ICIxMDAlIn0pOwoKICAgICAgICAKICAgICAgICAgICAgdmFyIGh0bWxfMjA3MThkNzczMjVlNDQwMzg1MjE5Yjg0NzVjMjY0MzcgPSAkKGA8ZGl2IGlkPSJodG1sXzIwNzE4ZDc3MzI1ZTQ0MDM4NTIxOWI4NDc1YzI2NDM3IiBzdHlsZT0id2lkdGg6IDEwMC4wJTsgaGVpZ2h0OiAxMDAuMCU7Ij5TcGVlZHkgUm9tZW8gUHJpY2U6ICQkIFJhdGluZzo0LjA8L2Rpdj5gKVswXTsKICAgICAgICAgICAgcG9wdXBfNmExYjQ4YWYzZjdiNDU0YjhlNzMzMmU1MzdkMDBkMzMuc2V0Q29udGVudChodG1sXzIwNzE4ZDc3MzI1ZTQ0MDM4NTIxOWI4NDc1YzI2NDM3KTsKICAgICAgICAKCiAgICAgICAgbWFya2VyX2I4MTBiOGFiNGE4ZjQxYjI5YTFhYzE2ZGM3MTBhNDQ0LmJpbmRQb3B1cChwb3B1cF82YTFiNDhhZjNmN2I0NTRiOGU3MzMyZTUzN2QwMGQzMykKICAgICAgICA7CgogICAgICAgIAogICAgCiAgICAKICAgICAgICAgICAgdmFyIG1hcmtlcl8yNDdkZDc3Nzc0Yzg0YWUzOTc1NjIwYzlkYTM5OTY0ZiA9IEwubWFya2VyKAogICAgICAgICAgICAgICAgWzQwLjgwMDg0LCAtNzMuOTY3NjZdLAogICAgICAgICAgICAgICAge30KICAgICAgICAgICAgKS5hZGRUbyhtYXBfMTUzZTZhMzFkOTQ4NDhlNGJjYTE0NjUwOTIzMGU5Y2IpOwogICAgICAgIAogICAgCiAgICAgICAgdmFyIHBvcHVwXzdjYTU5NmM4ZDdjMzRiNDg4YmQyNzA3MTg1MjdmZThkID0gTC5wb3B1cCh7Im1heFdpZHRoIjogIjEwMCUifSk7CgogICAgICAgIAogICAgICAgICAgICB2YXIgaHRtbF8yMmMzNjM0Mjg4NTU0N2E3YTVmYjJjNzRiNWFjYjdmYSA9ICQoYDxkaXYgaWQ9Imh0bWxfMjJjMzYzNDI4ODU1NDdhN2E1ZmIyYzc0YjVhY2I3ZmEiIHN0eWxlPSJ3aWR0aDogMTAwLjAlOyBoZWlnaHQ6IDEwMC4wJTsiPk1BTUEnUyBUT08hIFByaWNlOiAkJCBSYXRpbmc6My41PC9kaXY+YClbMF07CiAgICAgICAgICAgIHBvcHVwXzdjYTU5NmM4ZDdjMzRiNDg4YmQyNzA3MTg1MjdmZThkLnNldENvbnRlbnQoaHRtbF8yMmMzNjM0Mjg4NTU0N2E3YTVmYjJjNzRiNWFjYjdmYSk7CiAgICAgICAgCgogICAgICAgIG1hcmtlcl8yNDdkZDc3Nzc0Yzg0YWUzOTc1NjIwYzlkYTM5OTY0Zi5iaW5kUG9wdXAocG9wdXBfN2NhNTk2YzhkN2MzNGI0ODhiZDI3MDcxODUyN2ZlOGQpCiAgICAgICAgOwoKICAgICAgICAKICAgIAogICAgCiAgICAgICAgICAgIHZhciBtYXJrZXJfZTAwZWVmMzA0NTZiNDE2NWI3MjYyMTY5ZjViN2UwOTIgPSBMLm1hcmtlcigKICAgICAgICAgICAgICAgIFs0MC43MTAzNzIsIC03My45Njc5NF0sCiAgICAgICAgICAgICAgICB7fQogICAgICAgICAgICApLmFkZFRvKG1hcF8xNTNlNmEzMWQ5NDg0OGU0YmNhMTQ2NTA5MjMwZTljYik7CiAgICAgICAgCiAgICAKICAgICAgICB2YXIgcG9wdXBfOGIwOWFlNjJhNGFhNDQzM2JjYzM3YzdmMzM1YWNjZTAgPSBMLnBvcHVwKHsibWF4V2lkdGgiOiAiMTAwJSJ9KTsKCiAgICAgICAgCiAgICAgICAgICAgIHZhciBodG1sX2Y1ZDBiN2FiODBlMzRhOWFiM2Q1ODYwNjkxNTVmYmVlID0gJChgPGRpdiBpZD0iaHRtbF9mNWQwYjdhYjgwZTM0YTlhYjNkNTg2MDY5MTU1ZmJlZSIgc3R5bGU9IndpZHRoOiAxMDAuMCU7IGhlaWdodDogMTAwLjAlOyI+QmFyYW5vIFByaWNlOiAkJCQgUmF0aW5nOjQuNTwvZGl2PmApWzBdOwogICAgICAgICAgICBwb3B1cF84YjA5YWU2MmE0YWE0NDMzYmNjMzdjN2YzMzVhY2NlMC5zZXRDb250ZW50KGh0bWxfZjVkMGI3YWI4MGUzNGE5YWIzZDU4NjA2OTE1NWZiZWUpOwogICAgICAgIAoKICAgICAgICBtYXJrZXJfZTAwZWVmMzA0NTZiNDE2NWI3MjYyMTY5ZjViN2UwOTIuYmluZFBvcHVwKHBvcHVwXzhiMDlhZTYyYTRhYTQ0MzNiY2MzN2M3ZjMzNWFjY2UwKQogICAgICAgIDsKCiAgICAgICAgCiAgICAKICAgIAogICAgICAgICAgICB2YXIgbWFya2VyX2IxYWIwMDI0NTU2ZjQwM2U5YjFlOTZjMzY0NDI2OGM4ID0gTC5tYXJrZXIoCiAgICAgICAgICAgICAgICBbNDAuNzI1MzUzLCAtNzMuOTg5NzQ2XSwKICAgICAgICAgICAgICAgIHt9CiAgICAgICAgICAgICkuYWRkVG8obWFwXzE1M2U2YTMxZDk0ODQ4ZTRiY2ExNDY1MDkyMzBlOWNiKTsKICAgICAgICAKICAgIAogICAgICAgIHZhciBwb3B1cF8zMzI0ZDNiYjZhY2E0NWU1ODYxMDllYjdkYzVjODBmYyA9IEwucG9wdXAoeyJtYXhXaWR0aCI6ICIxMDAlIn0pOwoKICAgICAgICAKICAgICAgICAgICAgdmFyIGh0bWxfZjUzOGFlY2I5ODM3NDdjZGE2NGMxMjIzYWQ5MjNiYzEgPSAkKGA8ZGl2IGlkPSJodG1sX2Y1MzhhZWNiOTgzNzQ3Y2RhNjRjMTIyM2FkOTIzYmMxIiBzdHlsZT0id2lkdGg6IDEwMC4wJTsgaGVpZ2h0OiAxMDAuMCU7Ij5Qcm90bydzIFBpenphIFByaWNlOiAkIFJhdGluZzo0LjU8L2Rpdj5gKVswXTsKICAgICAgICAgICAgcG9wdXBfMzMyNGQzYmI2YWNhNDVlNTg2MTA5ZWI3ZGM1YzgwZmMuc2V0Q29udGVudChodG1sX2Y1MzhhZWNiOTgzNzQ3Y2RhNjRjMTIyM2FkOTIzYmMxKTsKICAgICAgICAKCiAgICAgICAgbWFya2VyX2IxYWIwMDI0NTU2ZjQwM2U5YjFlOTZjMzY0NDI2OGM4LmJpbmRQb3B1cChwb3B1cF8zMzI0ZDNiYjZhY2E0NWU1ODYxMDllYjdkYzVjODBmYykKICAgICAgICA7CgogICAgICAgIAogICAgCiAgICAKICAgICAgICAgICAgdmFyIG1hcmtlcl8wYTY0YWU1NDZiNWI0NWVlOTI4NDE3ZDQ1MzJiMjJmNSA9IEwubWFya2VyKAogICAgICAgICAgICAgICAgWzQwLjY3MjA2LCAtNzMuOTU3MTddLAogICAgICAgICAgICAgICAge30KICAgICAgICAgICAgKS5hZGRUbyhtYXBfMTUzZTZhMzFkOTQ4NDhlNGJjYTE0NjUwOTIzMGU5Y2IpOwogICAgICAgIAogICAgCiAgICAgICAgdmFyIHBvcHVwXzdjMzY2ZmVmN2VlNjQ5YzY4NDgyY2Y2MWExMzAyN2QyID0gTC5wb3B1cCh7Im1heFdpZHRoIjogIjEwMCUifSk7CgogICAgICAgIAogICAgICAgICAgICB2YXIgaHRtbF80YzZiY2M1Yzg4ZTc0NzhhYjcyZDljNTRlYzY3OTQ1MSA9ICQoYDxkaXYgaWQ9Imh0bWxfNGM2YmNjNWM4OGU3NDc4YWI3MmQ5YzU0ZWM2Nzk0NTEiIHN0eWxlPSJ3aWR0aDogMTAwLjAlOyBoZWlnaHQ6IDEwMC4wJTsiPkJhcmJvbmNpbm8gUGl6emEgJiBCYXIgUHJpY2U6ICQkIFJhdGluZzo0LjA8L2Rpdj5gKVswXTsKICAgICAgICAgICAgcG9wdXBfN2MzNjZmZWY3ZWU2NDljNjg0ODJjZjYxYTEzMDI3ZDIuc2V0Q29udGVudChodG1sXzRjNmJjYzVjODhlNzQ3OGFiNzJkOWM1NGVjNjc5NDUxKTsKICAgICAgICAKCiAgICAgICAgbWFya2VyXzBhNjRhZTU0NmI1YjQ1ZWU5Mjg0MTdkNDUzMmIyMmY1LmJpbmRQb3B1cChwb3B1cF83YzM2NmZlZjdlZTY0OWM2ODQ4MmNmNjFhMTMwMjdkMikKICAgICAgICA7CgogICAgICAgIAogICAgCiAgICAKICAgICAgICAgICAgdmFyIG1hcmtlcl85ZTc2Yjc1OTNiZmE0ZWQ4OTNlN2ZmYTBiNTBjZDIyNiA9IEwubWFya2VyKAogICAgICAgICAgICAgICAgWzQwLjY3MDY2NCwgLTczLjk5MTM3MV0sCiAgICAgICAgICAgICAgICB7fQogICAgICAgICAgICApLmFkZFRvKG1hcF8xNTNlNmEzMWQ5NDg0OGU0YmNhMTQ2NTA5MjMwZTljYik7CiAgICAgICAgCiAgICAKICAgICAgICB2YXIgcG9wdXBfMDJhODI2ZmMyNzI0NDgwOTlkZTg3NjljMjg0YWYzZmUgPSBMLnBvcHVwKHsibWF4V2lkdGgiOiAiMTAwJSJ9KTsKCiAgICAgICAgCiAgICAgICAgICAgIHZhciBodG1sXzAxZTAxOGE5MTM2MzQxMTY5MzI3NmUzOGZlY2E1ZDdiID0gJChgPGRpdiBpZD0iaHRtbF8wMWUwMThhOTEzNjM0MTE2OTMyNzZlMzhmZWNhNWQ3YiIgc3R5bGU9IndpZHRoOiAxMDAuMCU7IGhlaWdodDogMTAwLjAlOyI+VGFibGUgODcgLSBHb3dhbnVzIFByaWNlOiAkJCBSYXRpbmc6NC4wPC9kaXY+YClbMF07CiAgICAgICAgICAgIHBvcHVwXzAyYTgyNmZjMjcyNDQ4MDk5ZGU4NzY5YzI4NGFmM2ZlLnNldENvbnRlbnQoaHRtbF8wMWUwMThhOTEzNjM0MTE2OTMyNzZlMzhmZWNhNWQ3Yik7CiAgICAgICAgCgogICAgICAgIG1hcmtlcl85ZTc2Yjc1OTNiZmE0ZWQ4OTNlN2ZmYTBiNTBjZDIyNi5iaW5kUG9wdXAocG9wdXBfMDJhODI2ZmMyNzI0NDgwOTlkZTg3NjljMjg0YWYzZmUpCiAgICAgICAgOwoKICAgICAgICAKICAgIAogICAgCiAgICAgICAgICAgIHZhciBtYXJrZXJfNzA1ZWQwNWNkZGNlNDMwZWFlMTEyZGMzMGU4NmU2ZTEgPSBMLm1hcmtlcigKICAgICAgICAgICAgICAgIFs0MC43NDYyMywgLTczLjk5NzRdLAogICAgICAgICAgICAgICAge30KICAgICAgICAgICAgKS5hZGRUbyhtYXBfMTUzZTZhMzFkOTQ4NDhlNGJjYTE0NjUwOTIzMGU5Y2IpOwogICAgICAgIAogICAgCiAgICAgICAgdmFyIHBvcHVwX2Q2NGExMjczY2UxMjQ2ZTVhMTc4ZDg4OGI1MTU3N2Q0ID0gTC5wb3B1cCh7Im1heFdpZHRoIjogIjEwMCUifSk7CgogICAgICAgIAogICAgICAgICAgICB2YXIgaHRtbF8xOGM0MTIyMjg1Y2Q0OWZjYTViZWJjMjQ4ZjI4OWUxYyA9ICQoYDxkaXYgaWQ9Imh0bWxfMThjNDEyMjI4NWNkNDlmY2E1YmViYzI0OGYyODllMWMiIHN0eWxlPSJ3aWR0aDogMTAwLjAlOyBoZWlnaHQ6IDEwMC4wJTsiPkxvbWJhcmRpJ3MgUGl6emEgUHJpY2U6ICQkIFJhdGluZzo0LjA8L2Rpdj5gKVswXTsKICAgICAgICAgICAgcG9wdXBfZDY0YTEyNzNjZTEyNDZlNWExNzhkODg4YjUxNTc3ZDQuc2V0Q29udGVudChodG1sXzE4YzQxMjIyODVjZDQ5ZmNhNWJlYmMyNDhmMjg5ZTFjKTsKICAgICAgICAKCiAgICAgICAgbWFya2VyXzcwNWVkMDVjZGRjZTQzMGVhZTExMmRjMzBlODZlNmUxLmJpbmRQb3B1cChwb3B1cF9kNjRhMTI3M2NlMTI0NmU1YTE3OGQ4ODhiNTE1NzdkNCkKICAgICAgICA7CgogICAgICAgIAogICAgCiAgICAKICAgICAgICAgICAgdmFyIG1hcmtlcl8wMWE4YzgzMTBkNzQ0YjNiYjU1YWY4NDE2ZjFhNTYyNSA9IEwubWFya2VyKAogICAgICAgICAgICAgICAgWzQwLjcxMzk0OTksIC03My45NTU2M10sCiAgICAgICAgICAgICAgICB7fQogICAgICAgICAgICApLmFkZFRvKG1hcF8xNTNlNmEzMWQ5NDg0OGU0YmNhMTQ2NTA5MjMwZTljYik7CiAgICAgICAgCiAgICAKICAgICAgICB2YXIgcG9wdXBfMTMxM2E1NGMzMWI4NDNiNWE2YWE3M2MxODZjZTdlMjcgPSBMLnBvcHVwKHsibWF4V2lkdGgiOiAiMTAwJSJ9KTsKCiAgICAgICAgCiAgICAgICAgICAgIHZhciBodG1sXzljNzY2OTUzODRmOTRjOTI4NzA4YzBlZjExZTE5MTM0ID0gJChgPGRpdiBpZD0iaHRtbF85Yzc2Njk1Mzg0Zjk0YzkyODcwOGMwZWYxMWUxOTEzNCIgc3R5bGU9IndpZHRoOiAxMDAuMCU7IGhlaWdodDogMTAwLjAlOyI+Um9zYSdzIFBpenphIFByaWNlOiAkIFJhdGluZzo0LjU8L2Rpdj5gKVswXTsKICAgICAgICAgICAgcG9wdXBfMTMxM2E1NGMzMWI4NDNiNWE2YWE3M2MxODZjZTdlMjcuc2V0Q29udGVudChodG1sXzljNzY2OTUzODRmOTRjOTI4NzA4YzBlZjExZTE5MTM0KTsKICAgICAgICAKCiAgICAgICAgbWFya2VyXzAxYThjODMxMGQ3NDRiM2JiNTVhZjg0MTZmMWE1NjI1LmJpbmRQb3B1cChwb3B1cF8xMzEzYTU0YzMxYjg0M2I1YTZhYTczYzE4NmNlN2UyNykKICAgICAgICA7CgogICAgICAgIAogICAgCiAgICAKICAgICAgICAgICAgdmFyIG1hcmtlcl81ZWI1Y2U4ZWZlMmY0NzI4YWU5ZDEzYzI0MjZiZDIwNCA9IEwubWFya2VyKAogICAgICAgICAgICAgICAgWzQwLjcyMTUyNzA5OTYwOTQsIC03My45OTcwODU1NzEyODkxXSwKICAgICAgICAgICAgICAgIHt9CiAgICAgICAgICAgICkuYWRkVG8obWFwXzE1M2U2YTMxZDk0ODQ4ZTRiY2ExNDY1MDkyMzBlOWNiKTsKICAgICAgICAKICAgIAogICAgICAgIHZhciBwb3B1cF82OTI5ZTZkZGIzZmQ0Nzg2OTY3NjAzMDEzNWU3ZTA0NSA9IEwucG9wdXAoeyJtYXhXaWR0aCI6ICIxMDAlIn0pOwoKICAgICAgICAKICAgICAgICAgICAgdmFyIGh0bWxfYWExMjQxYjMwMGFhNDBjYjk4Yjg5ODlhNGExMzIxMDQgPSAkKGA8ZGl2IGlkPSJodG1sX2FhMTI0MWIzMDBhYTQwY2I5OGI4OTg5YTRhMTMyMTA0IiBzdHlsZT0id2lkdGg6IDEwMC4wJTsgaGVpZ2h0OiAxMDAuMCU7Ij5DaGFtcGlvbiBQaXp6YSBQcmljZTogJCBSYXRpbmc6NC41PC9kaXY+YClbMF07CiAgICAgICAgICAgIHBvcHVwXzY5MjllNmRkYjNmZDQ3ODY5Njc2MDMwMTM1ZTdlMDQ1LnNldENvbnRlbnQoaHRtbF9hYTEyNDFiMzAwYWE0MGNiOThiODk4OWE0YTEzMjEwNCk7CiAgICAgICAgCgogICAgICAgIG1hcmtlcl81ZWI1Y2U4ZWZlMmY0NzI4YWU5ZDEzYzI0MjZiZDIwNC5iaW5kUG9wdXAocG9wdXBfNjkyOWU2ZGRiM2ZkNDc4Njk2NzYwMzAxMzVlN2UwNDUpCiAgICAgICAgOwoKICAgICAgICAKICAgIAogICAgCiAgICAgICAgICAgIHZhciBtYXJrZXJfZTcyM2RkYTlmNTU3NDY5YWFmYTQzOGQyNjRjNTYwMTcgPSBMLm1hcmtlcigKICAgICAgICAgICAgICAgIFs0MC43MDI3NiwgLTczLjkxNzFdLAogICAgICAgICAgICAgICAge30KICAgICAgICAgICAgKS5hZGRUbyhtYXBfMTUzZTZhMzFkOTQ4NDhlNGJjYTE0NjUwOTIzMGU5Y2IpOwogICAgICAgIAogICAgCiAgICAgICAgdmFyIHBvcHVwX2EyZDg5ZGIyNjg2ZTRhMWZhZTJlODllZjg2Mjg0NmQxID0gTC5wb3B1cCh7Im1heFdpZHRoIjogIjEwMCUifSk7CgogICAgICAgIAogICAgICAgICAgICB2YXIgaHRtbF8wNjExN2MwNDczNzc0OTU2ODgwYTUwY2M5MGY0NWQ1MSA9ICQoYDxkaXYgaWQ9Imh0bWxfMDYxMTdjMDQ3Mzc3NDk1Njg4MGE1MGNjOTBmNDVkNTEiIHN0eWxlPSJ3aWR0aDogMTAwLjAlOyBoZWlnaHQ6IDEwMC4wJTsiPk9wcyBQcmljZTogJCQgUmF0aW5nOjQuNTwvZGl2PmApWzBdOwogICAgICAgICAgICBwb3B1cF9hMmQ4OWRiMjY4NmU0YTFmYWUyZTg5ZWY4NjI4NDZkMS5zZXRDb250ZW50KGh0bWxfMDYxMTdjMDQ3Mzc3NDk1Njg4MGE1MGNjOTBmNDVkNTEpOwogICAgICAgIAoKICAgICAgICBtYXJrZXJfZTcyM2RkYTlmNTU3NDY5YWFmYTQzOGQyNjRjNTYwMTcuYmluZFBvcHVwKHBvcHVwX2EyZDg5ZGIyNjg2ZTRhMWZhZTJlODllZjg2Mjg0NmQxKQogICAgICAgIDsKCiAgICAgICAgCiAgICAKICAgIAogICAgICAgICAgICB2YXIgbWFya2VyXzg4MTM5MDU0ODBhMDQ2ZTY5MzJmYjA2MDU3ZWM3MWY5ID0gTC5tYXJrZXIoCiAgICAgICAgICAgICAgICBbNDAuNzM3MiwgLTczLjk5OTE5XSwKICAgICAgICAgICAgICAgIHt9CiAgICAgICAgICAgICkuYWRkVG8obWFwXzE1M2U2YTMxZDk0ODQ4ZTRiY2ExNDY1MDkyMzBlOWNiKTsKICAgICAgICAKICAgIAogICAgICAgIHZhciBwb3B1cF9lMGQzOGNhNjZmN2Y0NWRmYjc0Mzc1YTA5NWUwYTYyYyA9IEwucG9wdXAoeyJtYXhXaWR0aCI6ICIxMDAlIn0pOwoKICAgICAgICAKICAgICAgICAgICAgdmFyIGh0bWxfNzY4MjJjMWNhZTI5NGU2NmIyM2VmNGQ0M2MwZjU1Y2YgPSAkKGA8ZGl2IGlkPSJodG1sXzc2ODIyYzFjYWUyOTRlNjZiMjNlZjRkNDNjMGY1NWNmIiBzdHlsZT0id2lkdGg6IDEwMC4wJTsgaGVpZ2h0OiAxMDAuMCU7Ij5Tb3R0byAxMyBQcmljZTogJCQgUmF0aW5nOjQuMDwvZGl2PmApWzBdOwogICAgICAgICAgICBwb3B1cF9lMGQzOGNhNjZmN2Y0NWRmYjc0Mzc1YTA5NWUwYTYyYy5zZXRDb250ZW50KGh0bWxfNzY4MjJjMWNhZTI5NGU2NmIyM2VmNGQ0M2MwZjU1Y2YpOwogICAgICAgIAoKICAgICAgICBtYXJrZXJfODgxMzkwNTQ4MGEwNDZlNjkzMmZiMDYwNTdlYzcxZjkuYmluZFBvcHVwKHBvcHVwX2UwZDM4Y2E2NmY3ZjQ1ZGZiNzQzNzVhMDk1ZTBhNjJjKQogICAgICAgIDsKCiAgICAgICAgCiAgICAKICAgIAogICAgICAgICAgICB2YXIgbWFya2VyX2Y5NWIyOGY2NjJhNTQwNGM4ZTZhYmQ4NGM4ZTRmNDRhID0gTC5tYXJrZXIoCiAgICAgICAgICAgICAgICBbNDAuNzE0OTg3LCAtNzMuOTQ0MTRdLAogICAgICAgICAgICAgICAge30KICAgICAgICAgICAgKS5hZGRUbyhtYXBfMTUzZTZhMzFkOTQ4NDhlNGJjYTE0NjUwOTIzMGU5Y2IpOwogICAgICAgIAogICAgCiAgICAgICAgdmFyIHBvcHVwXzMxYWU0MmVlZGUwMDRlMmE5ODY1ZGUzY2M0YTkwYTBhID0gTC5wb3B1cCh7Im1heFdpZHRoIjogIjEwMCUifSk7CgogICAgICAgIAogICAgICAgICAgICB2YXIgaHRtbF9mZjQ1ZTcyODFhZTc0MGE5YWI4ZGJmZjMwOThkYzQyMyA9ICQoYDxkaXYgaWQ9Imh0bWxfZmY0NWU3MjgxYWU3NDBhOWFiOGRiZmYzMDk4ZGM0MjMiIHN0eWxlPSJ3aWR0aDogMTAwLjAlOyBoZWlnaHQ6IDEwMC4wJTsiPkNhcm1pbmUncyBQaXp6ZXJpYSBQcmljZTogJCQgUmF0aW5nOjQuMDwvZGl2PmApWzBdOwogICAgICAgICAgICBwb3B1cF8zMWFlNDJlZWRlMDA0ZTJhOTg2NWRlM2NjNGE5MGEwYS5zZXRDb250ZW50KGh0bWxfZmY0NWU3MjgxYWU3NDBhOWFiOGRiZmYzMDk4ZGM0MjMpOwogICAgICAgIAoKICAgICAgICBtYXJrZXJfZjk1YjI4ZjY2MmE1NDA0YzhlNmFiZDg0YzhlNGY0NGEuYmluZFBvcHVwKHBvcHVwXzMxYWU0MmVlZGUwMDRlMmE5ODY1ZGUzY2M0YTkwYTBhKQogICAgICAgIDsKCiAgICAgICAgCiAgICAKICAgIAogICAgICAgICAgICB2YXIgbWFya2VyXzRmNjA5MzRlNTBjMzRiNzFhYTVhOGQwYzk4OGRlMTZmID0gTC5tYXJrZXIoCiAgICAgICAgICAgICAgICBbNDAuNzE4OSwgLTczLjk1Njg0M10sCiAgICAgICAgICAgICAgICB7fQogICAgICAgICAgICApLmFkZFRvKG1hcF8xNTNlNmEzMWQ5NDg0OGU0YmNhMTQ2NTA5MjMwZTljYik7CiAgICAgICAgCiAgICAKICAgICAgICB2YXIgcG9wdXBfYjNjZDNmNjdhZTlhNGE0MDhhMjgzNjg5ZjhmYzFlMmMgPSBMLnBvcHVwKHsibWF4V2lkdGgiOiAiMTAwJSJ9KTsKCiAgICAgICAgCiAgICAgICAgICAgIHZhciBodG1sX2U3ZmVlNjVhNmFiMDRjZjQ5M2QzODc2YWUyNmIwM2ViID0gJChgPGRpdiBpZD0iaHRtbF9lN2ZlZTY1YTZhYjA0Y2Y0OTNkMzg3NmFlMjZiMDNlYiIgc3R5bGU9IndpZHRoOiAxMDAuMCU7IGhlaWdodDogMTAwLjAlOyI+VmlubmllJ3MgUGl6emVyaWEgUHJpY2U6ICQgUmF0aW5nOjQuMDwvZGl2PmApWzBdOwogICAgICAgICAgICBwb3B1cF9iM2NkM2Y2N2FlOWE0YTQwOGEyODM2ODlmOGZjMWUyYy5zZXRDb250ZW50KGh0bWxfZTdmZWU2NWE2YWIwNGNmNDkzZDM4NzZhZTI2YjAzZWIpOwogICAgICAgIAoKICAgICAgICBtYXJrZXJfNGY2MDkzNGU1MGMzNGI3MWFhNWE4ZDBjOTg4ZGUxNmYuYmluZFBvcHVwKHBvcHVwX2IzY2QzZjY3YWU5YTRhNDA4YTI4MzY4OWY4ZmMxZTJjKQogICAgICAgIDsKCiAgICAgICAgCiAgICAKICAgIAogICAgICAgICAgICB2YXIgbWFya2VyXzViYTRhOGFmMGE2ZTQ2NjU5Mzg4NjcyYjRlZjM4ZGFkID0gTC5tYXJrZXIoCiAgICAgICAgICAgICAgICBbNDAuNjk0NDY3LCAtNzMuOTgyOTNdLAogICAgICAgICAgICAgICAge30KICAgICAgICAgICAgKS5hZGRUbyhtYXBfMTUzZTZhMzFkOTQ4NDhlNGJjYTE0NjUwOTIzMGU5Y2IpOwogICAgICAgIAogICAgCiAgICAgICAgdmFyIHBvcHVwXzIzYjJiZGUyYmE5NzRiZTJhZTdkYTJkMDg5ZWFiYzkwID0gTC5wb3B1cCh7Im1heFdpZHRoIjogIjEwMCUifSk7CgogICAgICAgIAogICAgICAgICAgICB2YXIgaHRtbF8xNWM2NGYzNmY5ZTQ0MDYwYjNmM2RiNGVjOTE1OTUyMCA9ICQoYDxkaXYgaWQ9Imh0bWxfMTVjNjRmMzZmOWU0NDA2MGIzZjNkYjRlYzkxNTk1MjAiIHN0eWxlPSJ3aWR0aDogMTAwLjAlOyBoZWlnaHQ6IDEwMC4wJTsiPkZvcm5vIFJvc3NvIFByaWNlOiAkJCBSYXRpbmc6NC4wPC9kaXY+YClbMF07CiAgICAgICAgICAgIHBvcHVwXzIzYjJiZGUyYmE5NzRiZTJhZTdkYTJkMDg5ZWFiYzkwLnNldENvbnRlbnQoaHRtbF8xNWM2NGYzNmY5ZTQ0MDYwYjNmM2RiNGVjOTE1OTUyMCk7CiAgICAgICAgCgogICAgICAgIG1hcmtlcl81YmE0YThhZjBhNmU0NjY1OTM4ODY3MmI0ZWYzOGRhZC5iaW5kUG9wdXAocG9wdXBfMjNiMmJkZTJiYTk3NGJlMmFlN2RhMmQwODllYWJjOTApCiAgICAgICAgOwoKICAgICAgICAKICAgIAogICAgCiAgICAgICAgICAgIHZhciBtYXJrZXJfMjk5NzI3NjRkMzdjNDE4OGIyMDJkMjliZjI4MTU5ZmQgPSBMLm1hcmtlcigKICAgICAgICAgICAgICAgIFs0MC42ODEwMTA3NjY3MTEzLCAtNzMuOTc3MTgxMzg5OTI3OV0sCiAgICAgICAgICAgICAgICB7fQogICAgICAgICAgICApLmFkZFRvKG1hcF8xNTNlNmEzMWQ5NDg0OGU0YmNhMTQ2NTA5MjMwZTljYik7CiAgICAgICAgCiAgICAKICAgICAgICB2YXIgcG9wdXBfODRhZTI3ZjQ2ZDBmNDI5NmI1YjViYzU1YmI5YWM1NTUgPSBMLnBvcHVwKHsibWF4V2lkdGgiOiAiMTAwJSJ9KTsKCiAgICAgICAgCiAgICAgICAgICAgIHZhciBodG1sX2VjMjczNWY2MWZlMjQxNGViMDFlNDY3YTBmZDc1ZTI4ID0gJChgPGRpdiBpZD0iaHRtbF9lYzI3MzVmNjFmZTI0MTRlYjAxZTQ2N2EwZmQ3NWUyOCIgc3R5bGU9IndpZHRoOiAxMDAuMCU7IGhlaWdodDogMTAwLjAlOyI+QXJ0aWNob2tlIEJhc2lsbGUncyBQaXp6YSBQcmljZTogJCBSYXRpbmc6My41PC9kaXY+YClbMF07CiAgICAgICAgICAgIHBvcHVwXzg0YWUyN2Y0NmQwZjQyOTZiNWI1YmM1NWJiOWFjNTU1LnNldENvbnRlbnQoaHRtbF9lYzI3MzVmNjFmZTI0MTRlYjAxZTQ2N2EwZmQ3NWUyOCk7CiAgICAgICAgCgogICAgICAgIG1hcmtlcl8yOTk3Mjc2NGQzN2M0MTg4YjIwMmQyOWJmMjgxNTlmZC5iaW5kUG9wdXAocG9wdXBfODRhZTI3ZjQ2ZDBmNDI5NmI1YjViYzU1YmI5YWM1NTUpCiAgICAgICAgOwoKICAgICAgICAKICAgIAogICAgCiAgICAgICAgICAgIHZhciBtYXJrZXJfYTdiMjFmMGYwNjdlNDZlZmIwM2Q4Y2QyMzA4NTRlZmMgPSBMLm1hcmtlcigKICAgICAgICAgICAgICAgIFs0MC43MDg0ODkwNzE0MjYzLCAtNzMuOTYxMDk0MDcxMTYzOV0sCiAgICAgICAgICAgICAgICB7fQogICAgICAgICAgICApLmFkZFRvKG1hcF8xNTNlNmEzMWQ5NDg0OGU0YmNhMTQ2NTA5MjMwZTljYik7CiAgICAgICAgCiAgICAKICAgICAgICB2YXIgcG9wdXBfZTcwMGRjMzM3Njc4NDY2MDllZWFlNjY0YTMzMGJiZWYgPSBMLnBvcHVwKHsibWF4V2lkdGgiOiAiMTAwJSJ9KTsKCiAgICAgICAgCiAgICAgICAgICAgIHZhciBodG1sXzQ1ZDUzYmRiZjk2ZDQwNWNiMjk4OTJlNmYxZjNkODFiID0gJChgPGRpdiBpZD0iaHRtbF80NWQ1M2JkYmY5NmQ0MDVjYjI5ODkyZTZmMWYzZDgxYiIgc3R5bGU9IndpZHRoOiAxMDAuMCU7IGhlaWdodDogMTAwLjAlOyI+Um9lYmxpbmcgUGl6emEgUHJpY2U6ICQgUmF0aW5nOjQuNTwvZGl2PmApWzBdOwogICAgICAgICAgICBwb3B1cF9lNzAwZGMzMzc2Nzg0NjYwOWVlYWU2NjRhMzMwYmJlZi5zZXRDb250ZW50KGh0bWxfNDVkNTNiZGJmOTZkNDA1Y2IyOTg5MmU2ZjFmM2Q4MWIpOwogICAgICAgIAoKICAgICAgICBtYXJrZXJfYTdiMjFmMGYwNjdlNDZlZmIwM2Q4Y2QyMzA4NTRlZmMuYmluZFBvcHVwKHBvcHVwX2U3MDBkYzMzNzY3ODQ2NjA5ZWVhZTY2NGEzMzBiYmVmKQogICAgICAgIDsKCiAgICAgICAgCiAgICAKICAgIAogICAgICAgICAgICB2YXIgbWFya2VyX2IyN2JiMzE2NTgwMDRhN2Y5ZjZlOGY4YmIwODlmYzRjID0gTC5tYXJrZXIoCiAgICAgICAgICAgICAgICBbNDAuNzA5Mzk0NywgLTc0LjAwNDg5NzddLAogICAgICAgICAgICAgICAge30KICAgICAgICAgICAgKS5hZGRUbyhtYXBfMTUzZTZhMzFkOTQ4NDhlNGJjYTE0NjUwOTIzMGU5Y2IpOwogICAgICAgIAogICAgCiAgICAgICAgdmFyIHBvcHVwX2I4ZmE1NzJkZGU3YzRiOTFhMzNiMTgwMmNlYzZlNjNkID0gTC5wb3B1cCh7Im1heFdpZHRoIjogIjEwMCUifSk7CgogICAgICAgIAogICAgICAgICAgICB2YXIgaHRtbF8yMDVjZDI4ODJlZjA0NGQ1OTAwN2UyNDQzMTdlMmIwMyA9ICQoYDxkaXYgaWQ9Imh0bWxfMjA1Y2QyODgyZWYwNDRkNTkwMDdlMjQ0MzE3ZTJiMDMiIHN0eWxlPSJ3aWR0aDogMTAwLjAlOyBoZWlnaHQ6IDEwMC4wJTsiPktlc3TDqSBQaXp6YSAmIFZpbm8gUHJpY2U6ICQkIFJhdGluZzo0LjA8L2Rpdj5gKVswXTsKICAgICAgICAgICAgcG9wdXBfYjhmYTU3MmRkZTdjNGI5MWEzM2IxODAyY2VjNmU2M2Quc2V0Q29udGVudChodG1sXzIwNWNkMjg4MmVmMDQ0ZDU5MDA3ZTI0NDMxN2UyYjAzKTsKICAgICAgICAKCiAgICAgICAgbWFya2VyX2IyN2JiMzE2NTgwMDRhN2Y5ZjZlOGY4YmIwODlmYzRjLmJpbmRQb3B1cChwb3B1cF9iOGZhNTcyZGRlN2M0YjkxYTMzYjE4MDJjZWM2ZTYzZCkKICAgICAgICA7CgogICAgICAgIAogICAgCiAgICAKICAgICAgICAgICAgdmFyIG1hcmtlcl9iY2NmNThiNWEwODQ0MDc5OTM0M2UyOGM0MjQ4NWEyYiA9IEwubWFya2VyKAogICAgICAgICAgICAgICAgWzQwLjcxMzI0NTY3NTMxNSwgLTczLjk5ODY1MTEwNDQ5Nl0sCiAgICAgICAgICAgICAgICB7fQogICAgICAgICAgICApLmFkZFRvKG1hcF8xNTNlNmEzMWQ5NDg0OGU0YmNhMTQ2NTA5MjMwZTljYik7CiAgICAgICAgCiAgICAKICAgICAgICB2YXIgcG9wdXBfOWViOTc4NTVkYjlmNGIyMzliNDIzZmQ5ZjQwZTUwNmEgPSBMLnBvcHVwKHsibWF4V2lkdGgiOiAiMTAwJSJ9KTsKCiAgICAgICAgCiAgICAgICAgICAgIHZhciBodG1sX2Y4YTE5N2UyZmJmOTRlN2RiZmY5MDkxMTQyM2E2MWIxID0gJChgPGRpdiBpZD0iaHRtbF9mOGExOTdlMmZiZjk0ZTdkYmZmOTA5MTE0MjNhNjFiMSIgc3R5bGU9IndpZHRoOiAxMDAuMCU7IGhlaWdodDogMTAwLjAlOyI+THVuYSBQaXp6YSBQcmljZTogJCQgUmF0aW5nOjQuMDwvZGl2PmApWzBdOwogICAgICAgICAgICBwb3B1cF85ZWI5Nzg1NWRiOWY0YjIzOWI0MjNmZDlmNDBlNTA2YS5zZXRDb250ZW50KGh0bWxfZjhhMTk3ZTJmYmY5NGU3ZGJmZjkwOTExNDIzYTYxYjEpOwogICAgICAgIAoKICAgICAgICBtYXJrZXJfYmNjZjU4YjVhMDg0NDA3OTkzNDNlMjhjNDI0ODVhMmIuYmluZFBvcHVwKHBvcHVwXzllYjk3ODU1ZGI5ZjRiMjM5YjQyM2ZkOWY0MGU1MDZhKQogICAgICAgIDsKCiAgICAgICAgCiAgICAKICAgIAogICAgICAgICAgICB2YXIgbWFya2VyXzI1ZmQzMmU2OTFmMjQ0ZTE5YmMwZmY5NzNiMzYzNTcxID0gTC5tYXJrZXIoCiAgICAgICAgICAgICAgICBbNDAuNjkwNDU2MzkwMzgwOSwgLTczLjk2OTYyNzM4MDM3MTFdLAogICAgICAgICAgICAgICAge30KICAgICAgICAgICAgKS5hZGRUbyhtYXBfMTUzZTZhMzFkOTQ4NDhlNGJjYTE0NjUwOTIzMGU5Y2IpOwogICAgICAgIAogICAgCiAgICAgICAgdmFyIHBvcHVwXzI3ZDlkMjYyNjM3ZjRkYTdiN2NjNTYwOTg3MTRjMjdjID0gTC5wb3B1cCh7Im1heFdpZHRoIjogIjEwMCUifSk7CgogICAgICAgIAogICAgICAgICAgICB2YXIgaHRtbF8wYjFiOWY2YzgyMDY0MGRkYWE3MzZiYzcxYWRmZjYyYiA9ICQoYDxkaXYgaWQ9Imh0bWxfMGIxYjlmNmM4MjA2NDBkZGFhNzM2YmM3MWFkZmY2MmIiIHN0eWxlPSJ3aWR0aDogMTAwLjAlOyBoZWlnaHQ6IDEwMC4wJTsiPkdyYXppZWxsYSdzIFByaWNlOiAkJCBSYXRpbmc6NC4wPC9kaXY+YClbMF07CiAgICAgICAgICAgIHBvcHVwXzI3ZDlkMjYyNjM3ZjRkYTdiN2NjNTYwOTg3MTRjMjdjLnNldENvbnRlbnQoaHRtbF8wYjFiOWY2YzgyMDY0MGRkYWE3MzZiYzcxYWRmZjYyYik7CiAgICAgICAgCgogICAgICAgIG1hcmtlcl8yNWZkMzJlNjkxZjI0NGUxOWJjMGZmOTczYjM2MzU3MS5iaW5kUG9wdXAocG9wdXBfMjdkOWQyNjI2MzdmNGRhN2I3Y2M1NjA5ODcxNGMyN2MpCiAgICAgICAgOwoKICAgICAgICAKICAgIAogICAgCiAgICAgICAgICAgIHZhciBtYXJrZXJfNTVjZTc3OGVhNjBhNGIzOWJjMzBjMjczMDlhYTZlMTUgPSBMLm1hcmtlcigKICAgICAgICAgICAgICAgIFs0MC42OTg1LCAtNzMuOTkyNzNdLAogICAgICAgICAgICAgICAge30KICAgICAgICAgICAgKS5hZGRUbyhtYXBfMTUzZTZhMzFkOTQ4NDhlNGJjYTE0NjUwOTIzMGU5Y2IpOwogICAgICAgIAogICAgCiAgICAgICAgdmFyIHBvcHVwXzMzOTI3NTM1MzYzYzRmNTZiNjNhYWU4M2JmNTE4ZGE2ID0gTC5wb3B1cCh7Im1heFdpZHRoIjogIjEwMCUifSk7CgogICAgICAgIAogICAgICAgICAgICB2YXIgaHRtbF9kMGZlZDA2MDFlOWI0ODU0YjQ4ZGIzODM1MWQyMGIyMCA9ICQoYDxkaXYgaWQ9Imh0bWxfZDBmZWQwNjAxZTliNDg1NGI0OGRiMzgzNTFkMjBiMjAiIHN0eWxlPSJ3aWR0aDogMTAwLjAlOyBoZWlnaHQ6IDEwMC4wJTsiPkZhc2NhdGkgUGl6emEgUHJpY2U6ICQgUmF0aW5nOjQuMDwvZGl2PmApWzBdOwogICAgICAgICAgICBwb3B1cF8zMzkyNzUzNTM2M2M0ZjU2YjYzYWFlODNiZjUxOGRhNi5zZXRDb250ZW50KGh0bWxfZDBmZWQwNjAxZTliNDg1NGI0OGRiMzgzNTFkMjBiMjApOwogICAgICAgIAoKICAgICAgICBtYXJrZXJfNTVjZTc3OGVhNjBhNGIzOWJjMzBjMjczMDlhYTZlMTUuYmluZFBvcHVwKHBvcHVwXzMzOTI3NTM1MzYzYzRmNTZiNjNhYWU4M2JmNTE4ZGE2KQogICAgICAgIDsKCiAgICAgICAgCiAgICAKICAgIAogICAgICAgICAgICB2YXIgbWFya2VyX2Q5ODllMTMxMDMyZTRhOTU5YzcxZGMzZjM3ZTgxODQ3ID0gTC5tYXJrZXIoCiAgICAgICAgICAgICAgICBbNDAuNzY0OTIsIC03My45Nzc5NF0sCiAgICAgICAgICAgICAgICB7fQogICAgICAgICAgICApLmFkZFRvKG1hcF8xNTNlNmEzMWQ5NDg0OGU0YmNhMTQ2NTA5MjMwZTljYik7CiAgICAgICAgCiAgICAKICAgICAgICB2YXIgcG9wdXBfNDIxMzRmMTBkZGEzNGJmNzk1MzY2MWEwMTdmZGVkODYgPSBMLnBvcHVwKHsibWF4V2lkdGgiOiAiMTAwJSJ9KTsKCiAgICAgICAgCiAgICAgICAgICAgIHZhciBodG1sXzAyN2VkZTk4OGVmOTRlMjliM2E3ZGYwYzIyNWNmNGFiID0gJChgPGRpdiBpZD0iaHRtbF8wMjdlZGU5ODhlZjk0ZTI5YjNhN2RmMGMyMjVjZjRhYiIgc3R5bGU9IndpZHRoOiAxMDAuMCU7IGhlaWdodDogMTAwLjAlOyI+QW5nZWxvJ3MgQ29hbCBPdmVuIFBpenplcmlhIFByaWNlOiAkJCBSYXRpbmc6NC4wPC9kaXY+YClbMF07CiAgICAgICAgICAgIHBvcHVwXzQyMTM0ZjEwZGRhMzRiZjc5NTM2NjFhMDE3ZmRlZDg2LnNldENvbnRlbnQoaHRtbF8wMjdlZGU5ODhlZjk0ZTI5YjNhN2RmMGMyMjVjZjRhYik7CiAgICAgICAgCgogICAgICAgIG1hcmtlcl9kOTg5ZTEzMTAzMmU0YTk1OWM3MWRjM2YzN2U4MTg0Ny5iaW5kUG9wdXAocG9wdXBfNDIxMzRmMTBkZGEzNGJmNzk1MzY2MWEwMTdmZGVkODYpCiAgICAgICAgOwoKICAgICAgICAKICAgIAogICAgCiAgICAgICAgICAgIHZhciBtYXJrZXJfYjE0NGJkNGI2YWQ0NDEyNGJjZTZhOWY0ZDlmN2I3MmQgPSBMLm1hcmtlcigKICAgICAgICAgICAgICAgIFs0MC42MTM2MDkzMTM5NjQ4LCAtNzQuMDMzMzMyODI0NzA3XSwKICAgICAgICAgICAgICAgIHt9CiAgICAgICAgICAgICkuYWRkVG8obWFwXzE1M2U2YTMxZDk0ODQ4ZTRiY2ExNDY1MDkyMzBlOWNiKTsKICAgICAgICAKICAgIAogICAgICAgIHZhciBwb3B1cF9lZjNiMjcwMWJhZTU0MDE2ODVjZjcyMDIwYWI3NTBhNCA9IEwucG9wdXAoeyJtYXhXaWR0aCI6ICIxMDAlIn0pOwoKICAgICAgICAKICAgICAgICAgICAgdmFyIGh0bWxfNzBiNTA3MDQwNzM2NDFkOTg0NWE1Mjk3ZTc4ODgyYmIgPSAkKGA8ZGl2IGlkPSJodG1sXzcwYjUwNzA0MDczNjQxZDk4NDVhNTI5N2U3ODg4MmJiIiBzdHlsZT0id2lkdGg6IDEwMC4wJTsgaGVpZ2h0OiAxMDAuMCU7Ij5DYW1wYW5pYSBDb2FsIEZpcmVkIFBpenphIFByaWNlOiAkJCBSYXRpbmc6NC41PC9kaXY+YClbMF07CiAgICAgICAgICAgIHBvcHVwX2VmM2IyNzAxYmFlNTQwMTY4NWNmNzIwMjBhYjc1MGE0LnNldENvbnRlbnQoaHRtbF83MGI1MDcwNDA3MzY0MWQ5ODQ1YTUyOTdlNzg4ODJiYik7CiAgICAgICAgCgogICAgICAgIG1hcmtlcl9iMTQ0YmQ0YjZhZDQ0MTI0YmNlNmE5ZjRkOWY3YjcyZC5iaW5kUG9wdXAocG9wdXBfZWYzYjI3MDFiYWU1NDAxNjg1Y2Y3MjAyMGFiNzUwYTQpCiAgICAgICAgOwoKICAgICAgICAKICAgIAogICAgCiAgICAgICAgICAgIHZhciBtYXJrZXJfZDk1YTU3MzZhNTEzNDQxYWIzNDNhNjNmYjk4ZmRjZmYgPSBMLm1hcmtlcigKICAgICAgICAgICAgICAgIFs0MC43NjI4OTYxLCAtNzMuOTIwNzA4MV0sCiAgICAgICAgICAgICAgICB7fQogICAgICAgICAgICApLmFkZFRvKG1hcF8xNTNlNmEzMWQ5NDg0OGU0YmNhMTQ2NTA5MjMwZTljYik7CiAgICAgICAgCiAgICAKICAgICAgICB2YXIgcG9wdXBfMGI5Y2JjYTJhMjQyNDU2MTg3Mzg5NzYyZTJlMzgwMTEgPSBMLnBvcHVwKHsibWF4V2lkdGgiOiAiMTAwJSJ9KTsKCiAgICAgICAgCiAgICAgICAgICAgIHZhciBodG1sX2YzMTUyNjJjMmQ4NjRjNTA5YmE5ZjEzMmU3OTY2MzBlID0gJChgPGRpdiBpZD0iaHRtbF9mMzE1MjYyYzJkODY0YzUwOWJhOWYxMzJlNzk2NjMwZSIgc3R5bGU9IndpZHRoOiAxMDAuMCU7IGhlaWdodDogMTAwLjAlOyI+TWlsa2Zsb3dlciBQcmljZTogJCQgUmF0aW5nOjQuMDwvZGl2PmApWzBdOwogICAgICAgICAgICBwb3B1cF8wYjljYmNhMmEyNDI0NTYxODczODk3NjJlMmUzODAxMS5zZXRDb250ZW50KGh0bWxfZjMxNTI2MmMyZDg2NGM1MDliYTlmMTMyZTc5NjYzMGUpOwogICAgICAgIAoKICAgICAgICBtYXJrZXJfZDk1YTU3MzZhNTEzNDQxYWIzNDNhNjNmYjk4ZmRjZmYuYmluZFBvcHVwKHBvcHVwXzBiOWNiY2EyYTI0MjQ1NjE4NzM4OTc2MmUyZTM4MDExKQogICAgICAgIDsKCiAgICAgICAgCiAgICAKICAgIAogICAgICAgICAgICB2YXIgbWFya2VyX2IzZjY2MDg4ZTI2NjQwNGU4OWM3ZGQ1ZjRhZmMxNDk1ID0gTC5tYXJrZXIoCiAgICAgICAgICAgICAgICBbNDAuNzYzOTQsIC03My45ODgzMzk5XSwKICAgICAgICAgICAgICAgIHt9CiAgICAgICAgICAgICkuYWRkVG8obWFwXzE1M2U2YTMxZDk0ODQ4ZTRiY2ExNDY1MDkyMzBlOWNiKTsKICAgICAgICAKICAgIAogICAgICAgIHZhciBwb3B1cF85YTMyODdmYmFmZjE0ZWY0OGEzYTRjZjg1OTUyNjE0YyA9IEwucG9wdXAoeyJtYXhXaWR0aCI6ICIxMDAlIn0pOwoKICAgICAgICAKICAgICAgICAgICAgdmFyIGh0bWxfMGI5NmRjYTYxYmFjNGU1MGI1MTkzNzJjZTVkN2RmNDYgPSAkKGA8ZGl2IGlkPSJodG1sXzBiOTZkY2E2MWJhYzRlNTBiNTE5MzcyY2U1ZDdkZjQ2IiBzdHlsZT0id2lkdGg6IDEwMC4wJTsgaGVpZ2h0OiAxMDAuMCU7Ij5CIFNpZGUgUGl6emEgJiBXaW5lIEJhciBQcmljZTogJCQgUmF0aW5nOjQuNTwvZGl2PmApWzBdOwogICAgICAgICAgICBwb3B1cF85YTMyODdmYmFmZjE0ZWY0OGEzYTRjZjg1OTUyNjE0Yy5zZXRDb250ZW50KGh0bWxfMGI5NmRjYTYxYmFjNGU1MGI1MTkzNzJjZTVkN2RmNDYpOwogICAgICAgIAoKICAgICAgICBtYXJrZXJfYjNmNjYwODhlMjY2NDA0ZTg5YzdkZDVmNGFmYzE0OTUuYmluZFBvcHVwKHBvcHVwXzlhMzI4N2ZiYWZmMTRlZjQ4YTNhNGNmODU5NTI2MTRjKQogICAgICAgIDsKCiAgICAgICAgCiAgICAKICAgIAogICAgICAgICAgICB2YXIgbWFya2VyXzBkNWVmMWViZWEzNDQxMzQ5Mjg0ODIxMjQwMTU4NmJkID0gTC5tYXJrZXIoCiAgICAgICAgICAgICAgICBbNDAuNjgwNzAyLCAtNzMuOTY3NDU1XSwKICAgICAgICAgICAgICAgIHt9CiAgICAgICAgICAgICkuYWRkVG8obWFwXzE1M2U2YTMxZDk0ODQ4ZTRiY2ExNDY1MDkyMzBlOWNiKTsKICAgICAgICAKICAgIAogICAgICAgIHZhciBwb3B1cF8yMGVlZWIyZWMyNDY0MTBmODc0ODY4ZDRkODFiYmI1YyA9IEwucG9wdXAoeyJtYXhXaWR0aCI6ICIxMDAlIn0pOwoKICAgICAgICAKICAgICAgICAgICAgdmFyIGh0bWxfNmFhNTM4MmRiMTk4NDZlNTg1ZWNiZDgzYWFiNjM3ODQgPSAkKGA8ZGl2IGlkPSJodG1sXzZhYTUzODJkYjE5ODQ2ZTU4NWVjYmQ4M2FhYjYzNzg0IiBzdHlsZT0id2lkdGg6IDEwMC4wJTsgaGVpZ2h0OiAxMDAuMCU7Ij5Ccm9va2x5bidzIEhvbWVzbGljZSBQaXp6ZXJpYSBQcmljZTogJCBSYXRpbmc6NC41PC9kaXY+YClbMF07CiAgICAgICAgICAgIHBvcHVwXzIwZWVlYjJlYzI0NjQxMGY4NzQ4NjhkNGQ4MWJiYjVjLnNldENvbnRlbnQoaHRtbF82YWE1MzgyZGIxOTg0NmU1ODVlY2JkODNhYWI2Mzc4NCk7CiAgICAgICAgCgogICAgICAgIG1hcmtlcl8wZDVlZjFlYmVhMzQ0MTM0OTI4NDgyMTI0MDE1ODZiZC5iaW5kUG9wdXAocG9wdXBfMjBlZWViMmVjMjQ2NDEwZjg3NDg2OGQ0ZDgxYmJiNWMpCiAgICAgICAgOwoKICAgICAgICAKICAgIAogICAgCiAgICAgICAgICAgIHZhciBtYXJrZXJfM2I4MTk0YzlhNTQ4NDc1M2I3MDU5YjQ2ODk1ZGQ2MTIgPSBMLm1hcmtlcigKICAgICAgICAgICAgICAgIFs0MC43NTMzNCwgLTczLjkzNzE2XSwKICAgICAgICAgICAgICAgIHt9CiAgICAgICAgICAgICkuYWRkVG8obWFwXzE1M2U2YTMxZDk0ODQ4ZTRiY2ExNDY1MDkyMzBlOWNiKTsKICAgICAgICAKICAgIAogICAgICAgIHZhciBwb3B1cF9hYmY0Y2E5ODgwMWQ0NTYzYTgyNDNmMzhlMGRlNWVlMCA9IEwucG9wdXAoeyJtYXhXaWR0aCI6ICIxMDAlIn0pOwoKICAgICAgICAKICAgICAgICAgICAgdmFyIGh0bWxfYTQ3ZmQxZWMyYWVjNDc3ZTkyNDAwZmI3MmMwMTcwMGIgPSAkKGA8ZGl2IGlkPSJodG1sX2E0N2ZkMWVjMmFlYzQ3N2U5MjQwMGZiNzJjMDE3MDBiIiBzdHlsZT0id2lkdGg6IDEwMC4wJTsgaGVpZ2h0OiAxMDAuMCU7Ij5Hb29kZmVsbGFzIFBpenplcmlhIG9mIExJQyBQcmljZTogJCBSYXRpbmc6NC41PC9kaXY+YClbMF07CiAgICAgICAgICAgIHBvcHVwX2FiZjRjYTk4ODAxZDQ1NjNhODI0M2YzOGUwZGU1ZWUwLnNldENvbnRlbnQoaHRtbF9hNDdmZDFlYzJhZWM0NzdlOTI0MDBmYjcyYzAxNzAwYik7CiAgICAgICAgCgogICAgICAgIG1hcmtlcl8zYjgxOTRjOWE1NDg0NzUzYjcwNTliNDY4OTVkZDYxMi5iaW5kUG9wdXAocG9wdXBfYWJmNGNhOTg4MDFkNDU2M2E4MjQzZjM4ZTBkZTVlZTApCiAgICAgICAgOwoKICAgICAgICAKICAgIAogICAgCiAgICAgICAgICAgIHZhciBtYXJrZXJfYWM4YjY2YmQzYjhmNDU2YjllYWRkNzU0NWU3MWJhOWYgPSBMLm1hcmtlcigKICAgICAgICAgICAgICAgIFs0MC43NTY3NCwgLTczLjk2NDMxXSwKICAgICAgICAgICAgICAgIHt9CiAgICAgICAgICAgICkuYWRkVG8obWFwXzE1M2U2YTMxZDk0ODQ4ZTRiY2ExNDY1MDkyMzBlOWNiKTsKICAgICAgICAKICAgIAogICAgICAgIHZhciBwb3B1cF8zOGNhOTIxMDJkOTc0NmViYTBmNmY1YmE1MjdjZTllNiA9IEwucG9wdXAoeyJtYXhXaWR0aCI6ICIxMDAlIn0pOwoKICAgICAgICAKICAgICAgICAgICAgdmFyIGh0bWxfMjEwMjJlNDMwOTM2NDE3ZGE0MGE1YjgyNmQzMTI3YjAgPSAkKGA8ZGl2IGlkPSJodG1sXzIxMDIyZTQzMDkzNjQxN2RhNDBhNWI4MjZkMzEyN2IwIiBzdHlsZT0id2lkdGg6IDEwMC4wJTsgaGVpZ2h0OiAxMDAuMCU7Ij5Tb2ZpYSBQaXp6YSBTaG9wcGUgUHJpY2U6ICQgUmF0aW5nOjQuNTwvZGl2PmApWzBdOwogICAgICAgICAgICBwb3B1cF8zOGNhOTIxMDJkOTc0NmViYTBmNmY1YmE1MjdjZTllNi5zZXRDb250ZW50KGh0bWxfMjEwMjJlNDMwOTM2NDE3ZGE0MGE1YjgyNmQzMTI3YjApOwogICAgICAgIAoKICAgICAgICBtYXJrZXJfYWM4YjY2YmQzYjhmNDU2YjllYWRkNzU0NWU3MWJhOWYuYmluZFBvcHVwKHBvcHVwXzM4Y2E5MjEwMmQ5NzQ2ZWJhMGY2ZjViYTUyN2NlOWU2KQogICAgICAgIDsKCiAgICAgICAgCiAgICAKICAgIAogICAgICAgICAgICB2YXIgbWFya2VyXzU2NGZhNzU2Y2Y3YzQzZWI5ZDljMGEyN2QzYzM1MTgyID0gTC5tYXJrZXIoCiAgICAgICAgICAgICAgICBbNDAuNzM5MjcsIC03NC4wMDMyMV0sCiAgICAgICAgICAgICAgICB7fQogICAgICAgICAgICApLmFkZFRvKG1hcF8xNTNlNmEzMWQ5NDg0OGU0YmNhMTQ2NTA5MjMwZTljYik7CiAgICAgICAgCiAgICAKICAgICAgICB2YXIgcG9wdXBfZDYyMzJlZjBhNDIxNDc4OGJlMzQyYzIxNTIxYWNjNmUgPSBMLnBvcHVwKHsibWF4V2lkdGgiOiAiMTAwJSJ9KTsKCiAgICAgICAgCiAgICAgICAgICAgIHZhciBodG1sX2JiZThlYzI4MWNhZjQxZTM4MzQwZGUyYjhjNGRiZWQwID0gJChgPGRpdiBpZD0iaHRtbF9iYmU4ZWMyODFjYWY0MWUzODM0MGRlMmI4YzRkYmVkMCIgc3R5bGU9IndpZHRoOiAxMDAuMCU7IGhlaWdodDogMTAwLjAlOyI+VmlsbGFnZSBQaXp6YSBQcmljZTogJCBSYXRpbmc6NC4wPC9kaXY+YClbMF07CiAgICAgICAgICAgIHBvcHVwX2Q2MjMyZWYwYTQyMTQ3ODhiZTM0MmMyMTUyMWFjYzZlLnNldENvbnRlbnQoaHRtbF9iYmU4ZWMyODFjYWY0MWUzODM0MGRlMmI4YzRkYmVkMCk7CiAgICAgICAgCgogICAgICAgIG1hcmtlcl81NjRmYTc1NmNmN2M0M2ViOWQ5YzBhMjdkM2MzNTE4Mi5iaW5kUG9wdXAocG9wdXBfZDYyMzJlZjBhNDIxNDc4OGJlMzQyYzIxNTIxYWNjNmUpCiAgICAgICAgOwoKICAgICAgICAKICAgIAogICAgCiAgICAgICAgICAgIHZhciBtYXJrZXJfZWIwMTNjZDA3MWViNDY5NWFmZWRkMGRjMTg2ZmE0M2MgPSBMLm1hcmtlcigKICAgICAgICAgICAgICAgIFs0MC43MjAxMDQsIC03NC4wMDM1NzhdLAogICAgICAgICAgICAgICAge30KICAgICAgICAgICAgKS5hZGRUbyhtYXBfMTUzZTZhMzFkOTQ4NDhlNGJjYTE0NjUwOTIzMGU5Y2IpOwogICAgICAgIAogICAgCiAgICAgICAgdmFyIHBvcHVwXzcwNDdkYzViZWI5ZjRhY2Q4ZmIyMjdmNmUwNThmNTM4ID0gTC5wb3B1cCh7Im1heFdpZHRoIjogIjEwMCUifSk7CgogICAgICAgIAogICAgICAgICAgICB2YXIgaHRtbF80MmE1YzdjMDA2ZDY0MmVlOTA5Njk4MjExYTBjY2Y5ZCA9ICQoYDxkaXYgaWQ9Imh0bWxfNDJhNWM3YzAwNmQ2NDJlZTkwOTY5ODIxMWEwY2NmOWQiIHN0eWxlPSJ3aWR0aDogMTAwLjAlOyBoZWlnaHQ6IDEwMC4wJTsiPlNhbHVnZ2kncyBQcmljZTogJCQgUmF0aW5nOjQuMDwvZGl2PmApWzBdOwogICAgICAgICAgICBwb3B1cF83MDQ3ZGM1YmViOWY0YWNkOGZiMjI3ZjZlMDU4ZjUzOC5zZXRDb250ZW50KGh0bWxfNDJhNWM3YzAwNmQ2NDJlZTkwOTY5ODIxMWEwY2NmOWQpOwogICAgICAgIAoKICAgICAgICBtYXJrZXJfZWIwMTNjZDA3MWViNDY5NWFmZWRkMGRjMTg2ZmE0M2MuYmluZFBvcHVwKHBvcHVwXzcwNDdkYzViZWI5ZjRhY2Q4ZmIyMjdmNmUwNThmNTM4KQogICAgICAgIDsKCiAgICAgICAgCiAgICAKICAgIAogICAgICAgICAgICB2YXIgbWFya2VyX2RjMDRhMDQ5Y2ZkYzRiNGFiNTFiMDA2N2IyMzU5MmU0ID0gTC5tYXJrZXIoCiAgICAgICAgICAgICAgICBbNDAuNzUyMjUsIC03My45ODA2MV0sCiAgICAgICAgICAgICAgICB7fQogICAgICAgICAgICApLmFkZFRvKG1hcF8xNTNlNmEzMWQ5NDg0OGU0YmNhMTQ2NTA5MjMwZTljYik7CiAgICAgICAgCiAgICAKICAgICAgICB2YXIgcG9wdXBfN2MwYWNjMWQzZGVlNGFkNjhhMjRmN2VhMDJiMWZhZmMgPSBMLnBvcHVwKHsibWF4V2lkdGgiOiAiMTAwJSJ9KTsKCiAgICAgICAgCiAgICAgICAgICAgIHZhciBodG1sX2ZhOTI0NWE0OGUzNjRmNjZiNmNlYjRhYTE4NzM0NjU1ID0gJChgPGRpdiBpZD0iaHRtbF9mYTkyNDVhNDhlMzY0ZjY2YjZjZWI0YWExODczNDY1NSIgc3R5bGU9IndpZHRoOiAxMDAuMCU7IGhlaWdodDogMTAwLjAlOyI+U3RvbmUgQnJpZGdlIFBpenphICYgU2FsYWQgUHJpY2U6ICQkIFJhdGluZzo0LjU8L2Rpdj5gKVswXTsKICAgICAgICAgICAgcG9wdXBfN2MwYWNjMWQzZGVlNGFkNjhhMjRmN2VhMDJiMWZhZmMuc2V0Q29udGVudChodG1sX2ZhOTI0NWE0OGUzNjRmNjZiNmNlYjRhYTE4NzM0NjU1KTsKICAgICAgICAKCiAgICAgICAgbWFya2VyX2RjMDRhMDQ5Y2ZkYzRiNGFiNTFiMDA2N2IyMzU5MmU0LmJpbmRQb3B1cChwb3B1cF83YzBhY2MxZDNkZWU0YWQ2OGEyNGY3ZWEwMmIxZmFmYykKICAgICAgICA7CgogICAgICAgIAogICAgCiAgICAKICAgICAgICAgICAgdmFyIG1hcmtlcl85Nzk3NTM4NWY1MjI0MWJiODI5ZTAxM2VjMWU3NGY1YSA9IEwubWFya2VyKAogICAgICAgICAgICAgICAgWzQwLjY5MDU1NzAzMTA4ODIsIC03My45OTU0NzkyODcyOTA5XSwKICAgICAgICAgICAgICAgIHt9CiAgICAgICAgICAgICkuYWRkVG8obWFwXzE1M2U2YTMxZDk0ODQ4ZTRiY2ExNDY1MDkyMzBlOWNiKTsKICAgICAgICAKICAgIAogICAgICAgIHZhciBwb3B1cF8yOWI0ODUwZmEwZWQ0ZjlmOGY5NjhlYWExNTIyYWQyYyA9IEwucG9wdXAoeyJtYXhXaWR0aCI6ICIxMDAlIn0pOwoKICAgICAgICAKICAgICAgICAgICAgdmFyIGh0bWxfNWU2NjdlNjIzNzMyNDg5MmIyYzAxNzc2NTA2ZWIyNWQgPSAkKGA8ZGl2IGlkPSJodG1sXzVlNjY3ZTYyMzczMjQ4OTJiMmMwMTc3NjUwNmViMjVkIiBzdHlsZT0id2lkdGg6IDEwMC4wJTsgaGVpZ2h0OiAxMDAuMCU7Ij5CcmFkbyBQcmljZTogJCQgUmF0aW5nOjQuMDwvZGl2PmApWzBdOwogICAgICAgICAgICBwb3B1cF8yOWI0ODUwZmEwZWQ0ZjlmOGY5NjhlYWExNTIyYWQyYy5zZXRDb250ZW50KGh0bWxfNWU2NjdlNjIzNzMyNDg5MmIyYzAxNzc2NTA2ZWIyNWQpOwogICAgICAgIAoKICAgICAgICBtYXJrZXJfOTc5NzUzODVmNTIyNDFiYjgyOWUwMTNlYzFlNzRmNWEuYmluZFBvcHVwKHBvcHVwXzI5YjQ4NTBmYTBlZDRmOWY4Zjk2OGVhYTE1MjJhZDJjKQogICAgICAgIDsKCiAgICAgICAgCiAgICAKICAgIAogICAgICAgICAgICB2YXIgbWFya2VyXzQ3NzdiYWUxMTBlODQwNDQ4NTIxMjU4NWJhYTQ5MGI2ID0gTC5tYXJrZXIoCiAgICAgICAgICAgICAgICBbNDAuNjgzNzQwNywgLTczLjkzNTM0NzNdLAogICAgICAgICAgICAgICAge30KICAgICAgICAgICAgKS5hZGRUbyhtYXBfMTUzZTZhMzFkOTQ4NDhlNGJjYTE0NjUwOTIzMGU5Y2IpOwogICAgICAgIAogICAgCiAgICAgICAgdmFyIHBvcHVwXzAzYzYxZjEzMDJiNDQ2OTY5MjI3OGQ0MTRlZjk3OGY4ID0gTC5wb3B1cCh7Im1heFdpZHRoIjogIjEwMCUifSk7CgogICAgICAgIAogICAgICAgICAgICB2YXIgaHRtbF9lY2NhNDhkZTYxYWY0N2VlOTQ4ODU4MGE1YTI4OTkxNyA9ICQoYDxkaXYgaWQ9Imh0bWxfZWNjYTQ4ZGU2MWFmNDdlZTk0ODg1ODBhNWEyODk5MTciIHN0eWxlPSJ3aWR0aDogMTAwLjAlOyBoZWlnaHQ6IDEwMC4wJTsiPlNhcmFnaGluYSBQcmljZTogJCQgUmF0aW5nOjQuMDwvZGl2PmApWzBdOwogICAgICAgICAgICBwb3B1cF8wM2M2MWYxMzAyYjQ0Njk2OTIyNzhkNDE0ZWY5NzhmOC5zZXRDb250ZW50KGh0bWxfZWNjYTQ4ZGU2MWFmNDdlZTk0ODg1ODBhNWEyODk5MTcpOwogICAgICAgIAoKICAgICAgICBtYXJrZXJfNDc3N2JhZTExMGU4NDA0NDg1MjEyNTg1YmFhNDkwYjYuYmluZFBvcHVwKHBvcHVwXzAzYzYxZjEzMDJiNDQ2OTY5MjI3OGQ0MTRlZjk3OGY4KQogICAgICAgIDsKCiAgICAgICAgCiAgICAKICAgIAogICAgICAgICAgICB2YXIgbWFya2VyXzY1Njk0MmIxOTk2YTRkZjg4ODY0OWU5ZDM4NWI2MDAyID0gTC5tYXJrZXIoCiAgICAgICAgICAgICAgICBbNDAuNzIwNDcxNiwgLTczLjk4OTMyNjNdLAogICAgICAgICAgICAgICAge30KICAgICAgICAgICAgKS5hZGRUbyhtYXBfMTUzZTZhMzFkOTQ4NDhlNGJjYTE0NjUwOTIzMGU5Y2IpOwogICAgICAgIAogICAgCiAgICAgICAgdmFyIHBvcHVwX2VjMDFmMDQyZWVmNjQ2MDNiY2IzMGJjMWU1MzA3MWE3ID0gTC5wb3B1cCh7Im1heFdpZHRoIjogIjEwMCUifSk7CgogICAgICAgIAogICAgICAgICAgICB2YXIgaHRtbF8zZDRiZGZiMjk5OGM0ZjUwODc5OTI2MjFkZjE5NGM0YiA9ICQoYDxkaXYgaWQ9Imh0bWxfM2Q0YmRmYjI5OThjNGY1MDg3OTkyNjIxZGYxOTRjNGIiIHN0eWxlPSJ3aWR0aDogMTAwLjAlOyBoZWlnaHQ6IDEwMC4wJTsiPlNhdWNlIFByaWNlOiAkJCBSYXRpbmc6NC4wPC9kaXY+YClbMF07CiAgICAgICAgICAgIHBvcHVwX2VjMDFmMDQyZWVmNjQ2MDNiY2IzMGJjMWU1MzA3MWE3LnNldENvbnRlbnQoaHRtbF8zZDRiZGZiMjk5OGM0ZjUwODc5OTI2MjFkZjE5NGM0Yik7CiAgICAgICAgCgogICAgICAgIG1hcmtlcl82NTY5NDJiMTk5NmE0ZGY4ODg2NDllOWQzODViNjAwMi5iaW5kUG9wdXAocG9wdXBfZWMwMWYwNDJlZWY2NDYwM2JjYjMwYmMxZTUzMDcxYTcpCiAgICAgICAgOwoKICAgICAgICAKICAgIAogICAgCiAgICAgICAgICAgIHZhciBtYXJrZXJfYzIyOThjYWJlZDAyNDk3Nzk2YmQ2Njc3YWU0ZTE5MzggPSBMLm1hcmtlcigKICAgICAgICAgICAgICAgIFs0MC43MzU5NiwgLTc0LjAwMDkzXSwKICAgICAgICAgICAgICAgIHt9CiAgICAgICAgICAgICkuYWRkVG8obWFwXzE1M2U2YTMxZDk0ODQ4ZTRiY2ExNDY1MDkyMzBlOWNiKTsKICAgICAgICAKICAgIAogICAgICAgIHZhciBwb3B1cF81NWM5YWEyYTU5MmE0ZDBlOGNlMTEzNDVhNjYyNDFiYiA9IEwucG9wdXAoeyJtYXhXaWR0aCI6ICIxMDAlIn0pOwoKICAgICAgICAKICAgICAgICAgICAgdmFyIGh0bWxfMzY4M2FmMDFlODhjNGQ2YjgwN2M5M2ZiYTJhYTY0MzEgPSAkKGA8ZGl2IGlkPSJodG1sXzM2ODNhZjAxZTg4YzRkNmI4MDdjOTNmYmEyYWE2NDMxIiBzdHlsZT0id2lkdGg6IDEwMC4wJTsgaGVpZ2h0OiAxMDAuMCU7Ij5Sb2V5J3MgUHJpY2U6ICQkIFJhdGluZzo0LjA8L2Rpdj5gKVswXTsKICAgICAgICAgICAgcG9wdXBfNTVjOWFhMmE1OTJhNGQwZThjZTExMzQ1YTY2MjQxYmIuc2V0Q29udGVudChodG1sXzM2ODNhZjAxZTg4YzRkNmI4MDdjOTNmYmEyYWE2NDMxKTsKICAgICAgICAKCiAgICAgICAgbWFya2VyX2MyMjk4Y2FiZWQwMjQ5Nzc5NmJkNjY3N2FlNGUxOTM4LmJpbmRQb3B1cChwb3B1cF81NWM5YWEyYTU5MmE0ZDBlOGNlMTEzNDVhNjYyNDFiYikKICAgICAgICA7CgogICAgICAgIAogICAgCiAgICAKICAgICAgICAgICAgdmFyIG1hcmtlcl84MTRjNDgzMTc1OTU0N2U0YTQwOGFmZWNkZmI2OGVhZCA9IEwubWFya2VyKAogICAgICAgICAgICAgICAgWzQwLjcwMzEzNywgLTczLjk5MzYwOF0sCiAgICAgICAgICAgICAgICB7fQogICAgICAgICAgICApLmFkZFRvKG1hcF8xNTNlNmEzMWQ5NDg0OGU0YmNhMTQ2NTA5MjMwZTljYik7CiAgICAgICAgCiAgICAKICAgICAgICB2YXIgcG9wdXBfZTUzMjI4YzY3YThlNGU1ZDgwYTM2YjZjZjgyZDRiMzQgPSBMLnBvcHVwKHsibWF4V2lkdGgiOiAiMTAwJSJ9KTsKCiAgICAgICAgCiAgICAgICAgICAgIHZhciBodG1sX2E5MzQyZGYxN2IyYTQ0ZTdhN2FjMjhmYzc1OTIwZGZiID0gJChgPGRpdiBpZD0iaHRtbF9hOTM0MmRmMTdiMmE0NGU3YTdhYzI4ZmM3NTkyMGRmYiIgc3R5bGU9IndpZHRoOiAxMDAuMCU7IGhlaWdodDogMTAwLjAlOyI+SWduYXppbydzIFByaWNlOiAkJCBSYXRpbmc6My41PC9kaXY+YClbMF07CiAgICAgICAgICAgIHBvcHVwX2U1MzIyOGM2N2E4ZTRlNWQ4MGEzNmI2Y2Y4MmQ0YjM0LnNldENvbnRlbnQoaHRtbF9hOTM0MmRmMTdiMmE0NGU3YTdhYzI4ZmM3NTkyMGRmYik7CiAgICAgICAgCgogICAgICAgIG1hcmtlcl84MTRjNDgzMTc1OTU0N2U0YTQwOGFmZWNkZmI2OGVhZC5iaW5kUG9wdXAocG9wdXBfZTUzMjI4YzY3YThlNGU1ZDgwYTM2YjZjZjgyZDRiMzQpCiAgICAgICAgOwoKICAgICAgICAKICAgIAogICAgCiAgICAgICAgICAgIHZhciBtYXJrZXJfMDlhMzNhYjY3MDcyNGI3NGExZDZlYTU0ZmEwNjViOGIgPSBMLm1hcmtlcigKICAgICAgICAgICAgICAgIFs0MC43MjY5MywgLTczLjk5MzE5XSwKICAgICAgICAgICAgICAgIHt9CiAgICAgICAgICAgICkuYWRkVG8obWFwXzE1M2U2YTMxZDk0ODQ4ZTRiY2ExNDY1MDkyMzBlOWNiKTsKICAgICAgICAKICAgIAogICAgICAgIHZhciBwb3B1cF84ZTFmYzQ0ZGUzMDU0NTBjYmZlYzFiMjJkNTZhODNlMyA9IEwucG9wdXAoeyJtYXhXaWR0aCI6ICIxMDAlIn0pOwoKICAgICAgICAKICAgICAgICAgICAgdmFyIGh0bWxfOGY0NWNjZWIxYzJjNGNlOGJlNWQ4YmU4MWY1NzhkNWUgPSAkKGA8ZGl2IGlkPSJodG1sXzhmNDVjY2ViMWMyYzRjZThiZTVkOGJlODFmNTc4ZDVlIiBzdHlsZT0id2lkdGg6IDEwMC4wJTsgaGVpZ2h0OiAxMDAuMCU7Ij5WaWMncyBQcmljZTogJCQgUmF0aW5nOjQuMDwvZGl2PmApWzBdOwogICAgICAgICAgICBwb3B1cF84ZTFmYzQ0ZGUzMDU0NTBjYmZlYzFiMjJkNTZhODNlMy5zZXRDb250ZW50KGh0bWxfOGY0NWNjZWIxYzJjNGNlOGJlNWQ4YmU4MWY1NzhkNWUpOwogICAgICAgIAoKICAgICAgICBtYXJrZXJfMDlhMzNhYjY3MDcyNGI3NGExZDZlYTU0ZmEwNjViOGIuYmluZFBvcHVwKHBvcHVwXzhlMWZjNDRkZTMwNTQ1MGNiZmVjMWIyMmQ1NmE4M2UzKQogICAgICAgIDsKCiAgICAgICAgCiAgICAKICAgIAogICAgICAgICAgICB2YXIgbWFya2VyXzViZTI1ZGZiZjdiZDRiNDJhZDdlYWFjMTY0OWI0NDhmID0gTC5tYXJrZXIoCiAgICAgICAgICAgICAgICBbNDAuNzEwNTU5LCAtNzMuOTYzNDYyXSwKICAgICAgICAgICAgICAgIHt9CiAgICAgICAgICAgICkuYWRkVG8obWFwXzE1M2U2YTMxZDk0ODQ4ZTRiY2ExNDY1MDkyMzBlOWNiKTsKICAgICAgICAKICAgIAogICAgICAgIHZhciBwb3B1cF9hNDUwMzVhMjk2YjQ0OWQzOTQ1NWRhZjcwYjBmNDMwYiA9IEwucG9wdXAoeyJtYXhXaWR0aCI6ICIxMDAlIn0pOwoKICAgICAgICAKICAgICAgICAgICAgdmFyIGh0bWxfODdiNjNiZjM1YzcyNGFmZDk2ODlhMDlmZDM5YmVjMTggPSAkKGA8ZGl2IGlkPSJodG1sXzg3YjYzYmYzNWM3MjRhZmQ5Njg5YTA5ZmQzOWJlYzE4IiBzdHlsZT0id2lkdGg6IDEwMC4wJTsgaGVpZ2h0OiAxMDAuMCU7Ij5Nb3RvcmlubyBQaXp6ZXJpYSBOYXBvbGV0YW5hIFByaWNlOiAkJCBSYXRpbmc6NC4wPC9kaXY+YClbMF07CiAgICAgICAgICAgIHBvcHVwX2E0NTAzNWEyOTZiNDQ5ZDM5NDU1ZGFmNzBiMGY0MzBiLnNldENvbnRlbnQoaHRtbF84N2I2M2JmMzVjNzI0YWZkOTY4OWEwOWZkMzliZWMxOCk7CiAgICAgICAgCgogICAgICAgIG1hcmtlcl81YmUyNWRmYmY3YmQ0YjQyYWQ3ZWFhYzE2NDliNDQ4Zi5iaW5kUG9wdXAocG9wdXBfYTQ1MDM1YTI5NmI0NDlkMzk0NTVkYWY3MGIwZjQzMGIpCiAgICAgICAgOwoKICAgICAgICAKICAgIAogICAgCiAgICAgICAgICAgIHZhciBtYXJrZXJfZDcwYTc2ZjM4MjUzNDMwM2FlMGFlOGFjNzY1NmU5ZDggPSBMLm1hcmtlcigKICAgICAgICAgICAgICAgIFs0MC43NTk0OTQ1MTE1NTE4MzYsIC03My45ODY3MzQ1MTk2MjYzOF0sCiAgICAgICAgICAgICAgICB7fQogICAgICAgICAgICApLmFkZFRvKG1hcF8xNTNlNmEzMWQ5NDg0OGU0YmNhMTQ2NTA5MjMwZTljYik7CiAgICAgICAgCiAgICAKICAgICAgICB2YXIgcG9wdXBfNzgxNmExYTAyNWZiNGY1ZGI3NTkwMTEwYjZlMDk5MDcgPSBMLnBvcHVwKHsibWF4V2lkdGgiOiAiMTAwJSJ9KTsKCiAgICAgICAgCiAgICAgICAgICAgIHZhciBodG1sX2ZhN2I4NjRkZGRkYjRkMmZiNmFlYzM1MzFjNWE2OTczID0gJChgPGRpdiBpZD0iaHRtbF9mYTdiODY0ZGRkZGI0ZDJmYjZhZWMzNTMxYzVhNjk3MyIgc3R5bGU9IndpZHRoOiAxMDAuMCU7IGhlaWdodDogMTAwLjAlOyI+UGF0emVyaWEgUGVyZmVjdCBQaXp6YSBQcmljZTogJCBSYXRpbmc6NC4wPC9kaXY+YClbMF07CiAgICAgICAgICAgIHBvcHVwXzc4MTZhMWEwMjVmYjRmNWRiNzU5MDExMGI2ZTA5OTA3LnNldENvbnRlbnQoaHRtbF9mYTdiODY0ZGRkZGI0ZDJmYjZhZWMzNTMxYzVhNjk3Myk7CiAgICAgICAgCgogICAgICAgIG1hcmtlcl9kNzBhNzZmMzgyNTM0MzAzYWUwYWU4YWM3NjU2ZTlkOC5iaW5kUG9wdXAocG9wdXBfNzgxNmExYTAyNWZiNGY1ZGI3NTkwMTEwYjZlMDk5MDcpCiAgICAgICAgOwoKICAgICAgICAKICAgIAogICAgCiAgICAgICAgICAgIHZhciBtYXJrZXJfMWZhZjA5YmM3MDEzNGI1MjkzN2UxNThlMTA2MGNkNGEgPSBMLm1hcmtlcigKICAgICAgICAgICAgICAgIFs0MC43MTQzLCAtNzMuOTgxNzJdLAogICAgICAgICAgICAgICAge30KICAgICAgICAgICAgKS5hZGRUbyhtYXBfMTUzZTZhMzFkOTQ4NDhlNGJjYTE0NjUwOTIzMGU5Y2IpOwogICAgICAgIAogICAgCiAgICAgICAgdmFyIHBvcHVwX2JhMTRlZTMyMzUwNTRlYWI5ZjNiMzQ0YjRiMWQxYTk4ID0gTC5wb3B1cCh7Im1heFdpZHRoIjogIjEwMCUifSk7CgogICAgICAgIAogICAgICAgICAgICB2YXIgaHRtbF84NzE0MDQwODA3MGQ0MDUzOWYyNDcxMThkMWZmN2I5MSA9ICQoYDxkaXYgaWQ9Imh0bWxfODcxNDA0MDgwNzBkNDA1MzlmMjQ3MTE4ZDFmZjdiOTEiIHN0eWxlPSJ3aWR0aDogMTAwLjAlOyBoZWlnaHQ6IDEwMC4wJTsiPkFscGhvbnNvJ3MgUGl6emVyaWEgJiBUcmF0dG9yaWEgUHJpY2U6ICQgUmF0aW5nOjQuMDwvZGl2PmApWzBdOwogICAgICAgICAgICBwb3B1cF9iYTE0ZWUzMjM1MDU0ZWFiOWYzYjM0NGI0YjFkMWE5OC5zZXRDb250ZW50KGh0bWxfODcxNDA0MDgwNzBkNDA1MzlmMjQ3MTE4ZDFmZjdiOTEpOwogICAgICAgIAoKICAgICAgICBtYXJrZXJfMWZhZjA5YmM3MDEzNGI1MjkzN2UxNThlMTA2MGNkNGEuYmluZFBvcHVwKHBvcHVwX2JhMTRlZTMyMzUwNTRlYWI5ZjNiMzQ0YjRiMWQxYTk4KQogICAgICAgIDsKCiAgICAgICAgCiAgICAKPC9zY3JpcHQ+ onload=\"this.contentDocument.open();this.contentDocument.write(atob(this.getAttribute('data-html')));this.contentDocument.close();\" allowfullscreen webkitallowfullscreen mozallowfullscreen></iframe></div></div>"
      ],
      "text/plain": [
       "<folium.folium.Map at 0x7fc70f6999a0>"
      ]
     },
     "execution_count": 31,
     "metadata": {},
     "output_type": "execute_result"
    }
   ],
   "source": [
    "# Replace None with appropriate code\n",
    "\n",
    "# Import the library\n",
    "import folium\n",
    "\n",
    "# Set up center latitude and longitude\n",
    "center_lat = full_dataset[0][\"latitude\"]\n",
    "center_long = full_dataset[0][\"longitude\"]\n",
    "\n",
    "# Initialize map with center lat and long\n",
    "yelp_map = folium.Map([center_lat, center_long], zoom_start=12)\n",
    "\n",
    "# Adjust this limit to see more or fewer businesses\n",
    "limit=100\n",
    "\n",
    "for business in full_dataset[:limit]:\n",
    "    # Extract information about business\n",
    "    lat = business[\"latitude\"]\n",
    "    long = business[\"longitude\"]\n",
    "    name = business[\"name\"]\n",
    "    rating = business[\"rating\"]\n",
    "    price = business[\"price\"]\n",
    "    details = \"{}\\nPrice: {} Rating:{}\".format(name,price,rating)\n",
    "    \n",
    "    # Create popup with relevant details\n",
    "    popup = folium.Popup(details)\n",
    "    \n",
    "    # Create marker with relevant lat/long and popup\n",
    "    marker = folium.Marker([lat, long], popup=popup)\n",
    "    \n",
    "    marker.add_to(yelp_map)\n",
    "    \n",
    "yelp_map"
   ]
  },
  {
   "cell_type": "markdown",
   "metadata": {},
   "source": [
    "## Summary\n",
    "\n",
    "Nice work! In this lab, you've made multiple API calls to Yelp in order to paginate through a results set, performing some basic exploratory analysis and then creating a nice interactive map to display the results using Folium! Well done!"
   ]
  }
 ],
 "metadata": {
  "kernelspec": {
   "display_name": "Python 3",
   "language": "python",
   "name": "python3"
  },
  "language_info": {
   "codemirror_mode": {
    "name": "ipython",
    "version": 3
   },
   "file_extension": ".py",
   "mimetype": "text/x-python",
   "name": "python",
   "nbconvert_exporter": "python",
   "pygments_lexer": "ipython3",
   "version": "3.8.5"
  },
  "toc": {
   "base_numbering": 1,
   "nav_menu": {},
   "number_sections": true,
   "sideBar": true,
   "skip_h1_title": false,
   "title_cell": "Table of Contents",
   "title_sidebar": "Contents",
   "toc_cell": false,
   "toc_position": {},
   "toc_section_display": true,
   "toc_window_display": false
  }
 },
 "nbformat": 4,
 "nbformat_minor": 2
}
